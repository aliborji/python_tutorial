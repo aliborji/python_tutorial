{
 "cells": [
  {
   "cell_type": "markdown",
   "metadata": {},
   "source": [
    "borrowd from https://github.com/cyk1337/PyTips"
   ]
  },
  {
   "cell_type": "markdown",
   "metadata": {},
   "source": [
    "# Queue"
   ]
  },
  {
   "cell_type": "code",
   "execution_count": 2,
   "metadata": {},
   "outputs": [
    {
     "name": "stdout",
     "output_type": "stream",
     "text": [
      "True\n",
      "False\n",
      "False\n"
     ]
    }
   ],
   "source": [
    "from queue import Queue # queue, FIFO\n",
    "from queue import LifoQueue # stack, LIFO\n",
    "from queue import PriorityQueue # priority queue (min heap)\n",
    "\n",
    "q = Queue() # FIFO, size not specified\n",
    "print(q.empty())\n",
    "\n",
    "\n",
    "# queue: .put(), .get()\n",
    "q.put(\"t1\")\n",
    "q.put(\"t2\")\n",
    "q.put(\"t3\")\n",
    "\n",
    "print(q.empty())\n",
    "print(q.full())\n"
   ]
  },
  {
   "cell_type": "code",
   "execution_count": null,
   "metadata": {},
   "outputs": [],
   "source": []
  },
  {
   "cell_type": "code",
   "execution_count": 3,
   "metadata": {},
   "outputs": [
    {
     "data": {
      "text/plain": [
       "deque(['t1', 't2', 't3'])"
      ]
     },
     "execution_count": 3,
     "metadata": {},
     "output_type": "execute_result"
    }
   ],
   "source": [
    "q.queue\n"
   ]
  },
  {
   "cell_type": "code",
   "execution_count": 4,
   "metadata": {},
   "outputs": [
    {
     "data": {
      "text/plain": [
       "'t1'"
      ]
     },
     "execution_count": 4,
     "metadata": {},
     "output_type": "execute_result"
    }
   ],
   "source": [
    "q.get() # LIFO\n"
   ]
  },
  {
   "cell_type": "code",
   "execution_count": 5,
   "metadata": {},
   "outputs": [
    {
     "data": {
      "text/plain": [
       "True"
      ]
     },
     "execution_count": 5,
     "metadata": {},
     "output_type": "execute_result"
    }
   ],
   "source": [
    "q1 = Queue(3) # size specified\n",
    "for i in range(3):\n",
    "    q1.put(i)\n",
    "q1.full()"
   ]
  },
  {
   "cell_type": "code",
   "execution_count": 6,
   "metadata": {},
   "outputs": [
    {
     "ename": "Full",
     "evalue": "",
     "output_type": "error",
     "traceback": [
      "\u001b[0;31m---------------------------------------------------------------------------\u001b[0m",
      "\u001b[0;31mFull\u001b[0m                                      Traceback (most recent call last)",
      "\u001b[0;32m<ipython-input-6-8051a3bef95f>\u001b[0m in \u001b[0;36m<module>\u001b[0;34m\u001b[0m\n\u001b[0;32m----> 1\u001b[0;31m \u001b[0mq1\u001b[0m\u001b[0;34m.\u001b[0m\u001b[0mput\u001b[0m\u001b[0;34m(\u001b[0m\u001b[0;36m4\u001b[0m\u001b[0;34m,\u001b[0m \u001b[0mblock\u001b[0m\u001b[0;34m=\u001b[0m\u001b[0;32mFalse\u001b[0m\u001b[0;34m)\u001b[0m \u001b[0;31m# q1 is full, block\u001b[0m\u001b[0;34m\u001b[0m\u001b[0;34m\u001b[0m\u001b[0m\n\u001b[0m",
      "\u001b[0;32m~/anaconda3/lib/python3.7/queue.py\u001b[0m in \u001b[0;36mput\u001b[0;34m(self, item, block, timeout)\u001b[0m\n\u001b[1;32m    134\u001b[0m                 \u001b[0;32mif\u001b[0m \u001b[0;32mnot\u001b[0m \u001b[0mblock\u001b[0m\u001b[0;34m:\u001b[0m\u001b[0;34m\u001b[0m\u001b[0;34m\u001b[0m\u001b[0m\n\u001b[1;32m    135\u001b[0m                     \u001b[0;32mif\u001b[0m \u001b[0mself\u001b[0m\u001b[0;34m.\u001b[0m\u001b[0m_qsize\u001b[0m\u001b[0;34m(\u001b[0m\u001b[0;34m)\u001b[0m \u001b[0;34m>=\u001b[0m \u001b[0mself\u001b[0m\u001b[0;34m.\u001b[0m\u001b[0mmaxsize\u001b[0m\u001b[0;34m:\u001b[0m\u001b[0;34m\u001b[0m\u001b[0;34m\u001b[0m\u001b[0m\n\u001b[0;32m--> 136\u001b[0;31m                         \u001b[0;32mraise\u001b[0m \u001b[0mFull\u001b[0m\u001b[0;34m\u001b[0m\u001b[0;34m\u001b[0m\u001b[0m\n\u001b[0m\u001b[1;32m    137\u001b[0m                 \u001b[0;32melif\u001b[0m \u001b[0mtimeout\u001b[0m \u001b[0;32mis\u001b[0m \u001b[0;32mNone\u001b[0m\u001b[0;34m:\u001b[0m\u001b[0;34m\u001b[0m\u001b[0;34m\u001b[0m\u001b[0m\n\u001b[1;32m    138\u001b[0m                     \u001b[0;32mwhile\u001b[0m \u001b[0mself\u001b[0m\u001b[0;34m.\u001b[0m\u001b[0m_qsize\u001b[0m\u001b[0;34m(\u001b[0m\u001b[0;34m)\u001b[0m \u001b[0;34m>=\u001b[0m \u001b[0mself\u001b[0m\u001b[0;34m.\u001b[0m\u001b[0mmaxsize\u001b[0m\u001b[0;34m:\u001b[0m\u001b[0;34m\u001b[0m\u001b[0;34m\u001b[0m\u001b[0m\n",
      "\u001b[0;31mFull\u001b[0m: "
     ]
    }
   ],
   "source": [
    "q1.put(4, block=False) # q1 is full, block\n"
   ]
  },
  {
   "cell_type": "markdown",
   "metadata": {},
   "source": [
    "# Priority Queue\n"
   ]
  },
  {
   "cell_type": "code",
   "execution_count": 18,
   "metadata": {},
   "outputs": [],
   "source": [
    "\n",
    "pq = PriorityQueue() # the smaller the value, the higher the priority\n",
    "pq.put((1,'c'))\n",
    "pq.put((2,'b'))\n",
    "pq.put((3,'a'))"
   ]
  },
  {
   "cell_type": "code",
   "execution_count": 9,
   "metadata": {},
   "outputs": [
    {
     "data": {
      "text/plain": [
       "<queue.PriorityQueue at 0x1099796a0>"
      ]
     },
     "execution_count": 9,
     "metadata": {},
     "output_type": "execute_result"
    }
   ],
   "source": [
    "pq"
   ]
  },
  {
   "cell_type": "code",
   "execution_count": 10,
   "metadata": {},
   "outputs": [
    {
     "name": "stdout",
     "output_type": "stream",
     "text": [
      "Help on PriorityQueue in module queue object:\n",
      "\n",
      "class PriorityQueue(Queue)\n",
      " |  PriorityQueue(maxsize=0)\n",
      " |  \n",
      " |  Variant of Queue that retrieves open entries in priority order (lowest first).\n",
      " |  \n",
      " |  Entries are typically tuples of the form:  (priority number, data).\n",
      " |  \n",
      " |  Method resolution order:\n",
      " |      PriorityQueue\n",
      " |      Queue\n",
      " |      builtins.object\n",
      " |  \n",
      " |  Methods inherited from Queue:\n",
      " |  \n",
      " |  __init__(self, maxsize=0)\n",
      " |      Initialize self.  See help(type(self)) for accurate signature.\n",
      " |  \n",
      " |  empty(self)\n",
      " |      Return True if the queue is empty, False otherwise (not reliable!).\n",
      " |      \n",
      " |      This method is likely to be removed at some point.  Use qsize() == 0\n",
      " |      as a direct substitute, but be aware that either approach risks a race\n",
      " |      condition where a queue can grow before the result of empty() or\n",
      " |      qsize() can be used.\n",
      " |      \n",
      " |      To create code that needs to wait for all queued tasks to be\n",
      " |      completed, the preferred technique is to use the join() method.\n",
      " |  \n",
      " |  full(self)\n",
      " |      Return True if the queue is full, False otherwise (not reliable!).\n",
      " |      \n",
      " |      This method is likely to be removed at some point.  Use qsize() >= n\n",
      " |      as a direct substitute, but be aware that either approach risks a race\n",
      " |      condition where a queue can shrink before the result of full() or\n",
      " |      qsize() can be used.\n",
      " |  \n",
      " |  get(self, block=True, timeout=None)\n",
      " |      Remove and return an item from the queue.\n",
      " |      \n",
      " |      If optional args 'block' is true and 'timeout' is None (the default),\n",
      " |      block if necessary until an item is available. If 'timeout' is\n",
      " |      a non-negative number, it blocks at most 'timeout' seconds and raises\n",
      " |      the Empty exception if no item was available within that time.\n",
      " |      Otherwise ('block' is false), return an item if one is immediately\n",
      " |      available, else raise the Empty exception ('timeout' is ignored\n",
      " |      in that case).\n",
      " |  \n",
      " |  get_nowait(self)\n",
      " |      Remove and return an item from the queue without blocking.\n",
      " |      \n",
      " |      Only get an item if one is immediately available. Otherwise\n",
      " |      raise the Empty exception.\n",
      " |  \n",
      " |  join(self)\n",
      " |      Blocks until all items in the Queue have been gotten and processed.\n",
      " |      \n",
      " |      The count of unfinished tasks goes up whenever an item is added to the\n",
      " |      queue. The count goes down whenever a consumer thread calls task_done()\n",
      " |      to indicate the item was retrieved and all work on it is complete.\n",
      " |      \n",
      " |      When the count of unfinished tasks drops to zero, join() unblocks.\n",
      " |  \n",
      " |  put(self, item, block=True, timeout=None)\n",
      " |      Put an item into the queue.\n",
      " |      \n",
      " |      If optional args 'block' is true and 'timeout' is None (the default),\n",
      " |      block if necessary until a free slot is available. If 'timeout' is\n",
      " |      a non-negative number, it blocks at most 'timeout' seconds and raises\n",
      " |      the Full exception if no free slot was available within that time.\n",
      " |      Otherwise ('block' is false), put an item on the queue if a free slot\n",
      " |      is immediately available, else raise the Full exception ('timeout'\n",
      " |      is ignored in that case).\n",
      " |  \n",
      " |  put_nowait(self, item)\n",
      " |      Put an item into the queue without blocking.\n",
      " |      \n",
      " |      Only enqueue the item if a free slot is immediately available.\n",
      " |      Otherwise raise the Full exception.\n",
      " |  \n",
      " |  qsize(self)\n",
      " |      Return the approximate size of the queue (not reliable!).\n",
      " |  \n",
      " |  task_done(self)\n",
      " |      Indicate that a formerly enqueued task is complete.\n",
      " |      \n",
      " |      Used by Queue consumer threads.  For each get() used to fetch a task,\n",
      " |      a subsequent call to task_done() tells the queue that the processing\n",
      " |      on the task is complete.\n",
      " |      \n",
      " |      If a join() is currently blocking, it will resume when all items\n",
      " |      have been processed (meaning that a task_done() call was received\n",
      " |      for every item that had been put() into the queue).\n",
      " |      \n",
      " |      Raises a ValueError if called more times than there were items\n",
      " |      placed in the queue.\n",
      " |  \n",
      " |  ----------------------------------------------------------------------\n",
      " |  Data descriptors inherited from Queue:\n",
      " |  \n",
      " |  __dict__\n",
      " |      dictionary for instance variables (if defined)\n",
      " |  \n",
      " |  __weakref__\n",
      " |      list of weak references to the object (if defined)\n",
      "\n"
     ]
    }
   ],
   "source": [
    "help(pq)"
   ]
  },
  {
   "cell_type": "code",
   "execution_count": 19,
   "metadata": {},
   "outputs": [
    {
     "data": {
      "text/plain": [
       "[(1, 'c'), (2, 'b'), (3, 'a')]"
      ]
     },
     "execution_count": 19,
     "metadata": {},
     "output_type": "execute_result"
    }
   ],
   "source": [
    "pq.queue"
   ]
  },
  {
   "cell_type": "code",
   "execution_count": 20,
   "metadata": {},
   "outputs": [
    {
     "data": {
      "text/plain": [
       "(1, 'c')"
      ]
     },
     "execution_count": 20,
     "metadata": {},
     "output_type": "execute_result"
    }
   ],
   "source": [
    "pq.get()"
   ]
  },
  {
   "cell_type": "code",
   "execution_count": null,
   "metadata": {},
   "outputs": [],
   "source": []
  },
  {
   "cell_type": "code",
   "execution_count": null,
   "metadata": {},
   "outputs": [],
   "source": []
  },
  {
   "cell_type": "code",
   "execution_count": null,
   "metadata": {},
   "outputs": [],
   "source": []
  },
  {
   "cell_type": "markdown",
   "metadata": {},
   "source": [
    "# Multiprocessing"
   ]
  },
  {
   "cell_type": "code",
   "execution_count": 24,
   "metadata": {},
   "outputs": [
    {
     "name": "stdout",
     "output_type": "stream",
     "text": [
      "Process (23007) start...\n",
      "I (23007) just created a child process (23079).\n",
      "I am child process (23079) and my parent is 23007.\n"
     ]
    }
   ],
   "source": [
    "import os\n",
    "\n",
    "print('Process (%s) start...' % os.getpid())\n",
    "# Only works on Unix/Linux/Mac:\n",
    "pid = os.fork()\n",
    "if pid == 0:\n",
    "    print('I am child process (%s) and my parent is %s.' % (os.getpid(), os.getppid()))\n",
    "else:\n",
    "    print('I (%s) just created a child process (%s).' % (os.getpid(), pid))"
   ]
  },
  {
   "cell_type": "markdown",
   "metadata": {},
   "source": [
    "# importing the multiprocessing module \n",
    "import multiprocessing \n",
    "import os \n",
    "  \n",
    "def worker1(): \n",
    "    # printing process id \n",
    "    print(\"ID of process running worker1: {}\".format(os.getpid())) \n",
    "  \n",
    "def worker2(): \n",
    "    # printing process id \n",
    "    print(\"ID of process running worker2: {}\".format(os.getpid())) \n",
    "  \n",
    "if __name__ == \"__main__\": \n",
    "    # printing main program process id \n",
    "    print(\"ID of main process: {}\".format(os.getpid())) \n",
    "  \n",
    "    # creating processes \n",
    "    p1 = multiprocessing.Process(target=worker1) \n",
    "    p2 = multiprocessing.Process(target=worker2) \n",
    "  \n",
    "    # starting processes \n",
    "    p1.start() \n",
    "    p2.start() \n",
    "  \n",
    "    # process IDs \n",
    "    print(\"ID of process p1: {}\".format(p1.pid)) \n",
    "    print(\"ID of process p2: {}\".format(p2.pid)) \n",
    "    \n",
    "        # check if processes are alive \n",
    "    print(\"Process p1 is alive: {}\".format(p1.is_alive())) \n",
    "    print(\"Process p2 is alive: {}\".format(p2.is_alive()))\n",
    "  \n",
    "    # wait until processes are finished \n",
    "    p1.join() \n",
    "    p2.join() \n",
    "  \n",
    "    # both processes finished \n",
    "    print(\"Both processes finished execution!\") \n",
    "  \n",
    "    # check if processes are alive \n",
    "    print(\"Process p1 is alive: {}\".format(p1.is_alive())) \n",
    "    print(\"Process p2 is alive: {}\".format(p2.is_alive()))"
   ]
  },
  {
   "cell_type": "markdown",
   "metadata": {},
   "source": [
    "In multiprocessing, workers\n",
    "\n",
    "run independently\n",
    "have their own memory space"
   ]
  },
  {
   "cell_type": "code",
   "execution_count": 26,
   "metadata": {},
   "outputs": [
    {
     "name": "stdout",
     "output_type": "stream",
     "text": [
      "Result(in process p1): [1, 4, 9, 16]\n",
      "Result(in main program): []\n"
     ]
    }
   ],
   "source": [
    "import multiprocessing\n",
    "\n",
    "result = []\n",
    "\n",
    "def square_list(mylist): \n",
    "    \"\"\" \n",
    "    function to square a given list \n",
    "    \"\"\"\n",
    "    global result \n",
    "    # append squares of mylist to global list result \n",
    "    for num in mylist: \n",
    "        result.append(num * num) \n",
    "    # print global list result \n",
    "    print(\"Result(in process p1): {}\".format(result))\n",
    "\n",
    "l=[1,2,3,4]\n",
    "p1 = multiprocessing.Process(target=square_list, args=(l,))\n",
    "p1.start()\n",
    "p1.join()\n",
    "\n",
    "# print global result list \n",
    "print(\"Result(in main program): {}\".format(result))  # cannot directly access the data in subprocess"
   ]
  },
  {
   "cell_type": "markdown",
   "metadata": {},
   "source": [
    "# Solution 1: share memory"
   ]
  },
  {
   "cell_type": "markdown",
   "metadata": {},
   "source": [
    "- Array: a ctypes array allocated from shared memory\n",
    "- Value: a ctypes object allocated from shared memory"
   ]
  },
  {
   "cell_type": "code",
   "execution_count": 27,
   "metadata": {},
   "outputs": [
    {
     "name": "stdout",
     "output_type": "stream",
     "text": [
      "Result(in process p1): [1, 4, 9, 16]\n",
      "Sum of squares(in process p1): 30\n",
      "Result(in main program): [1, 4, 9, 16]\n",
      "Sum of squares(in main program): 30\n"
     ]
    }
   ],
   "source": [
    "import multiprocessing\n",
    "\n",
    "def square_list(mylist, result, square_sum): \n",
    "    \"\"\" \n",
    "    function to square a given list \n",
    "    \"\"\"\n",
    "    # append squares of mylist to result array \n",
    "    for idx, num in enumerate(mylist): \n",
    "        result[idx] = num * num \n",
    "    \n",
    "    # square sum value\n",
    "    square_sum.value = sum(result)\n",
    "    print(\"Result(in process p1): {}\".format(result[:])) \n",
    "    # print square_sum Value \n",
    "    print(\"Sum of squares(in process p1): {}\".format(square_sum.value))\n",
    "    \n",
    "l = [1,2,3,4]\n",
    "\n",
    "result_array = multiprocessing.Array('i', 4) # create array of int with 4 integers\n",
    "square_sum_value = multiprocessing.Value('i')\n",
    "\n",
    "p1 = multiprocessing.Process(target=square_list, args=(l, result_array, square_sum_value))\n",
    "\n",
    "p1.start()\n",
    "p1.join()\n",
    "\n",
    "# print result array \n",
    "print(\"Result(in main program): {}\".format(result_array[:])) \n",
    "  \n",
    "# print square_sum Value \n",
    "print(\"Sum of squares(in main program): {}\".format(square_sum_value.value))"
   ]
  },
  {
   "cell_type": "markdown",
   "metadata": {},
   "source": [
    "# Solution 2: server process\n",
    "    Use multiprocessing.Manager\n",
    "    - support arbitrary object types like lists, dictionaries, Queue, Value, Array, etc.\n",
    "    - slower than shared memory"
   ]
  },
  {
   "cell_type": "code",
   "execution_count": 28,
   "metadata": {},
   "outputs": [
    {
     "name": "stdout",
     "output_type": "stream",
     "text": [
      "New record added!\n",
      "\n",
      "Name: a\n",
      "Score: 10\n",
      "\n",
      "Name: b\n",
      "Score: 9\n",
      "\n",
      "Name: k\n",
      "Score: 8\n",
      "\n",
      "Name: J\n",
      "Score: 7\n",
      "\n"
     ]
    }
   ],
   "source": [
    "import multiprocessing \n",
    "  \n",
    "def print_records(records): \n",
    "    \"\"\" \n",
    "    function to print record(tuples) in records(list) \n",
    "    \"\"\"\n",
    "    for record in records: \n",
    "        print(\"Name: {0}\\nScore: {1}\\n\".format(record[0], record[1]))\n",
    "\n",
    "def insert_record(record, records): \n",
    "    \"\"\" \n",
    "    function to add a new record to records(list) \n",
    "    \"\"\"\n",
    "    records.append(record) \n",
    "    print(\"New record added!\\n\")\n",
    "\n",
    "with multiprocessing.Manager() as manager:\n",
    "    # creating a list in server process memory \n",
    "    records = manager.list([('a',10), ('b',9), ('k',8)])\n",
    "    new_record = (\"J\", 7)\n",
    "    p1 = multiprocessing.Process(target=insert_record, args=(new_record, records))\n",
    "    p2 = multiprocessing.Process(target=print_records, args=(records,))\n",
    "    \n",
    "    p1.start()\n",
    "    p1.join()\n",
    "    \n",
    "    p2.start()\n",
    "    p2.join()"
   ]
  },
  {
   "cell_type": "code",
   "execution_count": null,
   "metadata": {},
   "outputs": [],
   "source": []
  },
  {
   "cell_type": "code",
   "execution_count": null,
   "metadata": {},
   "outputs": [],
   "source": []
  },
  {
   "cell_type": "markdown",
   "metadata": {},
   "source": [
    "multiprocessing supports two kinds of communication channel between processes\n",
    "\n",
    "- Queue\n",
    "- Pipe\n",
    "\n",
    "\n",
    "# 1. Queue\n",
    "    - A simple way to communicate between processes with multiprocessing is to use a Queue to pass mesasges.\n",
    "    - Any python oject can pass through a queue\n",
    "    - multiprocessing.Queue class is a near clone of queue.Queue"
   ]
  },
  {
   "cell_type": "code",
   "execution_count": 29,
   "metadata": {},
   "outputs": [
    {
     "name": "stdout",
     "output_type": "stream",
     "text": [
      "Queue elements:\n",
      "1\n",
      "4\n",
      "9\n",
      "16\n",
      "Queue is now empty!\n"
     ]
    }
   ],
   "source": [
    "  \n",
    "def square_list(mylist, q): \n",
    "    \"\"\" \n",
    "    function to square a given list \n",
    "    \"\"\"\n",
    "    # append squares of mylist to queue \n",
    "    for num in mylist: \n",
    "        q.put(num * num) \n",
    "\n",
    "def print_queue(q): \n",
    "    \"\"\" \n",
    "    function to print queue elements \n",
    "    \"\"\"\n",
    "    print(\"Queue elements:\") \n",
    "    while not q.empty(): \n",
    "        print(q.get()) \n",
    "    print(\"Queue is now empty!\")\n",
    "\n",
    "l = [1,2,3,4]\n",
    "q = multiprocessing.Queue()\n",
    "\n",
    "p1 = multiprocessing.Process(target=square_list, args=(l, q))\n",
    "p2 = multiprocessing.Process(target=print_queue, args=(q,))\n",
    "\n",
    "for p in [p1,p2]:\n",
    "    p.start()\n",
    "    p.join()"
   ]
  },
  {
   "cell_type": "markdown",
   "metadata": {},
   "source": [
    "\n",
    "# 2. Pipes\n",
    "\n",
    "    - it is preferred over queue when only two-way communication is required.\n",
    "    - The two connection objects returned by Pipe() represent the two ends of the pipe.\n",
    "    - Each connection object has send() and recv() methods (among others)."
   ]
  },
  {
   "cell_type": "code",
   "execution_count": 30,
   "metadata": {},
   "outputs": [
    {
     "name": "stdout",
     "output_type": "stream",
     "text": [
      "Sent the message: hello\n",
      "Sent the message: hey\n",
      "Sent the message: hru?\n",
      "Sent the message: END\n",
      "Received the message: hello\n",
      "Received the message: hey\n",
      "Received the message: hru?\n"
     ]
    }
   ],
   "source": [
    "import multiprocessing\n",
    "\n",
    "import multiprocessing \n",
    "  \n",
    "def sender(conn, msgs): \n",
    "    \"\"\" \n",
    "    function to send messages to other end of pipe \n",
    "    \"\"\"\n",
    "    for msg in msgs: \n",
    "        conn.send(msg) \n",
    "        print(\"Sent the message: {}\".format(msg)) \n",
    "    conn.close() \n",
    "\n",
    "def receiver(conn): \n",
    "    \"\"\" \n",
    "    function to print the messages received from other \n",
    "    end of pipe \n",
    "    \"\"\"\n",
    "    while 1: \n",
    "        msg = conn.recv() \n",
    "        if msg == \"END\": \n",
    "            break\n",
    "        print(\"Received the message: {}\".format(msg)) \n",
    "        \n",
    "# messages to be sent \n",
    "msgs = [\"hello\", \"hey\", \"hru?\", \"END\"] \n",
    "# creating a pipe \n",
    "parent_conn, child_conn = multiprocessing.Pipe()\n",
    "\n",
    "# creating new processes\n",
    "p1 = multiprocessing.Process(target=sender, args=(parent_conn, msgs))\n",
    "p2 = multiprocessing.Process(target=receiver, args=(child_conn,))\n",
    "\n",
    "for p in [p1,p2]:\n",
    "    p.start()\n",
    "    p.join()"
   ]
  },
  {
   "cell_type": "code",
   "execution_count": null,
   "metadata": {},
   "outputs": [],
   "source": []
  },
  {
   "cell_type": "markdown",
   "metadata": {},
   "source": [
    "# Synchronization between processes\n",
    "    - Process synchronization is defined as a mechanism which ensures that two or more concurrent processes do not simultaneously execute some particular program segment known as critical section.\n",
    "    - Critical section refers to the parts of the program where the shared resource is accessed.\n",
    "    - Concurrent accesses to shared resource can lead to race condition."
   ]
  },
  {
   "cell_type": "code",
   "execution_count": 32,
   "metadata": {},
   "outputs": [
    {
     "name": "stdout",
     "output_type": "stream",
     "text": [
      "Final balance = 1082\n",
      "Final balance = 3392\n",
      "Final balance = -503\n",
      "Final balance = -1373\n",
      "Final balance = 4853\n",
      "Final balance = 3189\n",
      "Final balance = -1631\n",
      "Final balance = -3064\n",
      "Final balance = -459\n",
      "Final balance = -544\n"
     ]
    }
   ],
   "source": [
    "# race condition\n",
    "import multiprocessing \n",
    "  \n",
    "# function to withdraw from account \n",
    "def withdraw(balance):     \n",
    "    for _ in range(10000): \n",
    "        balance.value = balance.value - 1\n",
    "\n",
    "# function to deposit to account \n",
    "def deposit(balance):     \n",
    "    for _ in range(10000): \n",
    "        balance.value = balance.value + 1\n",
    "\n",
    "        \n",
    "def perform_transactions():   \n",
    "    # initial balance (in shared memory) \n",
    "    balance = multiprocessing.Value('i', 100) \n",
    "  \n",
    "    # creating new processes \n",
    "    p1 = multiprocessing.Process(target=withdraw, args=(balance,)) \n",
    "    p2 = multiprocessing.Process(target=deposit, args=(balance,)) \n",
    "  \n",
    "    # starting processes \n",
    "    p1.start() \n",
    "    p2.start() \n",
    "  \n",
    "    # wait until processes are finished \n",
    "    p1.join() \n",
    "    p2.join() \n",
    "  \n",
    "    # print final balance \n",
    "    print(\"Final balance = {}\".format(balance.value)) \n",
    "\n",
    "# race condition\n",
    "for _ in range(10): \n",
    "    # perform same transaction process 10 times \n",
    "    perform_transactions()"
   ]
  },
  {
   "cell_type": "markdown",
   "metadata": {},
   "source": [
    "- multiprocessing module provides a Lock class to deal with the race conditions. Lock is implemented using a Semaphore object provided by the Operating System.\n",
    "- As soon as a lock is acquired, no other process can access its critical section until the lock is released using lock.release() method."
   ]
  },
  {
   "cell_type": "code",
   "execution_count": 36,
   "metadata": {},
   "outputs": [
    {
     "name": "stdout",
     "output_type": "stream",
     "text": [
      "Final balance = 100\n",
      "Final balance = 100\n",
      "Final balance = 100\n",
      "Final balance = 100\n",
      "Final balance = 100\n",
      "Final balance = 100\n",
      "Final balance = 100\n",
      "Final balance = 100\n",
      "Final balance = 100\n",
      "Final balance = 100\n"
     ]
    }
   ],
   "source": [
    "# deal with race condition, use LOCK()\n",
    "import multiprocessing \n",
    "  \n",
    "# function to withdraw from account \n",
    "def withdraw(balance, lock):     \n",
    "    for _ in range(10000):\n",
    "        lock.acquire()\n",
    "        balance.value = balance.value - 1\n",
    "        lock.release()\n",
    "        \n",
    "# function to deposit to account \n",
    "def deposit(balance, lock):     \n",
    "    for _ in range(10000):\n",
    "        lock.acquire()\n",
    "        balance.value = balance.value + 1\n",
    "        lock.release()\n",
    "        \n",
    "def perform_transactions():   \n",
    "    # initial balance (in shared memory) \n",
    "    balance = multiprocessing.Value('i', 100) \n",
    "    \n",
    "    lock = multiprocessing.Lock() # creating a lock object \n",
    "    \n",
    "    # creating new processes \n",
    "    p1 = multiprocessing.Process(target=withdraw, args=(balance,lock)) \n",
    "    p2 = multiprocessing.Process(target=deposit, args=(balance,lock)) \n",
    "  \n",
    "    # starting processes \n",
    "    p1.start() \n",
    "    p2.start() \n",
    "  \n",
    "    # wait until processes are finished \n",
    "    p1.join() \n",
    "    p2.join() \n",
    "  \n",
    "    # print final balance \n",
    "    print(\"Final balance = {}\".format(balance.value)) \n",
    "\n",
    "# race condition\n",
    "for _ in range(10): \n",
    "    # perform same transaction process 10 times \n",
    "    perform_transactions()"
   ]
  },
  {
   "cell_type": "code",
   "execution_count": 37,
   "metadata": {},
   "outputs": [],
   "source": [
    "# Pooling between processes\n"
   ]
  },
  {
   "cell_type": "code",
   "execution_count": 35,
   "metadata": {},
   "outputs": [
    {
     "name": "stdout",
     "output_type": "stream",
     "text": [
      "Worker process id for 3: 23816\n",
      "Worker process id for 4: 23817\n",
      "Worker process id for 2: 23815\n",
      "Worker process id for 1: 23814\n",
      "[1, 4, 9, 16]\n"
     ]
    }
   ],
   "source": [
    "# Pooling between processes\n",
    "# Python program to understand  \n",
    "# the concept of pool \n",
    "import multiprocessing \n",
    "import os \n",
    "  \n",
    "def square(n): \n",
    "    print(\"Worker process id for {0}: {1}\".format(n, os.getpid())) \n",
    "    return (n*n)\n",
    "\n",
    "l = [1,2,3,4]\n",
    "p = multiprocessing.Pool()\n",
    "\n",
    "result = p.map(square, l)\n",
    "\n",
    "print(result)\n"
   ]
  },
  {
   "cell_type": "code",
   "execution_count": null,
   "metadata": {},
   "outputs": [],
   "source": []
  }
 ],
 "metadata": {
  "kernelspec": {
   "display_name": "Python 3",
   "language": "python",
   "name": "python3"
  },
  "language_info": {
   "codemirror_mode": {
    "name": "ipython",
    "version": 3
   },
   "file_extension": ".py",
   "mimetype": "text/x-python",
   "name": "python",
   "nbconvert_exporter": "python",
   "pygments_lexer": "ipython3",
   "version": "3.7.3"
  }
 },
 "nbformat": 4,
 "nbformat_minor": 2
}
