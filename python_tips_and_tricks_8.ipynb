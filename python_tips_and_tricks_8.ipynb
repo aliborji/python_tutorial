{
 "cells": [
  {
   "cell_type": "code",
   "execution_count": null,
   "metadata": {},
   "outputs": [],
   "source": []
  },
  {
   "cell_type": "markdown",
   "metadata": {},
   "source": [
    "# Flask\n",
    "https://github.com/pallets/flask"
   ]
  },
  {
   "cell_type": "code",
   "execution_count": 1,
   "metadata": {},
   "outputs": [
    {
     "name": "stdout",
     "output_type": "stream",
     "text": [
      "Requirement already up-to-date: Flask in /Users/ali/anaconda3/lib/python3.7/site-packages (1.1.1)\n",
      "Requirement already satisfied, skipping upgrade: Werkzeug>=0.15 in /Users/ali/anaconda3/lib/python3.7/site-packages (from Flask) (0.15.4)\n",
      "Requirement already satisfied, skipping upgrade: itsdangerous>=0.24 in /Users/ali/anaconda3/lib/python3.7/site-packages (from Flask) (1.1.0)\n",
      "Requirement already satisfied, skipping upgrade: Jinja2>=2.10.1 in /Users/ali/anaconda3/lib/python3.7/site-packages (from Flask) (2.10.1)\n",
      "Requirement already satisfied, skipping upgrade: click>=5.1 in /Users/ali/anaconda3/lib/python3.7/site-packages (from Flask) (7.0)\n",
      "Requirement already satisfied, skipping upgrade: MarkupSafe>=0.23 in /Users/ali/anaconda3/lib/python3.7/site-packages (from Jinja2>=2.10.1->Flask) (1.1.1)\n",
      "Note: you may need to restart the kernel to use updated packages.\n"
     ]
    }
   ],
   "source": [
    "pip install -U Flask\n"
   ]
  },
  {
   "cell_type": "markdown",
   "metadata": {},
   "source": [
    "## A Simple Example\n"
   ]
  },
  {
   "cell_type": "code",
   "execution_count": 2,
   "metadata": {},
   "outputs": [],
   "source": [
    "# this is hello.py\n",
    "from flask import Flask\n",
    "\n",
    "app = Flask(__name__)\n",
    "\n",
    "@app.route(\"/\")\n",
    "def hello():\n",
    "    return \"Hello, World!\"\n"
   ]
  },
  {
   "cell_type": "code",
   "execution_count": 4,
   "metadata": {},
   "outputs": [
    {
     "ename": "SyntaxError",
     "evalue": "invalid syntax (<ipython-input-4-4ae66d56c006>, line 2)",
     "output_type": "error",
     "traceback": [
      "\u001b[0;36m  File \u001b[0;32m\"<ipython-input-4-4ae66d56c006>\"\u001b[0;36m, line \u001b[0;32m2\u001b[0m\n\u001b[0;31m    $ env FLASK_APP=hello.py flask run\u001b[0m\n\u001b[0m    ^\u001b[0m\n\u001b[0;31mSyntaxError\u001b[0m\u001b[0;31m:\u001b[0m invalid syntax\n"
     ]
    }
   ],
   "source": [
    "# run this in the command line\n",
    "$ env FLASK_APP=hello.py flask run\n",
    " * Serving Flask app \"hello\"\n",
    " * Running on http://127.0.0.1:5000/ (Press CTRL+C to quit)"
   ]
  },
  {
   "cell_type": "code",
   "execution_count": null,
   "metadata": {},
   "outputs": [],
   "source": []
  },
  {
   "cell_type": "code",
   "execution_count": null,
   "metadata": {},
   "outputs": [],
   "source": []
  },
  {
   "cell_type": "code",
   "execution_count": 146,
   "metadata": {},
   "outputs": [
    {
     "name": "stdout",
     "output_type": "stream",
     "text": [
      "-20\n"
     ]
    }
   ],
   "source": [
    "print(max([1,5,10, -20], key=abs))"
   ]
  },
  {
   "cell_type": "code",
   "execution_count": null,
   "metadata": {},
   "outputs": [],
   "source": []
  },
  {
   "cell_type": "code",
   "execution_count": null,
   "metadata": {},
   "outputs": [],
   "source": []
  },
  {
   "cell_type": "markdown",
   "metadata": {},
   "source": [
    "# Python Infrequently Asked Questions by Peter Norvig\n",
    "http://norvig.com/python-iaq.html"
   ]
  },
  {
   "cell_type": "code",
   "execution_count": 5,
   "metadata": {},
   "outputs": [],
   "source": [
    "\"\"\"\n",
    "Q: What are some other useful utility functions that are missing in Python?\n",
    "\"\"\"\n",
    "\n",
    "def removeall(item, seq):\n",
    "    \"\"\"Return a copy of seq (or string) with all occurences of item removed.\"\"\"\n",
    "    if isinstance(seq, str):\n",
    "        return seq.replace(item, '')\n",
    "    else:\n",
    "        return [x for x in seq if x != item]\n",
    "\n",
    "\n",
    "def count(seq):\n",
    "    \"\"\"Count the number of items in sequence that are interpreted as true.\"\"\"\n",
    "    return sum(bool(x) for x in seq)\n",
    "\n",
    "\n",
    "\n",
    "def first(iterable, default=None):\n",
    "    \"Return the first element of an iterable or the next element of a generator; or default.\"\n",
    "    try:\n",
    "        return iterable[0]\n",
    "    except IndexError:\n",
    "        return default\n",
    "    except TypeError:\n",
    "        return next(iterable, default)\n",
    "\n"
   ]
  },
  {
   "cell_type": "code",
   "execution_count": 20,
   "metadata": {},
   "outputs": [
    {
     "data": {
      "text/plain": [
       "(999999, 0.03372304900040035)"
      ]
     },
     "execution_count": 20,
     "metadata": {},
     "output_type": "execute_result"
    }
   ],
   "source": [
    "\"\"\"\n",
    "Q: How do I time the execution of my functions?\n",
    "\"\"\"\n",
    "\n",
    "def timer(fn, *args):\n",
    "    \"Time the application of fn to args. Return (result, seconds).\"\n",
    "    import time\n",
    "#     start = time.clock()\n",
    "#     start = time.process_time()\n",
    "    start = time.perf_counter()\n",
    "#     return fn(*args), time.process_time() - start\n",
    "#     return fn(*args), time.clock() - start\n",
    "    return fn(*args), time.perf_counter() - start\n",
    "\n",
    "\n",
    "\n",
    "timer(max, range(int(1e6)))\n",
    "# (999999, 0.4921875)"
   ]
  },
  {
   "cell_type": "code",
   "execution_count": 13,
   "metadata": {},
   "outputs": [
    {
     "ename": "TypeError",
     "evalue": "'float' object cannot be interpreted as an integer",
     "output_type": "error",
     "traceback": [
      "\u001b[0;31m---------------------------------------------------------------------------\u001b[0m",
      "\u001b[0;31mTypeError\u001b[0m                                 Traceback (most recent call last)",
      "\u001b[0;32m<ipython-input-13-a3a7c18aef06>\u001b[0m in \u001b[0;36m<module>\u001b[0;34m\u001b[0m\n\u001b[0;32m----> 1\u001b[0;31m \u001b[0mint\u001b[0m\u001b[0;34m(\u001b[0m\u001b[0mrange\u001b[0m\u001b[0;34m(\u001b[0m\u001b[0;36m1e6\u001b[0m\u001b[0;34m)\u001b[0m\u001b[0;34m)\u001b[0m\u001b[0;34m\u001b[0m\u001b[0;34m\u001b[0m\u001b[0m\n\u001b[0m",
      "\u001b[0;31mTypeError\u001b[0m: 'float' object cannot be interpreted as an integer"
     ]
    }
   ],
   "source": [
    "int(range(1e6))"
   ]
  },
  {
   "cell_type": "code",
   "execution_count": 22,
   "metadata": {},
   "outputs": [
    {
     "data": {
      "text/plain": [
       "[]"
      ]
     },
     "execution_count": 22,
     "metadata": {},
     "output_type": "execute_result"
    }
   ],
   "source": [
    "# Q: Why is the ski hat emoticon like the dumbell emoticon?\n",
    "\n",
    "# The ski hat is *=0 and the dumbell is [:]=[].\n",
    "\n",
    "# They both perform the function of removing all the elements in a list:\n",
    "\n",
    "L = [1, 2, 3]\n",
    "L *=0\n",
    "L [:]=[]\n",
    "L\n"
   ]
  },
  {
   "cell_type": "code",
   "execution_count": null,
   "metadata": {},
   "outputs": [],
   "source": []
  },
  {
   "cell_type": "code",
   "execution_count": 25,
   "metadata": {},
   "outputs": [
    {
     "data": {
      "text/plain": [
       "{'a': 1, 'b': 2, 'c': 3, 'dee': 4}"
      ]
     },
     "execution_count": 25,
     "metadata": {},
     "output_type": "execute_result"
    }
   ],
   "source": [
    "# Q: Is there a better syntax for dictionary literals? All my keys are identifiers.\n",
    "\n",
    "# As of Python 2.3 you can use the syntax \n",
    "#     dict(a=1, b=2, c=3, dee=4) \n",
    "# rather than the tedious \n",
    "#     {'a': 1, 'b': 2, 'c': 3, 'dee': 4}. \n",
    "# (Before that, you needed to define a function.)\n",
    "\n",
    "dict(a=1, b=2, c=3, dee=4) \n"
   ]
  },
  {
   "cell_type": "code",
   "execution_count": null,
   "metadata": {},
   "outputs": [],
   "source": []
  },
  {
   "cell_type": "code",
   "execution_count": null,
   "metadata": {},
   "outputs": [],
   "source": []
  },
  {
   "cell_type": "code",
   "execution_count": 26,
   "metadata": {},
   "outputs": [],
   "source": [
    "\"\"\"\n",
    "Q: Is there a similar shortcut for objects?\n",
    "\n",
    "Indeed there is. When all you want to do is create an object that holds data in several fields, the following will do:\n",
    "\n",
    "\"\"\"\n",
    "\n",
    "class Struct:\n",
    "    \"A structure that can have any fields defined.\"\n",
    "    def __init__(self, **entries): self.__dict__.update(entries)\n"
   ]
  },
  {
   "cell_type": "code",
   "execution_count": 27,
   "metadata": {},
   "outputs": [],
   "source": [
    "options = Struct(answer=42, linelen=80, font='courier')"
   ]
  },
  {
   "cell_type": "code",
   "execution_count": 28,
   "metadata": {},
   "outputs": [
    {
     "data": {
      "text/plain": [
       "42"
      ]
     },
     "execution_count": 28,
     "metadata": {},
     "output_type": "execute_result"
    }
   ],
   "source": [
    "options.answer"
   ]
  },
  {
   "cell_type": "code",
   "execution_count": 29,
   "metadata": {},
   "outputs": [],
   "source": [
    "options.answer = 'plastics'"
   ]
  },
  {
   "cell_type": "code",
   "execution_count": 30,
   "metadata": {},
   "outputs": [
    {
     "data": {
      "text/plain": [
       "{'answer': 'plastics', 'linelen': 80, 'font': 'courier'}"
      ]
     },
     "execution_count": 30,
     "metadata": {},
     "output_type": "execute_result"
    }
   ],
   "source": [
    "vars(options)"
   ]
  },
  {
   "cell_type": "code",
   "execution_count": 32,
   "metadata": {},
   "outputs": [
    {
     "data": {
      "text/plain": [
       "{'answer': 'plastics', 'linelen': 80, 'font': 'courier'}"
      ]
     },
     "execution_count": 32,
     "metadata": {},
     "output_type": "execute_result"
    }
   ],
   "source": [
    "options.__dict__"
   ]
  },
  {
   "cell_type": "code",
   "execution_count": 54,
   "metadata": {},
   "outputs": [
    {
     "data": {
      "text/plain": [
       "'\\nEssentially what we are doing here is creating an anonymous class. OK, I know that the class of options is Struct, but because we are adding slots to it, its like creating a new, unnamed class (in much the same way that lambda creates anonymous functions). I hate to mess with Struct because it is so concise the way it is, but if you add the following method then you will get a nice printed version of each structure:\\nIf you want a non-anonymous class, there is collections.namedtuple.\\n'"
      ]
     },
     "execution_count": 54,
     "metadata": {},
     "output_type": "execute_result"
    }
   ],
   "source": [
    "\"\"\"\n",
    "Essentially what we are doing here is creating an anonymous class. OK, I know that the class of options is Struct, but because we are adding slots to it, its like creating a new, unnamed class (in much the same way that lambda creates anonymous functions). I hate to mess with Struct because it is so concise the way it is, but if you add the following method then you will get a nice printed version of each structure:\n",
    "If you want a non-anonymous class, there is collections.namedtuple.\n",
    "\"\"\"\n"
   ]
  },
  {
   "cell_type": "code",
   "execution_count": null,
   "metadata": {},
   "outputs": [],
   "source": []
  },
  {
   "cell_type": "code",
   "execution_count": 36,
   "metadata": {},
   "outputs": [],
   "source": [
    "class Struct:\n",
    "    \"A structure that can have any fields defined.\"\n",
    "    def __init__(self, **entries): self.__dict__.update(entries)\n",
    "    def __repr__(self):\n",
    "            args = ['%s=%s' % (k, repr(v)) for (k,v) in vars(self).items()]\n",
    "            return 'Struct(%s)' % ', '.join(args)        "
   ]
  },
  {
   "cell_type": "code",
   "execution_count": 41,
   "metadata": {},
   "outputs": [
    {
     "data": {
      "text/plain": [
       "Struct(answer=42, linelen=80, font='courier')"
      ]
     },
     "execution_count": 41,
     "metadata": {},
     "output_type": "execute_result"
    }
   ],
   "source": [
    "options = Struct(answer=42, linelen=80, font='courier')\n",
    "options\n",
    "# print(options)"
   ]
  },
  {
   "cell_type": "code",
   "execution_count": 42,
   "metadata": {},
   "outputs": [],
   "source": [
    "# If you want a non-anonymous class, there is collections.namedtuple."
   ]
  },
  {
   "cell_type": "code",
   "execution_count": null,
   "metadata": {},
   "outputs": [],
   "source": []
  },
  {
   "cell_type": "code",
   "execution_count": null,
   "metadata": {},
   "outputs": [],
   "source": []
  },
  {
   "cell_type": "code",
   "execution_count": null,
   "metadata": {},
   "outputs": [],
   "source": []
  },
  {
   "cell_type": "code",
   "execution_count": 55,
   "metadata": {},
   "outputs": [
    {
     "data": {
      "text/plain": [
       "\"\\nQ: That's great for creating objects; How about for updating them?\\n\\nWell, dictionaries have an update method, so you could do d.update(dict(a=100, b=200)) when d is a dictionary. There is no corresponding method for objects, so you have to do obj.a = 100; obj.b = 200. Or you could define one function to let you do update(x, a=100, b=200) when x is either a dictionary or an object:\\n\\n\\n\\n\""
      ]
     },
     "execution_count": 55,
     "metadata": {},
     "output_type": "execute_result"
    }
   ],
   "source": [
    "\"\"\"\n",
    "Q: That's great for creating objects; How about for updating them?\n",
    "\n",
    "Well, dictionaries have an update method, so you could do d.update(dict(a=100, b=200)) when d is a dictionary. There is no corresponding method for objects, so you have to do obj.a = 100; obj.b = 200. Or you could define one function to let you do update(x, a=100, b=200) when x is either a dictionary or an object:\n",
    "\n",
    "\n",
    "\n",
    "\"\"\"\n"
   ]
  },
  {
   "cell_type": "code",
   "execution_count": 56,
   "metadata": {},
   "outputs": [],
   "source": [
    "def update(x, **entries):\n",
    "    if hasattr(x, 'update'): \n",
    "        x.update(entries)\n",
    "    else: \n",
    "        x.__dict__.update(entries)\n",
    "    return x"
   ]
  },
  {
   "cell_type": "code",
   "execution_count": 57,
   "metadata": {},
   "outputs": [],
   "source": [
    "# This is especially concise for constructors:\n",
    "\n",
    "def __init__(self, a, b, c, d=42, e=None, f=()):\n",
    "    update(self, a=a, b=b, c=c, d=d, e=e, f=f)\n",
    "  "
   ]
  },
  {
   "cell_type": "code",
   "execution_count": 58,
   "metadata": {},
   "outputs": [],
   "source": [
    "# Although some people prefer a more explicit, verbose style:\n",
    "def __init__(self, a, b, c, d=42, e=None, f=()):\n",
    "    self.a = a\n",
    "    self.b = b\n",
    "    self.c = c\n",
    "    self.d = d\n",
    "    self.e = e\n",
    "    self.f = f\n"
   ]
  },
  {
   "cell_type": "code",
   "execution_count": null,
   "metadata": {},
   "outputs": [],
   "source": []
  },
  {
   "cell_type": "code",
   "execution_count": null,
   "metadata": {},
   "outputs": [],
   "source": []
  },
  {
   "cell_type": "code",
   "execution_count": null,
   "metadata": {},
   "outputs": [],
   "source": []
  },
  {
   "cell_type": "code",
   "execution_count": 60,
   "metadata": {},
   "outputs": [
    {
     "data": {
      "text/plain": [
       "\"\\ncollections.namedtuple allows you to define a new class with a fixed set of fields. But you can't define methods on that class, and there is no place to put the docstring. Unless you use this trick of inheriting from a namedtuple:\\n\""
      ]
     },
     "execution_count": 60,
     "metadata": {},
     "output_type": "execute_result"
    }
   ],
   "source": [
    "# Q: What if I want a method on my namedtuple? Or a docstring?\n",
    "\n",
    "\"\"\"\n",
    "collections.namedtuple allows you to define a new class with a fixed set of fields. But you can't define methods on that class, and there is no place to put the docstring. Unless you use this trick of inheriting from a namedtuple:\n",
    "\"\"\"\n",
    "\n",
    "\n"
   ]
  },
  {
   "cell_type": "code",
   "execution_count": 62,
   "metadata": {},
   "outputs": [],
   "source": [
    "from collections import namedtuple\n",
    "class Point(namedtuple('_', 'x y')):\n",
    "    \"A point in 2-dimensional space.\"\n",
    "    def __abs__(self):\n",
    "        \"Absolute value of a Point: the length of the vector.\"\n",
    "        return (self.x ** 2 + self.y ** 2) ** 0.5"
   ]
  },
  {
   "cell_type": "code",
   "execution_count": 63,
   "metadata": {},
   "outputs": [],
   "source": [
    "# Q: Is that the best way to define a 2-dimensional point?\n",
    "\n",
    "There are many ways. The simplest is this:"
   ]
  },
  {
   "cell_type": "code",
   "execution_count": 64,
   "metadata": {},
   "outputs": [],
   "source": [
    "Point = complex\n",
    "\n"
   ]
  },
  {
   "cell_type": "code",
   "execution_count": 69,
   "metadata": {},
   "outputs": [],
   "source": [
    "# Point.__dict__"
   ]
  },
  {
   "cell_type": "code",
   "execution_count": 80,
   "metadata": {},
   "outputs": [],
   "source": [
    "# But then your fields are called real and imag, not x and y, so you might do this instead:\n",
    "\n",
    "class Point(complex):\n",
    "    x = property(lambda p: p.real)\n",
    "    y = property(lambda p: p.imag)\n",
    "    def __repr__(self): return 'Point({}, {})'.format(self.x, self.y)\n",
    "    def __iter__(self): yield self.x; yield self.y\n"
   ]
  },
  {
   "cell_type": "code",
   "execution_count": 82,
   "metadata": {},
   "outputs": [],
   "source": [
    "p = Point(3, 4)"
   ]
  },
  {
   "cell_type": "code",
   "execution_count": 83,
   "metadata": {},
   "outputs": [
    {
     "data": {
      "text/plain": [
       "Point(3.0, 4.0)"
      ]
     },
     "execution_count": 83,
     "metadata": {},
     "output_type": "execute_result"
    }
   ],
   "source": [
    "p"
   ]
  },
  {
   "cell_type": "code",
   "execution_count": 84,
   "metadata": {},
   "outputs": [],
   "source": [
    "px, py = p"
   ]
  },
  {
   "cell_type": "code",
   "execution_count": 77,
   "metadata": {},
   "outputs": [
    {
     "data": {
      "text/plain": [
       "3.0"
      ]
     },
     "execution_count": 77,
     "metadata": {},
     "output_type": "execute_result"
    }
   ],
   "source": [
    "px"
   ]
  },
  {
   "cell_type": "code",
   "execution_count": 95,
   "metadata": {},
   "outputs": [
    {
     "data": {
      "text/plain": [
       "'\\nYou can also do arithmetic, like 2 * p, but unfortuntely the result is a complex, not a Point. Another possibility is:\\n'"
      ]
     },
     "execution_count": 95,
     "metadata": {},
     "output_type": "execute_result"
    }
   ],
   "source": [
    "\"\"\"\n",
    "You can also do arithmetic, like 2 * p, but unfortuntely the result is a complex, not a Point. Another possibility is:\n",
    "\"\"\"\n"
   ]
  },
  {
   "cell_type": "code",
   "execution_count": 96,
   "metadata": {},
   "outputs": [],
   "source": [
    "def Point(x, y): return np.array([x, y])\n",
    "\n"
   ]
  },
  {
   "cell_type": "code",
   "execution_count": 97,
   "metadata": {},
   "outputs": [],
   "source": [
    "# Or you can just use a 2-tuple:\n",
    "\n",
    "def Point(x, y): return x, y"
   ]
  },
  {
   "cell_type": "code",
   "execution_count": null,
   "metadata": {},
   "outputs": [],
   "source": []
  },
  {
   "cell_type": "code",
   "execution_count": null,
   "metadata": {},
   "outputs": [],
   "source": []
  },
  {
   "cell_type": "code",
   "execution_count": null,
   "metadata": {},
   "outputs": [],
   "source": []
  },
  {
   "cell_type": "code",
   "execution_count": null,
   "metadata": {},
   "outputs": [],
   "source": []
  },
  {
   "cell_type": "code",
   "execution_count": 98,
   "metadata": {},
   "outputs": [],
   "source": [
    "# Q: Can I have a dict with a default value of 0 or [ ] or something?\n",
    "\n"
   ]
  },
  {
   "cell_type": "code",
   "execution_count": 100,
   "metadata": {},
   "outputs": [
    {
     "data": {
      "text/plain": [
       "'\\nBefore Python 2.7, you would need to define a class to do this; now you can use collections.defaultdict or collections.Counter, e.g.:\\n'"
      ]
     },
     "execution_count": 100,
     "metadata": {},
     "output_type": "execute_result"
    }
   ],
   "source": [
    "\"\"\"\n",
    "Before Python 2.7, you would need to define a class to do this; now you can use collections.defaultdict or collections.Counter, e.g.:\n",
    "\"\"\""
   ]
  },
  {
   "cell_type": "code",
   "execution_count": 101,
   "metadata": {},
   "outputs": [],
   "source": [
    "from collections import Counter\n",
    "\n",
    "words = 'this is a test this is only a test'.split()"
   ]
  },
  {
   "cell_type": "code",
   "execution_count": 102,
   "metadata": {},
   "outputs": [
    {
     "data": {
      "text/plain": [
       "['this', 'is', 'a', 'test', 'this', 'is', 'only', 'a', 'test']"
      ]
     },
     "execution_count": 102,
     "metadata": {},
     "output_type": "execute_result"
    }
   ],
   "source": [
    "words"
   ]
  },
  {
   "cell_type": "code",
   "execution_count": 103,
   "metadata": {},
   "outputs": [
    {
     "data": {
      "text/plain": [
       "Counter({'this': 2, 'is': 2, 'a': 2, 'test': 2, 'only': 1})"
      ]
     },
     "execution_count": 103,
     "metadata": {},
     "output_type": "execute_result"
    }
   ],
   "source": [
    "Counter(words)"
   ]
  },
  {
   "cell_type": "code",
   "execution_count": 104,
   "metadata": {},
   "outputs": [
    {
     "data": {
      "text/plain": [
       "'\\nContinuing the example above, we can define a groupby function, which is similar to itertools.groupby, but does not require the input sequence to be sorted:\\n'"
      ]
     },
     "execution_count": 104,
     "metadata": {},
     "output_type": "execute_result"
    }
   ],
   "source": [
    "\"\"\"\n",
    "Continuing the example above, we can define a groupby function, which is similar to itertools.groupby, but does not require the input sequence to be sorted:\n",
    "\"\"\""
   ]
  },
  {
   "cell_type": "code",
   "execution_count": 125,
   "metadata": {},
   "outputs": [],
   "source": [
    "from collections import defaultdict\n",
    "# def groupby(iterable, key=lambda x: x): # both work\n",
    "def groupby(iterable, key): # both work\n",
    "    \"Return a dict of {key(item): [items...]} grouping all the items in the iterable.\"\n",
    "    groups = defaultdict(list)\n",
    "    for item in iterable:\n",
    "        groups[key(item)].append(item)\n",
    "    return groups"
   ]
  },
  {
   "cell_type": "code",
   "execution_count": 126,
   "metadata": {},
   "outputs": [],
   "source": [
    "# Here's an example using groupby to create a table of anagrams:\n",
    "\n"
   ]
  },
  {
   "cell_type": "code",
   "execution_count": 127,
   "metadata": {},
   "outputs": [],
   "source": [
    "def sortedstr(word): return ''.join(sorted(word))\n",
    "def anagram_table(words): return groupby(words, sortedstr)\n"
   ]
  },
  {
   "cell_type": "code",
   "execution_count": 128,
   "metadata": {},
   "outputs": [
    {
     "data": {
      "text/plain": [
       "defaultdict(list,\n",
       "            {'aehrt': ['earth', 'hater', 'heart'],\n",
       "             'at': ['at'],\n",
       "             'opst': ['stop', 'post', 'pots', 'stop'],\n",
       "             'no': ['on', 'no']})"
      ]
     },
     "execution_count": 128,
     "metadata": {},
     "output_type": "execute_result"
    }
   ],
   "source": [
    "anagram_table('earth hater at heart stop post on pots no stop'.split())"
   ]
  },
  {
   "cell_type": "code",
   "execution_count": null,
   "metadata": {},
   "outputs": [],
   "source": []
  },
  {
   "cell_type": "code",
   "execution_count": 132,
   "metadata": {},
   "outputs": [
    {
     "data": {
      "text/plain": [
       "\"\\n\\nI thought you'd never ask. If you represent a matrix as a sequence of sequences, then zip can do the job:\\n\\n>>> m = [(1,2,3), (4,5,6)]\\n>>> zip(*m)\\n[(1, 4), (2, 5), (3, 6)]\\n\\nTo understand this, you need to know that f(*m) is like apply(f, m). This is based on an old Lisp question, the answer to which is Python's equivalent of map(None, *m), but the zip version, suggested by Chih-Chung Chang, is even shorter. You might think this is only useful for an appearance on Letterman's Stupid Programmer's Tricks, but just the other day I was faced with this problem: given a list of database rows, where each row is a list of ordered values, find the domains (set of unique values) for each column. So I wrote:\\n\\ndomains = map(set, zip(*db))\\n\\n\""
      ]
     },
     "execution_count": 132,
     "metadata": {},
     "output_type": "execute_result"
    }
   ],
   "source": [
    "# Q: Hey, can you write code to transpose a matrix in 0.007KB or less?\n",
    "\n",
    "# I thought you'd never ask. If you represent a matrix as a sequence of sequences, then zip can do the job:\n",
    "\n",
    "\"\"\"\n",
    "\n",
    "I thought you'd never ask. If you represent a matrix as a sequence of sequences, then zip can do the job:\n",
    "\n",
    ">>> m = [(1,2,3), (4,5,6)]\n",
    ">>> zip(*m)\n",
    "[(1, 4), (2, 5), (3, 6)]\n",
    "\n",
    "To understand this, you need to know that f(*m) is like apply(f, m). This is based on an old Lisp question, the answer to which is Python's equivalent of map(None, *m), but the zip version, suggested by Chih-Chung Chang, is even shorter. You might think this is only useful for an appearance on Letterman's Stupid Programmer's Tricks, but just the other day I was faced with this problem: given a list of database rows, where each row is a list of ordered values, find the domains (set of unique values) for each column. So I wrote:\n",
    "\n",
    "domains = map(set, zip(*db))\n",
    "\n",
    "\"\"\""
   ]
  },
  {
   "cell_type": "code",
   "execution_count": null,
   "metadata": {},
   "outputs": [],
   "source": []
  },
  {
   "cell_type": "code",
   "execution_count": null,
   "metadata": {},
   "outputs": [],
   "source": []
  },
  {
   "cell_type": "code",
   "execution_count": 135,
   "metadata": {},
   "outputs": [
    {
     "ename": "SyntaxError",
     "evalue": "invalid syntax (<ipython-input-135-b210dff1c704>, line 2)",
     "output_type": "error",
     "traceback": [
      "\u001b[0;36m  File \u001b[0;32m\"<ipython-input-135-b210dff1c704>\"\u001b[0;36m, line \u001b[0;32m2\u001b[0m\n\u001b[0;31m    This question reveals a common misconception. There is no syntax for method calls!\u001b[0m\n\u001b[0m                ^\u001b[0m\n\u001b[0;31mSyntaxError\u001b[0m\u001b[0;31m:\u001b[0m invalid syntax\n"
     ]
    }
   ],
   "source": [
    "# Q: The f(*m) trick is cool. Does the same syntax work with method calls, like x.f(*y)?\n",
    "This question reveals a common misconception. There is no syntax for method calls! \n",
    "There is a syntax for calling a function, and there is a syntax for extracting a \n",
    "field from an object, and there are bound methods. Together these three features conspire to make it look like x.f(y) is a single piece of syntax, when actually it is equivalent to (x.f)(y), which is equivalent to (getattr(x, 'f'))(y). I can see you don't believe me. Look:\n",
    "\n",
    "class X:\n",
    "    def f(self, y): return 2 * y\n",
    "\n",
    ">>> x = X()\n",
    ">>> x.f\n",
    "<bound method X.f of <__main__.X instance at 0x009C7DB0>>\n",
    ">>> y = 21\n",
    ">>> x.f(y)\n",
    "42\n",
    ">>> (x.f)(y)\n",
    "42\n",
    ">>> (getattr(x, 'f'))(y)\n",
    "42\n",
    ">>> xf = x.f\n",
    ">>> xf(y)\n",
    "42\n",
    ">>> map(x.f, range(5))\n",
    "[0, 2, 4, 6, 8]\n",
    "\n",
    "So the answer to the question is: you can put *y or **y \n",
    "(or anything else that you would put into a function call) into a method call, \n",
    "because method calls are just function calls.\n"
   ]
  },
  {
   "cell_type": "code",
   "execution_count": null,
   "metadata": {},
   "outputs": [],
   "source": []
  },
  {
   "cell_type": "code",
   "execution_count": 136,
   "metadata": {},
   "outputs": [],
   "source": [
    "# Q: Can you implement abstract classes in Python in 0 lines of code? Or 4?\n",
    "\n"
   ]
  },
  {
   "cell_type": "code",
   "execution_count": 138,
   "metadata": {},
   "outputs": [
    {
     "data": {
      "text/plain": [
       "'\\nJava has an abstract keyword so you can define abstract classes that cannot be instantiated, but can be subclassed if you implement all the abstract methods in the class. It is a little known fact that you can use abstract in Python in almost the same way; the difference is that you get an error at runtime when you try to call the unimplemented method, rather than at compile time. Compare:\\n'"
      ]
     },
     "execution_count": 138,
     "metadata": {},
     "output_type": "execute_result"
    }
   ],
   "source": [
    "\"\"\"\n",
    "Java has an abstract keyword so you can define abstract classes that cannot be instantiated, but can be subclassed if you implement all the abstract methods in the class. It is a little known fact that you can use abstract in Python in almost the same way; the difference is that you get an error at runtime when you try to call the unimplemented method, rather than at compile time. Compare:\n",
    "\"\"\""
   ]
  },
  {
   "cell_type": "code",
   "execution_count": 139,
   "metadata": {},
   "outputs": [
    {
     "ename": "SyntaxError",
     "evalue": "invalid syntax (<ipython-input-139-b8535da62fc9>, line 8)",
     "output_type": "error",
     "traceback": [
      "\u001b[0;36m  File \u001b[0;32m\"<ipython-input-139-b8535da62fc9>\"\u001b[0;36m, line \u001b[0;32m8\u001b[0m\n\u001b[0;31m    >>> MyClass().method1()\u001b[0m\n\u001b[0m     ^\u001b[0m\n\u001b[0;31mSyntaxError\u001b[0m\u001b[0;31m:\u001b[0m invalid syntax\n"
     ]
    }
   ],
   "source": [
    "## Python\n",
    "class MyAbstractClass:\n",
    "    def method1(self): abstract\n",
    "\n",
    "class MyClass(MyAbstractClass): \n",
    "    pass\n",
    "\n",
    ">>> MyClass().method1()\n",
    "Traceback (most recent call last):\n",
    "    ...\n",
    "NameError: name 'abstract' is not defined"
   ]
  },
  {
   "cell_type": "code",
   "execution_count": 142,
   "metadata": {},
   "outputs": [
    {
     "data": {
      "text/plain": [
       "\"\\nDon't spend too much time looking for the abstract keyword in the Python Language Reference Manual; it isn't there. I added it to the language, and the great part is, the implementation is zero lines of code! What happens is that if you call method1, you get a NameError because there is no abstract variable. (You might say that's cheating, because it will break if somebody defines a variable called abstract. But then any program will break if someone redefines a variable that the code depends on. The only difference here is that we're depending on the lack of a definition rather than on a definition.)\\n\\nIf you're willing to write abstract() instead of abstract, then you can define a function that raises a NotImplementedError instead of a NameError, which makes more sense. (Also, if someone redefines abstract to be anything but a function of zero arguments, you'll still get an error message.) To make abstract's error message look nice, just peek into the stack frame to see who the offending caller is:\\n\""
      ]
     },
     "execution_count": 142,
     "metadata": {},
     "output_type": "execute_result"
    }
   ],
   "source": [
    "\"\"\"\n",
    "Don't spend too much time looking for the abstract keyword in the Python Language Reference Manual; it isn't there. I added it to the language, and the great part is, the implementation is zero lines of code! What happens is that if you call method1, you get a NameError because there is no abstract variable. (You might say that's cheating, because it will break if somebody defines a variable called abstract. But then any program will break if someone redefines a variable that the code depends on. The only difference here is that we're depending on the lack of a definition rather than on a definition.)\n",
    "\n",
    "If you're willing to write abstract() instead of abstract, then you can define a function that raises a NotImplementedError instead of a NameError, which makes more sense. (Also, if someone redefines abstract to be anything but a function of zero arguments, you'll still get an error message.) To make abstract's error message look nice, just peek into the stack frame to see who the offending caller is:\n",
    "\"\"\""
   ]
  },
  {
   "cell_type": "code",
   "execution_count": 143,
   "metadata": {},
   "outputs": [],
   "source": [
    "def abstract():\n",
    "    import inspect\n",
    "    caller = inspect.getouterframes(inspect.currentframe())[1][3]\n",
    "    raise NotImplementedError(caller + ' must be implemented in subclass')\n"
   ]
  },
  {
   "cell_type": "code",
   "execution_count": null,
   "metadata": {},
   "outputs": [],
   "source": []
  },
  {
   "cell_type": "code",
   "execution_count": null,
   "metadata": {},
   "outputs": [],
   "source": []
  },
  {
   "cell_type": "code",
   "execution_count": null,
   "metadata": {},
   "outputs": [],
   "source": []
  },
  {
   "cell_type": "code",
   "execution_count": 144,
   "metadata": {},
   "outputs": [
    {
     "data": {
      "text/plain": [
       "'\\nI assume you mean that you want a class that can only be instantiated once, and raises an exception if you try to make another instance. There are many answers with different pros and cons. The simplest way I know to do that is to define a function that enforces the idea, and call the function from the constructor in your class:\\n'"
      ]
     },
     "execution_count": 144,
     "metadata": {},
     "output_type": "execute_result"
    }
   ],
   "source": [
    "# Q: How do I do the Singleton Pattern in Python?\n",
    "\n",
    "\"\"\"\n",
    "I assume you mean that you want a class that can only be instantiated once, and raises an exception if you try to make another instance. There are many answers with different pros and cons. The simplest way I know to do that is to define a function that enforces the idea, and call the function from the constructor in your class:\n",
    "\"\"\"\n",
    "\n"
   ]
  },
  {
   "cell_type": "code",
   "execution_count": 145,
   "metadata": {},
   "outputs": [],
   "source": [
    "def singleton(object):\n",
    "    \"Raise an exception if an object of this class has been instantiated before.\"\n",
    "    cls = object.__class__\n",
    "    if hasattr(cls, '__instantiated'):\n",
    "        raise ValueError(\"%s is a Singleton class but is already instantiated\" % cls)\n",
    "    cls.__instantiated = True\n",
    "\n",
    "class YourClass:\n",
    "    \"A singleton class to do something ...\"\n",
    "    def __init__(self, args):\n",
    "        singleton(self)"
   ]
  },
  {
   "cell_type": "code",
   "execution_count": null,
   "metadata": {},
   "outputs": [],
   "source": []
  }
 ],
 "metadata": {
  "kernelspec": {
   "display_name": "Python 3",
   "language": "python",
   "name": "python3"
  },
  "language_info": {
   "codemirror_mode": {
    "name": "ipython",
    "version": 3
   },
   "file_extension": ".py",
   "mimetype": "text/x-python",
   "name": "python",
   "nbconvert_exporter": "python",
   "pygments_lexer": "ipython3",
   "version": "3.7.3"
  }
 },
 "nbformat": 4,
 "nbformat_minor": 2
}
