{
 "cells": [
  {
   "cell_type": "code",
   "execution_count": 1,
   "metadata": {},
   "outputs": [
    {
     "name": "stdout",
     "output_type": "stream",
     "text": [
      "[1448946000.0, 1, 0, 0, 1000.0, 13, 1, 981053100.0]\n",
      "[1465617600.0, 0, 1, 0, 3500.0, 8, 0, 1271212440.0]\n",
      "[1507780800.0, 0, 0, 1, 1200.0, 0, 0, 1341169680.0]\n",
      "[1447131600.0, 1, 0, 0, 11000.0, 153, 1, 787043640.0]\n",
      "[1467691200.0, 0, 0, 1, 150.0, 55, 1, 1094255700.0]\n"
     ]
    }
   ],
   "source": [
    "import time\n",
    "from datetime import datetime\n",
    "\n",
    "def format_data_for_modelling(schema, training_data, label_data):\n",
    "    \"\"\"\n",
    "    Takes in a list of headers, a training data set and info on the eventual\n",
    "    outcome (a.k.a label/dependent variable/flag), merges and reformats the\n",
    "    data to generate a list of feature vectors on which a logistic regression\n",
    "    model may be built. All features values must be real numbers.\n",
    "\n",
    "    :param schema: list of json representing column types, names and other info.\n",
    "        Every entry will have at least a 'type' and 'name' key and potentially\n",
    "        others. Types will be one of {id, date, datetime, str, float, int,\n",
    "        bool}.  Names will be unique across entries.\n",
    "            e.g. [{'type': 'int', 'name': 'my_field'}, ...]\n",
    "\n",
    "    :param training_data: list of lists where each internal list represents a\n",
    "        record to model. Columns follow types from schema.\n",
    "\n",
    "    :param label_data: dict of {id: bool} representing the dependent variable\n",
    "        (label) of the data set.\n",
    "\n",
    "    :return: list of lists of all numbers representing features capable of\n",
    "        having logistic regression run on them. The first col should have the\n",
    "        id and the final col should have the dependent variable/label flag\n",
    "            e.g. [[1,17,3,95.0,...,1],[2,34,5,96.0,...,0],...]\n",
    "    \"\"\"\n",
    "    ALLOWED_TYPES = {'id', 'date', 'datetime', 'str', 'float', 'int', 'bool'}\n",
    "\n",
    "    # ensure all column definitions contain at least type and name\n",
    "    assert all(['type' in x and 'name' in x for x in schema])\n",
    "    # ensure there is one and only one column with type id\n",
    "    assert sum([x['type'] == 'id' for x in schema]) == 1\n",
    "    # ensure all rows in training match len of column definitions\n",
    "    assert all(len(x) == len(schema) for x in training_data)\n",
    "    # ensure all types are standard\n",
    "    assert all([col['type'] in ALLOWED_TYPES for col in schema])\n",
    "    # ensure all names are unique\n",
    "    col_names = [col['name'] for col in schema]\n",
    "    assert all([col_names.count(col['name']) == 1 for col in schema])\n",
    "    \n",
    "    #implement your code here and output a 2D array:\n",
    "    \n",
    "    # categories = dict()\n",
    "    \n",
    "    # unique vals for str field\n",
    "    strs = set([row[2] for row in training_data])\n",
    "    counts = len(strs)\n",
    "    uniques = {ss:idx for idx, ss in enumerate(strs, 0)}\n",
    "    \n",
    "    \n",
    "    all_data = []\n",
    "    for row in training_data:\n",
    "        translated = []\n",
    "        # str_trans = [0] * counts  {'a':0, 'b':1, 'c':2 ...}\n",
    "        for idx, sc in enumerate(schema[1:], 1):\n",
    "            if sc['type'] == 'date':\n",
    "                translated.append(time.mktime(datetime.strptime(row[idx], sc['date_format']).timetuple()))\n",
    "            elif sc['type'] == 'str':\n",
    "                # cat = categories.get(row[idx], 0)\n",
    "                # if cat == 0:\n",
    "                #     categories[row[idx]] = len(categories) + 1\n",
    "                # translated.append(categories[row[idx]])\n",
    "                rr = [0] * counts\n",
    "                rr[uniques[row[idx]]] = 1\n",
    "                translated.extend(rr)\n",
    "            elif sc['type'] in ['float', 'int']:\n",
    "                translated.append(row[idx])\n",
    "            elif sc['type'] == 'bool':\n",
    "                translated.append(int(row[idx]))\n",
    "            elif sc['type'] == 'datetime':\n",
    "                translated.append(time.mktime(datetime.strptime(row[idx], sc['date_format']).timetuple()))\n",
    "                \n",
    "        all_data.append(translated)        \n",
    "    \n",
    "    return all_data   \n",
    "    # return [\n",
    "    #     # [123, <date features>, <categorical features>, ..., 1],\n",
    "    #     # [123, <..>, <..>, ..., 0],\n",
    "    # ]\n",
    "\n",
    "#-----------------Example Input-------------------#\n",
    "\n",
    "# it's ok to modify this schema to supply any extra info required\n",
    "example_schema = [\n",
    "    {'type': 'id', 'name': 'user_id'},\n",
    "    {'type': 'date', 'name': 'loan_application_date',\n",
    "     'date_format': '%m/%d/%Y'},\n",
    "    {'type': 'str', 'name': 'category_one'},\n",
    "    {'type': 'float', 'name': 'numerical_field_one'},\n",
    "    {'type': 'int', 'name': 'numerical_field_two'},\n",
    "    {'type': 'bool', 'name': 'bool_field_one'},\n",
    "    {'type': 'datetime', 'name': 'previous_event_date_1',\n",
    "     'date_format': '%m/%d/%Y %H:%M'},\n",
    "]\n",
    "\n",
    "example_training_data = [\n",
    "    [123, \"12/1/2015\", \"a\", 1000.0, 13, True, \"2/1/2001 13:45\"],\n",
    "    [124, \"6/11/2016\", \"b\", 3500.0, 8, False, \"4/13/2010 22:34\"],\n",
    "    [125, \"10/12/2017\", \"c\", 1200.0, 0, False, \"7/1/2012 15:08\"],\n",
    "    [126, \"11/10/2015\", \"a\", 11000.0, 153, True, \"12/10/1994 02:14\"],\n",
    "    [127, \"7/5/2016\", \"c\", 150.0, 55, True, \"9/3/2004 19:55\"],\n",
    "]\n",
    "\n",
    "example_label_data = {\n",
    "    123: True,\n",
    "    124: False,\n",
    "    126: False,\n",
    "    127: True\n",
    "}\n",
    "\n",
    "for line in format_data_for_modelling(\n",
    "    example_schema,\n",
    "    example_training_data,\n",
    "    example_label_data\n",
    "):\n",
    "    print(line)"
   ]
  },
  {
   "cell_type": "code",
   "execution_count": null,
   "metadata": {},
   "outputs": [],
   "source": []
  },
  {
   "cell_type": "code",
   "execution_count": 2,
   "metadata": {},
   "outputs": [
    {
     "data": {
      "text/plain": [
       "['aa', 'axax']"
      ]
     },
     "execution_count": 2,
     "metadata": {},
     "output_type": "execute_result"
    }
   ],
   "source": [
    " sorted(['aa', 'axax'], key=len)\n"
   ]
  },
  {
   "cell_type": "code",
   "execution_count": null,
   "metadata": {},
   "outputs": [],
   "source": []
  },
  {
   "cell_type": "code",
   "execution_count": 10,
   "metadata": {},
   "outputs": [],
   "source": [
    "# tuple(map(chr, range(ord('a'), ord('z')+1)))"
   ]
  },
  {
   "cell_type": "code",
   "execution_count": null,
   "metadata": {},
   "outputs": [],
   "source": []
  },
  {
   "cell_type": "code",
   "execution_count": 18,
   "metadata": {},
   "outputs": [
    {
     "name": "stdout",
     "output_type": "stream",
     "text": [
      "0*97Y7c@76*%05Q96\n"
     ]
    }
   ],
   "source": [
    "# password generator\n",
    "import random\n",
    "\n",
    "LOWERCASE_CHARS = tuple(map(chr, range(ord('a'), ord('z')+1)))\n",
    "UPPERCASE_CHARS = tuple(map(chr, range(ord('A'), ord('Z')+1)))\n",
    "DIGITS = tuple(map(str, range(0, 10)))\n",
    "SPECIALS = ('!', '@', '#', '$', '%', '^', '&', '*')\n",
    "\n",
    "SEQUENCE = (LOWERCASE_CHARS,\n",
    "            UPPERCASE_CHARS,\n",
    "            DIGITS,\n",
    "            SPECIALS,\n",
    "            )\n",
    "\n",
    "def generate_random_password(total, sequences):\n",
    "    r = _generate_random_number_for_each_sequence(total, len(sequences))\n",
    "#     print(r)\n",
    "    password = []\n",
    "    for (population, k) in zip(sequences, r):\n",
    "        n = 0\n",
    "        while n < k:\n",
    "            position = random.randint(0, len(population)-1)\n",
    "            password += population[position]\n",
    "            n += 1\n",
    "    random.shuffle(password)\n",
    "    \n",
    "    while _is_repeating(password):\n",
    "        random.shuffle(password)\n",
    "        \n",
    "    return ''.join(password)\n",
    "\n",
    "def _generate_random_number_for_each_sequence(total, sequence_number):\n",
    "    \"\"\" Generate random sequence with numbers (greater than 0).\n",
    "        The number of items equals to 'sequence_number' and\n",
    "        the total number of items equals to 'total'\n",
    "    \"\"\"\n",
    "    current_total = 0\n",
    "    r = []\n",
    "    for n in range(sequence_number-1, 0, -1):\n",
    "        current = random.randint(1, total - current_total - n)\n",
    "        current_total += current\n",
    "        r.append(current)\n",
    "    r.append(total - sum(r))\n",
    "    random.shuffle(r)\n",
    "\n",
    "    return r\n",
    "\n",
    "def _is_repeating(password):\n",
    "    \"\"\" Check if there is any 2 characters repeating consecutively \"\"\"\n",
    "    n = 1\n",
    "    while n < len(password):\n",
    "        if password[n] == password[n-1]:\n",
    "            return True\n",
    "        n += 1\n",
    "    return False\n",
    "\n",
    "if __name__ == '__main__':\n",
    "    print(generate_random_password(random.randint(6, 30), SEQUENCE))"
   ]
  },
  {
   "cell_type": "code",
   "execution_count": 17,
   "metadata": {},
   "outputs": [
    {
     "data": {
      "text/plain": [
       "True"
      ]
     },
     "execution_count": 17,
     "metadata": {},
     "output_type": "execute_result"
    }
   ],
   "source": [
    "_is_repeating('aa')"
   ]
  },
  {
   "cell_type": "code",
   "execution_count": null,
   "metadata": {},
   "outputs": [],
   "source": []
  },
  {
   "cell_type": "code",
   "execution_count": null,
   "metadata": {},
   "outputs": [],
   "source": []
  },
  {
   "cell_type": "code",
   "execution_count": null,
   "metadata": {},
   "outputs": [],
   "source": []
  },
  {
   "cell_type": "code",
   "execution_count": null,
   "metadata": {},
   "outputs": [],
   "source": []
  },
  {
   "cell_type": "markdown",
   "metadata": {},
   "source": [
    "# Following examples are from\n",
    "http://pythonfiddle.com/knockout-sequence-sorting/"
   ]
  },
  {
   "cell_type": "code",
   "execution_count": 20,
   "metadata": {},
   "outputs": [
    {
     "name": "stdout",
     "output_type": "stream",
     "text": [
      "False\n"
     ]
    }
   ],
   "source": [
    "class DFA:\n",
    "    current_state = None;\n",
    "    def __init__(self, states, alphabet, transition_function, start_state, accept_states):\n",
    "        self.states = states;\n",
    "        self.alphabet = alphabet;\n",
    "        self.transition_function = transition_function;\n",
    "        self.start_state = start_state;\n",
    "        self.accept_states = accept_states;\n",
    "        self.current_state = start_state;\n",
    "        return;\n",
    "    \n",
    "    def transition_to_state_with_input(self, input_value):\n",
    "        if ((self.current_state, input_value) not in self.transition_function.keys()):\n",
    "            self.current_state = None;\n",
    "            return;\n",
    "        self.current_state = self.transition_function[(self.current_state, input_value)];\n",
    "        return;\n",
    "    \n",
    "    def in_accept_state(self):\n",
    "        return self.current_state in accept_states;\n",
    "    \n",
    "    def go_to_initial_state(self):\n",
    "        self.current_state = self.start_state;\n",
    "        return;\n",
    "    \n",
    "    def run_with_input_list(self, input_list):\n",
    "        self.go_to_initial_state();\n",
    "        for inp in input_list:\n",
    "            self.transition_to_state_with_input(inp);\n",
    "            continue;\n",
    "        return self.in_accept_state();\n",
    "    pass;\n",
    "\n",
    "\n",
    "\n",
    "states = {0, 1, 2, 3};\n",
    "alphabet = {'a', 'b', 'c', 'd'};\n",
    "\n",
    "tf = dict();\n",
    "tf[(0, 'a')] = 1;\n",
    "tf[(0, 'b')] = 2;\n",
    "tf[(0, 'c')] = 3;\n",
    "tf[(0, 'd')] = 0;\n",
    "tf[(1, 'a')] = 1;\n",
    "tf[(1, 'b')] = 2;\n",
    "tf[(1, 'c')] = 3;\n",
    "tf[(1, 'd')] = 0;\n",
    "tf[(2, 'a')] = 1;\n",
    "tf[(2, 'b')] = 2;\n",
    "tf[(2, 'c')] = 3;\n",
    "tf[(2, 'd')] = 0;\n",
    "tf[(3, 'a')] = 1;\n",
    "tf[(3, 'b')] = 2;\n",
    "tf[(3, 'c')] = 3;\n",
    "tf[(3, 'd')] = 0;\n",
    "start_state = 0;\n",
    "accept_states = {2, 3};\n",
    "\n",
    "d = DFA(states, alphabet, tf, start_state, accept_states);\n",
    "\n",
    "inp_program = list('abcdabcdabcd');\n",
    "\n",
    "print(d.run_with_input_list(inp_program))\n"
   ]
  },
  {
   "cell_type": "code",
   "execution_count": null,
   "metadata": {},
   "outputs": [],
   "source": []
  },
  {
   "cell_type": "code",
   "execution_count": null,
   "metadata": {},
   "outputs": [],
   "source": []
  },
  {
   "cell_type": "code",
   "execution_count": 23,
   "metadata": {},
   "outputs": [
    {
     "name": "stdout",
     "output_type": "stream",
     "text": [
      "Cartesian: (12.0,5.0)\n",
      "Polar: r = 13.0, Theta = 22.6 degrees\n"
     ]
    }
   ],
   "source": [
    "import math\n",
    "\n",
    "i=12.0\n",
    "q=5.0\n",
    "\n",
    "print(\"Cartesian: (%.1f,%.1f)\" %(i,q))\n",
    "print(\"Polar: r = %.1f\" %math.sqrt(math.pow(i,2) + math.pow(q,2)) + \", Theta = %.1f\" %math.degrees(math.atan(q/i)) + \" degrees\")\n",
    "\n"
   ]
  },
  {
   "cell_type": "code",
   "execution_count": null,
   "metadata": {},
   "outputs": [],
   "source": []
  },
  {
   "cell_type": "code",
   "execution_count": null,
   "metadata": {},
   "outputs": [],
   "source": []
  },
  {
   "cell_type": "code",
   "execution_count": null,
   "metadata": {},
   "outputs": [],
   "source": []
  },
  {
   "cell_type": "markdown",
   "metadata": {},
   "source": [
    "## This script parses GPX stream and convert to LatLong pairs. The script is based on Pi Marillion's answer: http://stackoverflow.com/a/19470243/2327005"
   ]
  },
  {
   "cell_type": "code",
   "execution_count": 25,
   "metadata": {},
   "outputs": [
    {
     "name": "stdout",
     "output_type": "stream",
     "text": [
      "-9.0997973,38.8577288\n",
      "-9.1000557,38.8576367\n",
      "-9.1006374,38.8575259\n"
     ]
    }
   ],
   "source": [
    "#! /usr/bin/env python\n",
    "\n",
    "# use the regex module\n",
    "import re\n",
    "\n",
    "# read in the file\n",
    "# in_file = open('source').read()\n",
    "\n",
    "# or use string as input\n",
    "in_file = '''\n",
    "\t <trk>\n",
    "        <trkseg>\n",
    "            <trkpt lat=\"38.8577288\" lon=\"-9.0997973\"/>\n",
    "            <trkpt lat=\"38.8576367\" lon=\"-9.1000557\"/>\n",
    "            <trkpt lat=\"38.8575259\" lon=\"-9.1006374\"/>\n",
    "        </trkseg>\n",
    "    </trk>\n",
    "'''\n",
    "\n",
    "# Find matches using regex\n",
    "matches = re.findall('<trkpt lat=\"([-0-9\\.]+)\" lon=\"([-0-9\\.]+)\"/>', in_file)\n",
    "\n",
    "# make new file lines by combining lat and lon from matches\n",
    "out_lines = [lon + ',' + lat for lat, lon in matches]\n",
    "\n",
    "# convert array of strings to single string\n",
    "out_lines = '\\n'.join(out_lines)\n",
    "\n",
    "print(out_lines)\n",
    "# output to new file\n",
    "# open('dest', 'w').write(out_lines)"
   ]
  },
  {
   "cell_type": "code",
   "execution_count": null,
   "metadata": {},
   "outputs": [],
   "source": []
  },
  {
   "cell_type": "code",
   "execution_count": null,
   "metadata": {},
   "outputs": [],
   "source": []
  },
  {
   "cell_type": "code",
   "execution_count": 29,
   "metadata": {},
   "outputs": [
    {
     "name": "stdout",
     "output_type": "stream",
     "text": [
      "For 1071 and 1029 ,\n",
      "the greatest common divisor is 21 .\n",
      "For 5538 and 1105 ,\n",
      "the greatest common divisor is 13 .\n",
      "For 8764 and 7732 ,\n",
      "the greatest common divisor is 4 .\n"
     ]
    }
   ],
   "source": [
    "def greatest_common_divisor(x,y):\n",
    "    print(\"For\", x, \"and\", y,\",\"  )\n",
    "    r=x%y\n",
    "    while r>0:\n",
    "        r=x%y\n",
    "        if r ==0: \n",
    "            print(\"the greatest common divisor is\", y,\".\")\n",
    "        else:\n",
    "            q=y\n",
    "            x=q\n",
    "            y=r\n",
    "\n",
    "greatest_common_divisor(1071,1029)\n",
    "greatest_common_divisor(5538,1105)\n",
    "greatest_common_divisor(8764,7732)        \n",
    "\n"
   ]
  },
  {
   "cell_type": "code",
   "execution_count": null,
   "metadata": {},
   "outputs": [],
   "source": []
  },
  {
   "cell_type": "code",
   "execution_count": null,
   "metadata": {},
   "outputs": [],
   "source": []
  },
  {
   "cell_type": "code",
   "execution_count": null,
   "metadata": {},
   "outputs": [],
   "source": []
  },
  {
   "cell_type": "code",
   "execution_count": 32,
   "metadata": {},
   "outputs": [
    {
     "name": "stdout",
     "output_type": "stream",
     "text": [
      "Pushing: 9\n",
      "Pushing: 3\n",
      "Pushing: 2\n",
      "Pushing: 9\n",
      "Pushing: 15\n",
      "Pushing: 4\n",
      "Pushing: 5\n",
      "Pushing: 10\n",
      "Pushing: 11\n",
      "Pushing: 10\n",
      "15\n"
     ]
    }
   ],
   "source": [
    "# Add a max operator which will return the max value held in the stack in constant time\n",
    "\n",
    "import random\n",
    "# max operation on a stack\n",
    "\n",
    "class Node:\n",
    "  def __init__(self):\n",
    "    self.data = None # contains the data\n",
    "\n",
    "class StackNode:\n",
    "  def __init__(self):\n",
    "    self.maxNode = None # contains the data  \n",
    "    self.nextNode = None\n",
    "\n",
    "class Stack:\n",
    "  def __init__(self):\n",
    "    self.head = None      \n",
    "        \n",
    "  def push(self, node):\n",
    "     \n",
    "    toAdd = StackNode()       \n",
    "    if self.head:\n",
    "      toAdd.nextNode = self.head\n",
    "      if node.data > self.head.maxNode.data:\n",
    "        toAdd.maxNode = node\n",
    "      else:\n",
    "        toAdd.maxNode = self.head.maxNode               \n",
    "    else:\n",
    "      toAdd.maxNode = node\n",
    "    self.head = toAdd  \n",
    "        \n",
    "       \n",
    "  def pop(self):\n",
    "    toReturn = None  \n",
    "    if self.head:\n",
    "      toReturn = self.head\n",
    "      if self.head.nextNode:\n",
    "        self.head = self.head.nextNode\n",
    "      else:\n",
    "        self.head = None\n",
    "        \n",
    "    return toReturn  \n",
    "      \n",
    "  def max(self):\n",
    "   return self.head.maxNode.data \n",
    "    \n",
    "    \n",
    "    \n",
    "stack = Stack()\n",
    "for i in range (0,10):\n",
    "  node = Node()\n",
    "  node.data = random.randint(1,20)\n",
    "  print(\"Pushing: \" + str(node.data))\n",
    "  stack.push(node)\n",
    "\n",
    "print(stack.max()  )"
   ]
  },
  {
   "cell_type": "code",
   "execution_count": 33,
   "metadata": {},
   "outputs": [
    {
     "data": {
      "text/plain": [
       "<__main__.Stack at 0x1127708d0>"
      ]
     },
     "execution_count": 33,
     "metadata": {},
     "output_type": "execute_result"
    }
   ],
   "source": [
    "stack"
   ]
  },
  {
   "cell_type": "code",
   "execution_count": null,
   "metadata": {},
   "outputs": [],
   "source": []
  },
  {
   "cell_type": "code",
   "execution_count": null,
   "metadata": {},
   "outputs": [],
   "source": []
  },
  {
   "cell_type": "code",
   "execution_count": 35,
   "metadata": {},
   "outputs": [
    {
     "name": "stdout",
     "output_type": "stream",
     "text": [
      "0\n",
      "1\n",
      "2\n",
      "3\n",
      "4\n",
      "5\n",
      "6\n",
      "7\n",
      "8\n",
      "0\n",
      "2\n",
      "4\n",
      "6\n",
      "8\n",
      "1\n",
      "3\n",
      "5\n",
      "7\n"
     ]
    }
   ],
   "source": [
    "# Reorder a linked list such that \n",
    "# n0 -> n1 -> n2 -> n3 -> n4 -> n5\n",
    "\n",
    "# becomes \n",
    "\n",
    "# n0 -> n2 -> n4 -> n1 -> n3 -> n5\n",
    "\n",
    "\n",
    "class Node:\n",
    "  def __init__(self):\n",
    "    self.data = None # contains the data\n",
    "    self.nextNode = None # contains the reference to the next node\n",
    "\n",
    "# create a linked list without a cycle    \n",
    "head = Node()\n",
    "head.data = 0\n",
    "current = head\n",
    "\n",
    "for i in range(1,9):\n",
    "  new_node = Node()\n",
    "  new_node.data = i\n",
    "  current.nextNode = new_node\n",
    "  current = new_node  \n",
    "\n",
    "\n",
    "def printList(head):\n",
    "  current = head\n",
    "  while current.nextNode:\n",
    "    print(current.data)\n",
    "    current = current.nextNode\n",
    "\n",
    "  print(current.data)\n",
    "\n",
    "def oddsEvens(head):\n",
    "\n",
    "  temp = None  \n",
    "  current = head\n",
    "  head2 = head.nextNode\n",
    "  count = 1  \n",
    "  while current.nextNode:\n",
    "    count += 1    \n",
    "    temp = current.nextNode\n",
    "    if temp.nextNode:\n",
    "      current.nextNode = temp.nextNode\n",
    "      current = temp\n",
    "    elif (count % 2 == 0): \n",
    "      current.nextNode = head2\n",
    "      break        \n",
    "    else:\n",
    "      current.nextNode = None\n",
    "      temp.nextNode = head2\n",
    "      break\n",
    "        \n",
    "  printList(head)\n",
    "  \n",
    "    \n",
    "printList(head)    \n",
    "oddsEvens(head)   \n",
    "    \n",
    "  "
   ]
  },
  {
   "cell_type": "code",
   "execution_count": null,
   "metadata": {},
   "outputs": [],
   "source": []
  },
  {
   "cell_type": "code",
   "execution_count": null,
   "metadata": {},
   "outputs": [],
   "source": []
  },
  {
   "cell_type": "code",
   "execution_count": 38,
   "metadata": {},
   "outputs": [
    {
     "name": "stdout",
     "output_type": "stream",
     "text": [
      "\" An investment in knowledge pays the best interest.\" -- Benjamin Franklin\n"
     ]
    }
   ],
   "source": [
    "# Flatten a list using a single line function.\n",
    "\n",
    "import itertools\n",
    "\n",
    "flatten = lambda x: list(itertools.chain.from_iterable(x))\n",
    "\n",
    "s = [['\"', 'An', 'investment'], ['in'], ['knowledge'], ['pays'], ['the', 'best'], ['interest.\"', '--'], ['Benjamin'], ['Franklin']]\n",
    "print(' '.join(flatten(s)))\n",
    "\n"
   ]
  },
  {
   "cell_type": "code",
   "execution_count": null,
   "metadata": {},
   "outputs": [],
   "source": []
  },
  {
   "cell_type": "code",
   "execution_count": 40,
   "metadata": {},
   "outputs": [
    {
     "name": "stdout",
     "output_type": "stream",
     "text": [
      "1294477754.31067\n"
     ]
    }
   ],
   "source": [
    "import datetime\n",
    "\n",
    "my_birthdate = datetime.date(1979,3,12)\n",
    "my_birthtime = datetime.time(6,0)\n",
    "my_birthday = datetime.datetime.combine(my_birthdate, my_birthtime)\n",
    "now = datetime.datetime.now()\n",
    "\n",
    "time_passed = now - my_birthday\n",
    "how_many_seconds = time_passed.total_seconds()\n",
    "print(how_many_seconds)\n",
    "\n"
   ]
  },
  {
   "cell_type": "code",
   "execution_count": 41,
   "metadata": {},
   "outputs": [
    {
     "data": {
      "text/plain": [
       "datetime.date(1979, 3, 12)"
      ]
     },
     "execution_count": 41,
     "metadata": {},
     "output_type": "execute_result"
    }
   ],
   "source": [
    "my_birthdate"
   ]
  },
  {
   "cell_type": "code",
   "execution_count": 42,
   "metadata": {},
   "outputs": [
    {
     "data": {
      "text/plain": [
       "datetime.time(6, 0)"
      ]
     },
     "execution_count": 42,
     "metadata": {},
     "output_type": "execute_result"
    }
   ],
   "source": [
    "my_birthtime"
   ]
  },
  {
   "cell_type": "code",
   "execution_count": 43,
   "metadata": {},
   "outputs": [
    {
     "data": {
      "text/plain": [
       "datetime.datetime(1979, 3, 12, 6, 0)"
      ]
     },
     "execution_count": 43,
     "metadata": {},
     "output_type": "execute_result"
    }
   ],
   "source": [
    "my_birthday"
   ]
  },
  {
   "cell_type": "code",
   "execution_count": null,
   "metadata": {},
   "outputs": [],
   "source": []
  },
  {
   "cell_type": "code",
   "execution_count": null,
   "metadata": {},
   "outputs": [],
   "source": []
  },
  {
   "cell_type": "code",
   "execution_count": null,
   "metadata": {},
   "outputs": [],
   "source": []
  },
  {
   "cell_type": "code",
   "execution_count": null,
   "metadata": {},
   "outputs": [],
   "source": []
  },
  {
   "cell_type": "code",
   "execution_count": 46,
   "metadata": {},
   "outputs": [
    {
     "name": "stdout",
     "output_type": "stream",
     "text": [
      "test\n",
      "tset\n"
     ]
    }
   ],
   "source": [
    "'''This is my first solution on Coderbyte'''\n",
    "\n",
    "def FirstReverse(str): \n",
    "\n",
    "  # code goes here\n",
    "  ret_str = ''\n",
    "  for l in range(len(str)-1,-1,-1):\n",
    "    ret_str += str[l]\n",
    "  return ret_str\n",
    "    \n",
    "    \n",
    "# keep this function call here  \n",
    "# to see how to enter arguments in Python scroll down\n",
    "print(FirstReverse(input()))\n",
    "\n"
   ]
  },
  {
   "cell_type": "code",
   "execution_count": null,
   "metadata": {},
   "outputs": [],
   "source": []
  },
  {
   "cell_type": "code",
   "execution_count": null,
   "metadata": {},
   "outputs": [],
   "source": []
  },
  {
   "cell_type": "code",
   "execution_count": null,
   "metadata": {},
   "outputs": [],
   "source": []
  },
  {
   "cell_type": "code",
   "execution_count": 49,
   "metadata": {},
   "outputs": [
    {
     "name": "stdout",
     "output_type": "stream",
     "text": [
      "0\n",
      "1\n",
      "26\n",
      "27\n",
      "16383\n",
      "52\n"
     ]
    }
   ],
   "source": [
    "# Retrieve the column index from a spreadsheet style column alpha ID  \n",
    "def id2num(s):\n",
    "    \"\"\" spreadsheet column name to number\n",
    "    http://stackoverflow.com/questions/7261936\n",
    "\n",
    "   :param s: str -- spreadsheet column alpha ID (i.e. A, B, ... AA, AB,...)\n",
    "   :returns: int -- spreadsheet column number (zero-based index)\n",
    "\n",
    "    >>> id2num('A')\n",
    "    0\n",
    "    >>> id2num('B')\n",
    "    1\n",
    "    >>> id2num('XFD')\n",
    "    16383\n",
    "    >>>\n",
    "\n",
    "    \"\"\"\n",
    "    n = 0\n",
    "    for ch in s.upper():\n",
    "        n = n * 26 + (ord(ch) - 65) + 1\n",
    "    return n - 1\n",
    "\n",
    "print(id2num('A'))\n",
    "print(id2num('B'))\n",
    "print(id2num('AA'))\n",
    "print(id2num('AB'))\n",
    "print(id2num('XFD'))\n",
    "print(id2num('BA'))\n"
   ]
  },
  {
   "cell_type": "code",
   "execution_count": null,
   "metadata": {},
   "outputs": [],
   "source": []
  },
  {
   "cell_type": "code",
   "execution_count": null,
   "metadata": {},
   "outputs": [],
   "source": []
  },
  {
   "cell_type": "code",
   "execution_count": null,
   "metadata": {},
   "outputs": [],
   "source": []
  },
  {
   "cell_type": "code",
   "execution_count": null,
   "metadata": {},
   "outputs": [],
   "source": []
  },
  {
   "cell_type": "code",
   "execution_count": 58,
   "metadata": {},
   "outputs": [
    {
     "name": "stdout",
     "output_type": "stream",
     "text": [
      "1366\n",
      "15\n"
     ]
    }
   ],
   "source": [
    "# Project Euler Problem # 16\n",
    "# Takes a number and sums its digits\n",
    "\n",
    "def PowerDigitSum(value):\n",
    "    sumDigit = 0\n",
    "    while value > 0:\n",
    "        mod = value % 10\n",
    "        value = value // 10\n",
    "        sumDigit = sumDigit + mod\n",
    "    return sumDigit\n",
    "        \n",
    "print(PowerDigitSum(2**1000))\n",
    "print(PowerDigitSum(78))"
   ]
  },
  {
   "cell_type": "code",
   "execution_count": null,
   "metadata": {},
   "outputs": [],
   "source": []
  },
  {
   "cell_type": "code",
   "execution_count": null,
   "metadata": {},
   "outputs": [],
   "source": []
  },
  {
   "cell_type": "code",
   "execution_count": null,
   "metadata": {},
   "outputs": [],
   "source": []
  },
  {
   "cell_type": "code",
   "execution_count": 63,
   "metadata": {},
   "outputs": [
    {
     "name": "stdout",
     "output_type": "stream",
     "text": [
      "Trafficking achieved.\n",
      "6c73d5240a948c86981bc2808548\n"
     ]
    }
   ],
   "source": [
    "# Definitions\n",
    "# One Time Pad encryption is a secure \n",
    "\n",
    "message = bytearray.fromhex('6c73d5240a948c86981bc294814d')\n",
    "clear = bytearray('attack at dawn', 'utf-8')\n",
    "new = bytearray('attack at dusk', 'utf-8')\n",
    "\n",
    "def mod(a, b):\n",
    "    c = bytearray()\n",
    "    for i, j in zip(a, b):\n",
    "        i, j = bin(i)[2:], bin(j)[2:]\n",
    "        while len(i) < 8:\n",
    "            i = '0' + i\n",
    "        while len(j) < 8:\n",
    "            j = '0' + j\n",
    "        k = '0b' + ''.join(str((int(m) + int(n)) % 2) for m, n in zip(i, j))\n",
    "        k = int(k, 2)\n",
    "        c.append(k)\n",
    "    return c\n",
    "\n",
    "def hexstring(a):\n",
    "    b = ''\n",
    "    for i in a:\n",
    "        i = hex(i)[2:]\n",
    "        while len(i) < 2:\n",
    "            i = '0' + i\n",
    "        b = b + i\n",
    "    return b\n",
    "\n",
    "# Execution\n",
    "\n",
    "if __name__ == '__main__':\n",
    "    diff = mod(clear, new)\n",
    "    modif = mod(message, diff)\n",
    "    if mod(diff, modif) == message:\n",
    "        print('Trafficking achieved.')\n",
    "        print(hexstring(modif))"
   ]
  },
  {
   "cell_type": "code",
   "execution_count": 62,
   "metadata": {},
   "outputs": [
    {
     "data": {
      "text/plain": [
       "bytearray(b'ls\\xd5$\\n\\x94\\x8c\\x86\\x98\\x1b\\xc2\\x94\\x81M')"
      ]
     },
     "execution_count": 62,
     "metadata": {},
     "output_type": "execute_result"
    }
   ],
   "source": [
    "message\n",
    "bytearray.fromhex('6c73d5240a948c86981bc294814d')"
   ]
  },
  {
   "cell_type": "code",
   "execution_count": 61,
   "metadata": {},
   "outputs": [
    {
     "data": {
      "text/plain": [
       "bytearray(b'attack at dusk')"
      ]
     },
     "execution_count": 61,
     "metadata": {},
     "output_type": "execute_result"
    }
   ],
   "source": [
    "new"
   ]
  },
  {
   "cell_type": "code",
   "execution_count": null,
   "metadata": {},
   "outputs": [],
   "source": []
  },
  {
   "cell_type": "code",
   "execution_count": null,
   "metadata": {},
   "outputs": [],
   "source": []
  },
  {
   "cell_type": "code",
   "execution_count": null,
   "metadata": {},
   "outputs": [],
   "source": []
  },
  {
   "cell_type": "code",
   "execution_count": null,
   "metadata": {},
   "outputs": [],
   "source": []
  },
  {
   "cell_type": "code",
   "execution_count": null,
   "metadata": {},
   "outputs": [],
   "source": []
  },
  {
   "cell_type": "code",
   "execution_count": 67,
   "metadata": {},
   "outputs": [
    {
     "name": "stdout",
     "output_type": "stream",
     "text": [
      "red\n",
      "green\n",
      "3\n",
      "[1, 2, 3]\n",
      "7\n",
      "30\n",
      "yay\n",
      "0\n",
      "1\n",
      "2\n",
      "3\n",
      "4\n",
      "5\n",
      "6\n",
      "7\n",
      "8\n",
      "9\n",
      "10\n",
      "11\n",
      "12\n",
      "13\n",
      "14\n",
      "15\n",
      "16\n",
      "17\n",
      "18\n",
      "19\n",
      "20\n",
      "21\n",
      "22\n",
      "23\n",
      "24\n",
      "25\n",
      "26\n",
      "27\n",
      "28\n",
      "29\n",
      "30\n",
      "31\n",
      "32\n",
      "33\n",
      "34\n",
      "35\n",
      "36\n",
      "37\n",
      "38\n",
      "39\n",
      "40\n",
      "41\n",
      "42\n",
      "43\n",
      "44\n",
      "45\n",
      "46\n",
      "47\n",
      "48\n",
      "49\n",
      "50\n",
      "51\n",
      "52\n",
      "53\n",
      "54\n",
      "55\n",
      "56\n",
      "57\n",
      "58\n",
      "59\n",
      "60\n",
      "61\n",
      "62\n",
      "63\n",
      "64\n",
      "65\n",
      "66\n",
      "67\n",
      "68\n",
      "69\n",
      "70\n",
      "71\n",
      "72\n",
      "73\n",
      "74\n",
      "75\n",
      "76\n",
      "77\n",
      "78\n",
      "79\n",
      "80\n",
      "81\n",
      "82\n",
      "83\n",
      "84\n",
      "85\n",
      "86\n",
      "87\n",
      "88\n",
      "89\n",
      "90\n",
      "91\n",
      "92\n",
      "93\n",
      "94\n",
      "95\n",
      "96\n",
      "97\n",
      "98\n",
      "99\n",
      "1\n",
      "4\n",
      "7\n",
      "0\n",
      "3\n",
      "6\n",
      "9\n",
      "['xxx', 'larry', 'curly', 'moe', 'shemp', 'yyy', 'zzz']\n",
      "2\n",
      "larry\n",
      "['xxx', 'moe', 'shemp', 'yyy', 'zzz']\n",
      "['b', 'c']\n",
      "['z', 'c', 'd']\n"
     ]
    }
   ],
   "source": [
    "#!/usr/bin/python -tt\n",
    "# Copyright 2010 Google Inc.\n",
    "# Licensed under the Apache License, Version 2.0\n",
    "# http://www.apache.org/licenses/LICENSE-2.0\n",
    "\n",
    "# Google's Python Class\n",
    "# http://code.google.com/edu/languages/google-python-class/\n",
    "# Lecture List\n",
    "def main():\n",
    "  general()\n",
    "  meths()\n",
    "  \n",
    "def general():\n",
    "  colors = ['red', 'blue', 'green']\n",
    "  print(colors[0])    ## red\n",
    "  print(colors[2] )   ## green\n",
    "  print( len(colors) )  ## 3\n",
    "  \n",
    "  z = [1,2,3]\n",
    "  y = [4,5,6]\n",
    "  x = z + y\n",
    "  print( z)\n",
    "  x = (y)\n",
    "  x[0] = 7\n",
    "  print( y[0])\n",
    "  \n",
    "  squares = [1, 4, 9, 16]\n",
    "  sum = 0\n",
    "  for num in squares: sum += num\n",
    "  print( sum)\n",
    "  \n",
    "  list = ['larry', 'curly', 'moe']\n",
    "  if 'curly' in list: print ('yay')\n",
    "  \n",
    "  ## print the numbers from 0 through 99\n",
    "  for i in range(100): print( i)\n",
    "    \n",
    "  ## Access every 3rd element in a list\n",
    "  a = [1,2,3,4,5,6,7,8,9,0,1,2,3,4,5,6,7,8,9,0]\n",
    "  i = 0\n",
    "  while i < len(a):\n",
    "    print (a[i])\n",
    "    i = i + 3\n",
    "    \n",
    "def meths():\n",
    "  list = ['larry', 'curly', 'moe']\n",
    "  list.append('shemp')         ## append elem at end\n",
    "  list.insert(0, 'xxx')        ## insert elem at index 0\n",
    "  list.extend(['yyy', 'zzz'])  ## add list of elems at end\n",
    "  print( list ) ## ['xxx', 'larry', 'curly', 'moe', 'shemp', 'yyy', 'zzz']\n",
    "  print (list.index('curly'))    ## 2\n",
    "\n",
    "  list.remove('curly')         ## search and remove that element\n",
    "  print( list.pop(1) )           ## removes and returns 'larry'\n",
    "  print( list)  ## ['xxx', 'moe', 'shemp', 'yyy', 'zzz']\n",
    "\n",
    "  list = ['a', 'b', 'c', 'd']\n",
    "  print( list[1:-1])   ## ['b', 'c']\n",
    "  list[0:2] = 'z'    ## replace ['a', 'b'] with ['z']\n",
    "  print (list )        ## ['z', 'c', 'd']\n",
    "    \n",
    "# Standard boilerplate to call the main() function.\n",
    "if __name__ == '__main__':\n",
    "  main()"
   ]
  },
  {
   "cell_type": "code",
   "execution_count": null,
   "metadata": {},
   "outputs": [],
   "source": []
  },
  {
   "cell_type": "code",
   "execution_count": null,
   "metadata": {},
   "outputs": [],
   "source": []
  },
  {
   "cell_type": "code",
   "execution_count": null,
   "metadata": {},
   "outputs": [],
   "source": []
  },
  {
   "cell_type": "code",
   "execution_count": 72,
   "metadata": {},
   "outputs": [
    {
     "name": "stdout",
     "output_type": "stream",
     "text": [
      "10.7\n",
      "10\n",
      "{'milk': 4, 'eggs': 3, 'kombucha': 3}\n",
      "\n",
      "54.024300000000004\n",
      "50.49\n",
      "{'cheese': 7.49, 'wine': 25.36, 'steak': 17.64}\n"
     ]
    }
   ],
   "source": [
    "'''This will be a Python script that functions as a grocery calculator. It will take in key-value pairs for items\n",
    "and their prices, and return the subtotal and total, and can print out the list for you for when you're ready to\n",
    "take it to the store!'''\n",
    "\n",
    "'''Algorithm:\n",
    "1. User enters key-value pairs that are added into a dict.\n",
    "2. Users tells script to return total, subtotal, and key-value pairs in a nicely formatted list.'''\n",
    "\n",
    "#Object = GroceryList\n",
    "#Methods = addToList, Total, Subtotal, returnList\n",
    "\n",
    "class GroceryList(dict):\n",
    "\n",
    "    def __init__(self):\n",
    "        self = {}  # here it is directly assigned to the self itself not like self.data!\n",
    "\n",
    "    def addToList(self, item, price):\n",
    "            self.update({item:price})\n",
    "\n",
    "    def Total(self):\n",
    "        total = 0\n",
    "        for items in self:\n",
    "            total += (self[items])*.07 + (self[items])\n",
    "        return total\n",
    "\n",
    "    def Subtotal(self):\n",
    "        subtotal = 0\n",
    "        for items in self:\n",
    "            subtotal += self[items]\n",
    "        return subtotal\n",
    "\n",
    "    def returnList(self):\n",
    "        return self\n",
    "\n",
    "'''Test list should return:\n",
    "Total = 10.70\n",
    "Subtotal = 10\n",
    "returnList = {\"milk\":4, \"eggs\":3, \"kombucha\":3}\n",
    "'''\n",
    "List1 = GroceryList()\n",
    "\n",
    "List1.addToList(\"milk\",4)\n",
    "List1.addToList(\"eggs\", 3)\n",
    "List1.addToList(\"kombucha\", 3)\n",
    "\n",
    "\n",
    "print(List1.Total())\n",
    "print(List1.Subtotal())\n",
    "print(List1.returnList())\n",
    "\n",
    "#*****************************************************\n",
    "print()\n",
    "#*****************************************************\n",
    "\n",
    "\n",
    "List2 = GroceryList()\n",
    "\n",
    "List2.addToList('cheese', 7.49)\n",
    "List2.addToList('wine', 25.36)\n",
    "List2.addToList('steak', 17.64)\n",
    "\n",
    "print(List2.Total())\n",
    "print(List2.Subtotal())\n",
    "print(List2.returnList())"
   ]
  },
  {
   "cell_type": "code",
   "execution_count": null,
   "metadata": {},
   "outputs": [],
   "source": []
  },
  {
   "cell_type": "code",
   "execution_count": null,
   "metadata": {},
   "outputs": [],
   "source": []
  },
  {
   "cell_type": "code",
   "execution_count": null,
   "metadata": {},
   "outputs": [],
   "source": []
  },
  {
   "cell_type": "code",
   "execution_count": 74,
   "metadata": {},
   "outputs": [
    {
     "ename": "TabError",
     "evalue": "inconsistent use of tabs and spaces in indentation (<ipython-input-74-8f1b6dfc615c>, line 6)",
     "output_type": "error",
     "traceback": [
      "\u001b[0;36m  File \u001b[0;32m\"<ipython-input-74-8f1b6dfc615c>\"\u001b[0;36m, line \u001b[0;32m6\u001b[0m\n\u001b[0;31m    def size(self):\u001b[0m\n\u001b[0m                   ^\u001b[0m\n\u001b[0;31mTabError\u001b[0m\u001b[0;31m:\u001b[0m inconsistent use of tabs and spaces in indentation\n"
     ]
    }
   ],
   "source": [
    "class Tree:\n",
    "\tdef __init__(self):\n",
    "\t\tself.root = None\n",
    "\tdef setRoot(self, node):\n",
    "\t    self.root = node        \n",
    "    \tdef size(self):\n",
    "\t\tif self.root == None:\n",
    "\t\t\treturn 0\n",
    "\t\tdef subtreeSize(node):\n",
    "\t\t\treturn 1 + sum(subtreeSize(c) for c in node.getChildren())\n",
    "\t\treturn subtreeSize(self.root)\n",
    "    \n",
    "class BinaryNode:\n",
    "\tdef __init__(self, v):\n",
    "\t\tself.val = v\n",
    "\t\tself.leftChild = None\n",
    "\t\tself.rightChild = None\n",
    "\tdef get(self):\n",
    "\t\treturn self.val\n",
    "\tdef set(self, v):\n",
    "\t\tself.val = v\n",
    "\tdef getChildren(self):\n",
    "\t\tchildren = []\n",
    "\t\tif self.leftChild != None:\n",
    "\t\t\tchildren.append(self.leftChild)\n",
    "\t\tif self.rightChild != None:\n",
    "\t\t\tchildren.append(self.rightChild)\n",
    "\t\treturn children\n",
    "    \n",
    "class BinarySearchTree(Tree):\n",
    "    def insert(self, val):\n",
    "        if self.root == None:\n",
    "          \tself.setRoot(BinaryNode(val))\n",
    "        else:\n",
    "            currentRoot = self.root\n",
    "            while(True):\n",
    "                if val <= currentRoot.get():\n",
    "                    if currentRoot.leftChild != None:\n",
    "                        currentRoot = currentRoot.leftChild\n",
    "                    else:\n",
    "                     \tcurrentRoot.leftChild = BinaryNode(val)\n",
    "                        break\n",
    "                else:\n",
    "                    if currentRoot.rightChild != None:\n",
    "                       currentRoot = currentRoot.rightChild \n",
    "                    else:\n",
    "                        currentRoot.rightChild = BinaryNode(val)\n",
    "                        break\n",
    "\n",
    "    def find(self, val):\n",
    "        currentRoot = self.root\n",
    "        while (currentRoot != None and currentRoot.get() != val):\n",
    "            if val < currentRoot.get():\n",
    "                currentRoot = currentRoot.leftChild\n",
    "            else:\n",
    "                currentRoot = currentRoot.rightChild\n",
    "                \n",
    "       \tif currentRoot == None:\n",
    "            return False\n",
    "        else:\n",
    "            return True\n",
    "\n",
    "if __name__ == \"__main__\":\n",
    "    btree = BinarySearchTree()\n",
    "    vals = [5, 3, 9, 4, 1, 7, 30]\n",
    "    for val in vals:\n",
    "        btree.insert(val)\n",
    "    print \"Tree size is %i\" % btree.size()\n",
    "    tests = [8, 7, 1, 5]\n",
    "    for t in tests:\n",
    "        print(\"find(%i) = %s\" % (t, (\"True\" if btree.find(t) else \"False\")) )\n",
    "            "
   ]
  },
  {
   "cell_type": "code",
   "execution_count": null,
   "metadata": {},
   "outputs": [],
   "source": []
  },
  {
   "cell_type": "code",
   "execution_count": null,
   "metadata": {},
   "outputs": [],
   "source": []
  },
  {
   "cell_type": "code",
   "execution_count": null,
   "metadata": {},
   "outputs": [],
   "source": []
  },
  {
   "cell_type": "code",
   "execution_count": null,
   "metadata": {},
   "outputs": [],
   "source": []
  },
  {
   "cell_type": "code",
   "execution_count": 98,
   "metadata": {},
   "outputs": [
    {
     "name": "stdout",
     "output_type": "stream",
     "text": [
      "0,1,1,2,3,5,8,13,21,34,"
     ]
    }
   ],
   "source": [
    "def fib():\n",
    "    a, b = 0, 1\n",
    "    while 1:\n",
    "        yield a\n",
    "        a, b = b, a+b\n",
    "\n",
    "f = fib()\n",
    "# for _ in range(10):\n",
    "#     print(f.next(), end=',')\n",
    "    \n",
    "for _ in range(10):\n",
    "    print(f.__next__(), end=',')    "
   ]
  },
  {
   "cell_type": "code",
   "execution_count": 96,
   "metadata": {},
   "outputs": [
    {
     "data": {
      "text/plain": [
       "['__class__',\n",
       " '__del__',\n",
       " '__delattr__',\n",
       " '__dir__',\n",
       " '__doc__',\n",
       " '__eq__',\n",
       " '__format__',\n",
       " '__ge__',\n",
       " '__getattribute__',\n",
       " '__gt__',\n",
       " '__hash__',\n",
       " '__init__',\n",
       " '__init_subclass__',\n",
       " '__iter__',\n",
       " '__le__',\n",
       " '__lt__',\n",
       " '__name__',\n",
       " '__ne__',\n",
       " '__new__',\n",
       " '__next__',\n",
       " '__qualname__',\n",
       " '__reduce__',\n",
       " '__reduce_ex__',\n",
       " '__repr__',\n",
       " '__setattr__',\n",
       " '__sizeof__',\n",
       " '__str__',\n",
       " '__subclasshook__',\n",
       " 'close',\n",
       " 'gi_code',\n",
       " 'gi_frame',\n",
       " 'gi_running',\n",
       " 'gi_yieldfrom',\n",
       " 'send',\n",
       " 'throw']"
      ]
     },
     "execution_count": 96,
     "metadata": {},
     "output_type": "execute_result"
    }
   ],
   "source": [
    "dir(f)\n"
   ]
  },
  {
   "cell_type": "code",
   "execution_count": null,
   "metadata": {},
   "outputs": [],
   "source": []
  },
  {
   "cell_type": "code",
   "execution_count": null,
   "metadata": {},
   "outputs": [],
   "source": []
  },
  {
   "cell_type": "code",
   "execution_count": null,
   "metadata": {},
   "outputs": [],
   "source": []
  },
  {
   "cell_type": "code",
   "execution_count": 99,
   "metadata": {},
   "outputs": [
    {
     "ename": "SyntaxError",
     "evalue": "invalid syntax (<ipython-input-99-44dd407d1e44>, line 21)",
     "output_type": "error",
     "traceback": [
      "\u001b[0;36m  File \u001b[0;32m\"<ipython-input-99-44dd407d1e44>\"\u001b[0;36m, line \u001b[0;32m21\u001b[0m\n\u001b[0;31m    print findleft(s, 0, 9, 6)\u001b[0m\n\u001b[0m                 ^\u001b[0m\n\u001b[0;31mSyntaxError\u001b[0m\u001b[0;31m:\u001b[0m invalid syntax\n"
     ]
    }
   ],
   "source": [
    "# Find the leftest element in an ordered array using binary search\n",
    "def findleft(s, left, right, t):\n",
    "    l = left - 1 # s[l] < t\n",
    "    r = right + 1 # s[r] >= t\n",
    "    p = -1\n",
    "    \n",
    "    while l+1 != r:\n",
    "        #invariant:s[l]<t and s[r]>=t\n",
    "        m = l + (r - l)/2\n",
    "        if s[m] >= t: # =\n",
    "            r = m\n",
    "        else:\n",
    "            l = m\n",
    "            \n",
    "    if r < right and s[r] == t:\n",
    "        p = r\n",
    "    return p   \n",
    "        \n",
    "s = [7,7,7,9,12,12,12,27,38,38]\n",
    "\n",
    "print findleft(s, 0, 9, 6)\n",
    "print 'ok'"
   ]
  },
  {
   "cell_type": "code",
   "execution_count": null,
   "metadata": {},
   "outputs": [],
   "source": []
  },
  {
   "cell_type": "code",
   "execution_count": null,
   "metadata": {},
   "outputs": [],
   "source": []
  },
  {
   "cell_type": "code",
   "execution_count": null,
   "metadata": {},
   "outputs": [],
   "source": []
  },
  {
   "cell_type": "code",
   "execution_count": 100,
   "metadata": {},
   "outputs": [
    {
     "ename": "SyntaxError",
     "evalue": "invalid syntax (<ipython-input-100-dc704683bb98>, line 74)",
     "output_type": "error",
     "traceback": [
      "\u001b[0;36m  File \u001b[0;32m\"<ipython-input-100-dc704683bb98>\"\u001b[0;36m, line \u001b[0;32m74\u001b[0m\n\u001b[0;31m    print dice.roll()\u001b[0m\n\u001b[0m             ^\u001b[0m\n\u001b[0;31mSyntaxError\u001b[0m\u001b[0;31m:\u001b[0m invalid syntax\n"
     ]
    }
   ],
   "source": [
    "# Module for generating random numbers in a dice-like fashion\n",
    "# Authors: Joey Sabey, GameFreak7744@gmail.com\n",
    "# Initial code in D, adapted by Thomas Lecarpentier\n",
    "# Copyright: © Joey Sabey 2012\n",
    "# License: MIT License\n",
    "\n",
    "\n",
    "import random\n",
    "\n",
    "'''\n",
    "  Represents a single n-sided dice\n",
    "  Example:\n",
    "  ---\n",
    "  Dice d8 = new Dice(8);\n",
    "  d8.roll();\n",
    "  writeln(d8.result); //prints a random number between 1 and 8\n",
    "  writeln(d8.result); //prints the same number\n",
    "  writeln(d8.roll()); //prints a new random number between 1 and 8\n",
    " \n",
    "'''\n",
    "class Dice :\n",
    "    \t\n",
    "\tdef __init__(self,sides = 6) :    \n",
    "\t\t# by default dice have 6 sides\n",
    "\t\tself._sides = self.checkSides(sides)\n",
    "\t\tself._result = 0\n",
    "    \n",
    "    \t\n",
    "\t'''\n",
    "\tReturns: Current number of sides of the dice\n",
    "\t'''\n",
    "\tdef getSides(self):\n",
    "\t\treturn self._sides\n",
    "        \n",
    "            \n",
    "\t'''\n",
    "\tAllows you to set the the number of sides of the dice, to anything from 2 to ubyte.max\n",
    "\t'''\n",
    "\tdef setSides(self,sides):\n",
    "\t\tself._sides = self.checkSides(sides)\n",
    "\t\treturn self._sides\n",
    "\n",
    "\t'''\n",
    "    Returns: Result of the last roll of the dice\n",
    "    '''\n",
    "\tdef getResult(self):\n",
    "\t\treturn self.checkResult()\n",
    "        \n",
    "        \n",
    "\n",
    "\t'''\n",
    "    Returns: A random number from 1 to sides\n",
    "    '''\n",
    "\tdef roll(self):\n",
    "\t\tself._result = random.randint(1, self._sides)\n",
    "\t\treturn self._result\n",
    "        \n",
    "        \n",
    "\tdef checkSides(self,sides):\n",
    "\t\tif sides < 2 :\n",
    "\t\t\traise Error('Dice must have at least 2 sides, passed ' + sides )\n",
    "\t\treturn sides\n",
    "        \n",
    "        \n",
    "\tdef checkResult():\n",
    "\t\tif self._result == 0:\n",
    "\t\t\traise Error(\"Dice has not been rolled yet; must call roll() first\")\n",
    "\t\treturn self._result\n",
    "        \n",
    "       \n",
    "if __name__ == \"__main__\":\n",
    "        \n",
    "\tdice = Dice()\n",
    "\tprint dice.roll()"
   ]
  },
  {
   "cell_type": "code",
   "execution_count": null,
   "metadata": {},
   "outputs": [],
   "source": []
  },
  {
   "cell_type": "code",
   "execution_count": null,
   "metadata": {},
   "outputs": [],
   "source": []
  },
  {
   "cell_type": "code",
   "execution_count": null,
   "metadata": {},
   "outputs": [],
   "source": []
  },
  {
   "cell_type": "code",
   "execution_count": 102,
   "metadata": {},
   "outputs": [
    {
     "name": "stdout",
     "output_type": "stream",
     "text": [
      "{'model': 'x', 'color': 'black', 'package': 'signature', 'interior': 'brown', 'wheels': 'alloy'}\n",
      "Model: x\n",
      "Color: black\n",
      "Package: signature\n",
      "Interior: brown\n",
      "Wheels: alloy\n"
     ]
    }
   ],
   "source": [
    "def parse_url_string(url):\n",
    "    params = url.split('?')[1].split('&')\n",
    "    car = {}\n",
    "    for param in params:\n",
    "        car[param.split('=')[0]] = param.split('=')[1]\n",
    "    return car\n",
    "    \n",
    "model_x = parse_url_string('domain.com?model=x&color=black&package=signature&interior=brown&wheels=alloy')\n",
    "\n",
    "print(model_x)\n",
    "print('Model: %s' % model_x['model'])\n",
    "print('Color: %s' %model_x['color'])\n",
    "print('Package: %s' %model_x['package'])\n",
    "print('Interior: %s' %model_x['interior'])\n",
    "print('Wheels: %s' %model_x['wheels'])\n",
    "\n"
   ]
  },
  {
   "cell_type": "code",
   "execution_count": null,
   "metadata": {},
   "outputs": [],
   "source": []
  },
  {
   "cell_type": "code",
   "execution_count": null,
   "metadata": {},
   "outputs": [],
   "source": []
  },
  {
   "cell_type": "code",
   "execution_count": null,
   "metadata": {},
   "outputs": [],
   "source": []
  },
  {
   "cell_type": "code",
   "execution_count": 103,
   "metadata": {},
   "outputs": [
    {
     "ename": "SyntaxError",
     "evalue": "invalid syntax (<ipython-input-103-ddb81c2903b7>, line 19)",
     "output_type": "error",
     "traceback": [
      "\u001b[0;36m  File \u001b[0;32m\"<ipython-input-103-ddb81c2903b7>\"\u001b[0;36m, line \u001b[0;32m19\u001b[0m\n\u001b[0;31m    print \"Max sum of a subarray in %s is %d\" % ([1,2,3,-5,4], max_sum_subarray([1,2,3,-5,4]))\u001b[0m\n\u001b[0m                                            ^\u001b[0m\n\u001b[0;31mSyntaxError\u001b[0m\u001b[0;31m:\u001b[0m invalid syntax\n"
     ]
    }
   ],
   "source": [
    "# Clock Angle and Max Sum Subarray for Dan Young at Microsoft.\n",
    "import random\n",
    "\n",
    "def max_sum_subarray(arr):\n",
    "  max_found = None\n",
    "  current_range_sum = 0\n",
    "  for val in arr:\n",
    "    current_range_sum += val\n",
    "    max_found = max(max_found, current_range_sum)\n",
    "    \n",
    "    # if a current_range has gotten to be negative,\n",
    "    # we reset the current_range_sum to 0 because\n",
    "    # the next contiguous subarray cannot possibly\n",
    "    # be at its max value if it includes the current,\n",
    "    # negative subrange.\n",
    "    current_range_sum = max(current_range_sum, 0)\n",
    "  return max_found\n",
    "\n",
    "print \"Max sum of a subarray in %s is %d\" % ([1,2,3,-5,4], max_sum_subarray([1,2,3,-5,4]))\n",
    "print \"Max sum of a subarray in %s is %d\" % ([-8, -23, -14], max_sum_subarray([-8, -23, -14]))\n",
    "print \"Five Random Test Cases\"\n",
    "for x in xrange(5):\n",
    "  a = [int(10*random.random()) for i in xrange(10)]\n",
    "  print \"Max sum of a subarray in %s is %d\" % (a, max_sum_subarray(a))\n",
    "\n",
    "\n",
    "def clock_angle(h, m):\n",
    "  h_deg = (h * 30) % 360\n",
    "  m_deg = (m * 6) % 360\n",
    "  h_deg += m / 2        # hr moves 30 degrees per 60 minutes\n",
    "  angle = abs(h_deg - m_deg)\n",
    "  if angle > 180:\n",
    "    angle = 360 - angle\n",
    "  return angle\n",
    "\n",
    "\n",
    "print \"The smallest angle at %d:%02d is %d degrees\" % (12, 0, clock_angle(12, 0))\n",
    "print \"The smallest angle at %d:%02d is %d degrees\" % (3, 15, clock_angle(3, 15))\n",
    "print \"The smallest angle at %d:%02d is %d degrees\" % (6, 0, clock_angle(6, 0))\n",
    "print \"Five Random Test Cases\"\n",
    "for x in xrange(5):\n",
    "    h, m = int(12*random.random())+1, int(60*random.random())\n",
    "    print \"The smallest angle at %d:%02d is %d degrees\" % (h, m, clock_angle(h, m))"
   ]
  },
  {
   "cell_type": "code",
   "execution_count": null,
   "metadata": {},
   "outputs": [],
   "source": []
  },
  {
   "cell_type": "code",
   "execution_count": null,
   "metadata": {},
   "outputs": [],
   "source": []
  },
  {
   "cell_type": "code",
   "execution_count": null,
   "metadata": {},
   "outputs": [],
   "source": []
  },
  {
   "cell_type": "code",
   "execution_count": null,
   "metadata": {},
   "outputs": [],
   "source": []
  },
  {
   "cell_type": "code",
   "execution_count": 104,
   "metadata": {},
   "outputs": [
    {
     "name": "stdout",
     "output_type": "stream",
     "text": [
      "gargleblaster: 2.931209\n",
      "tripleee: 2.405639\n",
      "magnus: 2.584963\n",
      "lkjasdlk: 2.500000\n",
      "aaaaaaaa: 0.000000\n",
      "sadfasdfasdf: 2.000000\n",
      "7&wS/p(: 2.807355\n"
     ]
    }
   ],
   "source": [
    "#!/usr/bin/python\n",
    "#\n",
    "# Stolen from Ero Carrera\n",
    "# http://blog.dkbza.org/2007/05/scanning-data-for-entropy-anomalies.html\n",
    "\n",
    "import math, string, sys, fileinput\n",
    "\n",
    "def range_bytes (): return range(256)\n",
    "def range_printable(): return (ord(c) for c in string.printable)\n",
    "def H(data, iterator=range_bytes):\n",
    "    if not data:\n",
    "        return 0\n",
    "    entropy = 0\n",
    "    for x in iterator():\n",
    "        p_x = float(data.count(chr(x)))/len(data)\n",
    "        if p_x > 0:\n",
    "            entropy += - p_x*math.log(p_x, 2)\n",
    "    return entropy\n",
    "\n",
    "def main ():\n",
    "    for row in fileinput.input():\n",
    "        string = row.rstrip('\\n')\n",
    "        print (\"%s: %f\" % (string, H(string, range_printable)))\n",
    "\n",
    "for str in ['gargleblaster', 'tripleee', 'magnus', 'lkjasdlk',\n",
    "               'aaaaaaaa', 'sadfasdfasdf', '7&wS/p(']:\n",
    "    print (\"%s: %f\" % (str, H(str, range_printable)))\n",
    "\n"
   ]
  },
  {
   "cell_type": "code",
   "execution_count": null,
   "metadata": {},
   "outputs": [],
   "source": []
  },
  {
   "cell_type": "code",
   "execution_count": null,
   "metadata": {},
   "outputs": [],
   "source": []
  },
  {
   "cell_type": "code",
   "execution_count": null,
   "metadata": {},
   "outputs": [],
   "source": []
  },
  {
   "cell_type": "code",
   "execution_count": null,
   "metadata": {},
   "outputs": [],
   "source": []
  },
  {
   "cell_type": "code",
   "execution_count": 109,
   "metadata": {},
   "outputs": [
    {
     "name": "stdout",
     "output_type": "stream",
     "text": [
      "Math in markdown\n",
      "================\n",
      "\n",
      ">3<sup>7</sup>/9=243.0\n",
      "\n",
      "\n",
      "Then we multiply by 4 because there is 4 legs,\n",
      ">3*4=12\n"
     ]
    }
   ],
   "source": [
    "import re\n",
    "\n",
    "def t_Sup(scanner, token): return \"Sup\", token[1:]\n",
    "def t_Word(scanner, token):   return \"Word\", token\n",
    "def t_Comma(scanner, token):   return \"Comma\", token\n",
    "def t_Dot(scanner, token):   return \"Dot\", token\n",
    "def t_Number(scanner, token):   return \"Number\", token\n",
    "def t_Operator(scanner, token):   return \"Operator\", token\n",
    "def t_EqualsLine(scanner, token):   return \"EqualsLine\", token\n",
    "def t_DoubleEquals(scanner, token):   return \"DoubleEquals\", token\n",
    "def t_EVAL(scanner, token): return \"EVAL\", token[:-1]+str(eval(token[:-2]))\n",
    "def t_MathBegin(scanner, token): return \"MathBegin\", token\n",
    "def t_Newline(scanner, token): return \"Newline\", token\n",
    "def t_Space(scanner, token): return \"Space\", token\n",
    "\n",
    "def scan1(text):\n",
    "    scanner1 = re.Scanner([\n",
    "        (r\">\", t_MathBegin),\n",
    "        (r\"[a-zA-Z]+\", t_Word),\n",
    "        (r\"[,:;]+\", t_Comma),\n",
    "        (r\"[\\.!]+\", t_Dot),\n",
    "        (r\"[0-9]+\", t_Number),\n",
    "        (r\"\\n==+\\n\", t_EqualsLine),\n",
    "        (r\"==\", t_DoubleEquals),\n",
    "        (r\"\\^[0-9]+\", t_Sup),\n",
    "        (r\"[\\+*-/]\", t_Operator),\n",
    "        (r\"\\n\", t_Newline),\n",
    "        (r\"\\s+\", t_Space),\n",
    "        ])\n",
    "    parse1 = \"\"\n",
    "    math=\"false\"\n",
    "    calc=\"\"\n",
    "    tokens, remainder = scanner1.scan(text)\n",
    "    for token in tokens:\n",
    "        if math==\"true\":\n",
    "            if token[0]==\"DoubleEquals\":\n",
    "                math=\"false\"\n",
    "                parse1+=\"=\"+ str(eval(calc))\n",
    "                calc=\"\"\n",
    "            elif token[0]==\"Sup\":\n",
    "                calc+=\"**\"+token[1]\n",
    "                parse1+=\"<sup>\"+token[1]+\"</sup>\"\n",
    "            else:\n",
    "                calc+=token[1]\n",
    "                parse1+=token[1]\n",
    "        \n",
    "        elif token[0]==\"MathBegin\":\n",
    "            math=\"true\"\n",
    "            parse1+=token[1]\n",
    "        else:\n",
    "            parse1+=token[1]\n",
    "    print(parse1)\n",
    "\n",
    "\n",
    "md=\"\"\"Math in markdown\n",
    "================\n",
    "\n",
    ">3^7/9==\n",
    "\n",
    "\n",
    "Then we multiply by 4 because there is 4 legs,\n",
    ">3*4==\"\"\"\n",
    "scan1(md)\n",
    "\n",
    "    "
   ]
  },
  {
   "cell_type": "code",
   "execution_count": 108,
   "metadata": {},
   "outputs": [],
   "source": [
    "del str"
   ]
  },
  {
   "cell_type": "code",
   "execution_count": null,
   "metadata": {},
   "outputs": [],
   "source": []
  },
  {
   "cell_type": "code",
   "execution_count": null,
   "metadata": {},
   "outputs": [],
   "source": []
  },
  {
   "cell_type": "code",
   "execution_count": null,
   "metadata": {},
   "outputs": [],
   "source": []
  },
  {
   "cell_type": "code",
   "execution_count": 114,
   "metadata": {},
   "outputs": [
    {
     "ename": "AttributeError",
     "evalue": "'itertools.chain' object has no attribute 'next'",
     "output_type": "error",
     "traceback": [
      "\u001b[0;31m---------------------------------------------------------------------------\u001b[0m",
      "\u001b[0;31mAttributeError\u001b[0m                            Traceback (most recent call last)",
      "\u001b[0;32m<ipython-input-114-6c14bec64a49>\u001b[0m in \u001b[0;36m<module>\u001b[0;34m\u001b[0m\n\u001b[1;32m     33\u001b[0m \u001b[0;34m\u001b[0m\u001b[0m\n\u001b[1;32m     34\u001b[0m \u001b[0;32mimport\u001b[0m \u001b[0mitertools\u001b[0m \u001b[0;32mas\u001b[0m \u001b[0mit\u001b[0m\u001b[0;34m\u001b[0m\u001b[0;34m\u001b[0m\u001b[0m\n\u001b[0;32m---> 35\u001b[0;31m \u001b[0;32mfor\u001b[0m \u001b[0mid1\u001b[0m\u001b[0;34m,\u001b[0m\u001b[0mid2\u001b[0m \u001b[0;32min\u001b[0m \u001b[0miterate_IDs\u001b[0m\u001b[0;34m(\u001b[0m\u001b[0mit\u001b[0m\u001b[0;34m.\u001b[0m\u001b[0mchain\u001b[0m\u001b[0;34m.\u001b[0m\u001b[0mfrom_iterable\u001b[0m\u001b[0;34m(\u001b[0m\u001b[0ma\u001b[0m\u001b[0;34m)\u001b[0m\u001b[0;34m,\u001b[0m \u001b[0mit\u001b[0m\u001b[0;34m.\u001b[0m\u001b[0mchain\u001b[0m\u001b[0;34m.\u001b[0m\u001b[0mfrom_iterable\u001b[0m\u001b[0;34m(\u001b[0m\u001b[0mb\u001b[0m\u001b[0;34m)\u001b[0m\u001b[0;34m)\u001b[0m\u001b[0;34m:\u001b[0m\u001b[0;34m\u001b[0m\u001b[0;34m\u001b[0m\u001b[0m\n\u001b[0m\u001b[1;32m     36\u001b[0m     \u001b[0mprint\u001b[0m\u001b[0;34m(\u001b[0m\u001b[0mid1\u001b[0m\u001b[0;34m,\u001b[0m \u001b[0mid2\u001b[0m\u001b[0;34m)\u001b[0m\u001b[0;34m\u001b[0m\u001b[0;34m\u001b[0m\u001b[0m\n\u001b[1;32m     37\u001b[0m \u001b[0;34m\u001b[0m\u001b[0m\n",
      "\u001b[0;32m<ipython-input-114-6c14bec64a49>\u001b[0m in \u001b[0;36miterate_IDs\u001b[0;34m(set1, set2)\u001b[0m\n\u001b[1;32m     11\u001b[0m     \u001b[0mid1\u001b[0m \u001b[0;34m=\u001b[0m \u001b[0;32mNone\u001b[0m\u001b[0;34m\u001b[0m\u001b[0;34m\u001b[0m\u001b[0m\n\u001b[1;32m     12\u001b[0m     \u001b[0mid2\u001b[0m \u001b[0;34m=\u001b[0m \u001b[0;32mNone\u001b[0m\u001b[0;34m\u001b[0m\u001b[0;34m\u001b[0m\u001b[0m\n\u001b[0;32m---> 13\u001b[0;31m     \u001b[0mid1\u001b[0m \u001b[0;34m=\u001b[0m \u001b[0mnext_or_None\u001b[0m\u001b[0;34m(\u001b[0m\u001b[0mset1\u001b[0m\u001b[0;34m)\u001b[0m\u001b[0;34m\u001b[0m\u001b[0;34m\u001b[0m\u001b[0m\n\u001b[0m\u001b[1;32m     14\u001b[0m     \u001b[0mid2\u001b[0m \u001b[0;34m=\u001b[0m \u001b[0mnext_or_None\u001b[0m\u001b[0;34m(\u001b[0m\u001b[0mset2\u001b[0m\u001b[0;34m)\u001b[0m\u001b[0;34m\u001b[0m\u001b[0;34m\u001b[0m\u001b[0m\n\u001b[1;32m     15\u001b[0m     \u001b[0;32mwhile\u001b[0m \u001b[0mid1\u001b[0m \u001b[0;32mis\u001b[0m \u001b[0;32mnot\u001b[0m \u001b[0;32mNone\u001b[0m \u001b[0;32mor\u001b[0m \u001b[0mid2\u001b[0m \u001b[0;32mis\u001b[0m \u001b[0;32mnot\u001b[0m \u001b[0;32mNone\u001b[0m\u001b[0;34m:\u001b[0m\u001b[0;34m\u001b[0m\u001b[0;34m\u001b[0m\u001b[0m\n",
      "\u001b[0;32m<ipython-input-114-6c14bec64a49>\u001b[0m in \u001b[0;36mnext_or_None\u001b[0;34m(seq)\u001b[0m\n\u001b[1;32m      6\u001b[0m     \u001b[0;32mdef\u001b[0m \u001b[0mnext_or_None\u001b[0m\u001b[0;34m(\u001b[0m\u001b[0mseq\u001b[0m\u001b[0;34m)\u001b[0m\u001b[0;34m:\u001b[0m\u001b[0;34m\u001b[0m\u001b[0;34m\u001b[0m\u001b[0m\n\u001b[1;32m      7\u001b[0m         \u001b[0;32mtry\u001b[0m\u001b[0;34m:\u001b[0m\u001b[0;34m\u001b[0m\u001b[0;34m\u001b[0m\u001b[0m\n\u001b[0;32m----> 8\u001b[0;31m             \u001b[0;32mreturn\u001b[0m \u001b[0mseq\u001b[0m\u001b[0;34m.\u001b[0m\u001b[0mnext\u001b[0m\u001b[0;34m(\u001b[0m\u001b[0;34m)\u001b[0m\u001b[0;34m\u001b[0m\u001b[0;34m\u001b[0m\u001b[0m\n\u001b[0m\u001b[1;32m      9\u001b[0m         \u001b[0;32mexcept\u001b[0m \u001b[0mStopIteration\u001b[0m\u001b[0;34m:\u001b[0m\u001b[0;34m\u001b[0m\u001b[0;34m\u001b[0m\u001b[0m\n\u001b[1;32m     10\u001b[0m             \u001b[0;32mreturn\u001b[0m \u001b[0;32mNone\u001b[0m\u001b[0;34m\u001b[0m\u001b[0;34m\u001b[0m\u001b[0m\n",
      "\u001b[0;31mAttributeError\u001b[0m: 'itertools.chain' object has no attribute 'next'"
     ]
    }
   ],
   "source": [
    "# python version of SQL's two-sided outer join. Naive implementation, not optimized\n",
    "a = [(1,),(3,),(4,),(5,),(7,)]\n",
    "b = [(1,),(2,),(4,),(5,),(8,),(9,)]\n",
    "\n",
    "def iterate_IDs(set1, set2):\n",
    "    def next_or_None(seq):\n",
    "        try:\n",
    "            return seq.next()\n",
    "        except StopIteration:\n",
    "            return None\n",
    "    id1 = None\n",
    "    id2 = None\n",
    "    id1 = next_or_None(set1)\n",
    "    id2 = next_or_None(set2)\n",
    "    while id1 is not None or id2 is not None:\n",
    "        if id1 is None:\n",
    "            yield (None, id2)\n",
    "            id2 = next_or_None(set2)\n",
    "        elif id2 is None:\n",
    "            yield (id1, None)\n",
    "            id1 = next_or_None(set2)\n",
    "        elif id1 == id2:\n",
    "            yield (id1, id2)\n",
    "            id1 = next_or_None(set1)\n",
    "            id2 = next_or_None(set2)\n",
    "        elif id1 > id2:\n",
    "            yield (None, id2)\n",
    "            id2 = next_or_None(set2)\n",
    "        elif id2 > id1:\n",
    "            yield (id1, None)\n",
    "            id1 = next_or_None(set1)\n",
    "    raise(StopIteration, \"Both sequences run out\")\n",
    "\n",
    "import itertools as it\n",
    "for id1,id2 in iterate_IDs(it.chain.from_iterable(a), it.chain.from_iterable(b)):\n",
    "    print(id1, id2)\n",
    "\n"
   ]
  },
  {
   "cell_type": "code",
   "execution_count": null,
   "metadata": {},
   "outputs": [],
   "source": []
  },
  {
   "cell_type": "code",
   "execution_count": null,
   "metadata": {},
   "outputs": [],
   "source": [
    "\n",
    "\n"
   ]
  },
  {
   "cell_type": "code",
   "execution_count": null,
   "metadata": {},
   "outputs": [],
   "source": []
  },
  {
   "cell_type": "code",
   "execution_count": null,
   "metadata": {},
   "outputs": [],
   "source": []
  },
  {
   "cell_type": "code",
   "execution_count": 124,
   "metadata": {},
   "outputs": [
    {
     "name": "stdout",
     "output_type": "stream",
     "text": [
      "1 ('seq', 1, 2) ('seq', 1, ('seq', 2, 3))\n"
     ]
    }
   ],
   "source": [
    "## Decorator tools\n",
    "\n",
    "# These are some basic python tools for function management\n",
    "\n",
    "# Decorators\n",
    "# Memoization\n",
    "# Call Tracing\n",
    "\n",
    "\n",
    "from functools import update_wrapper\n",
    "\n",
    "# Update wrapper\n",
    "def decorator(d):\n",
    "    \"Make function d a decorator: d wraps a function fn.\"\n",
    "    def _d(fn):\n",
    "        return update_wrapper(d(fn), fn)\n",
    "    update_wrapper(_d, d)\n",
    "    return _d\n",
    "\n",
    "# Change binary function into n_ary func:\n",
    "\n",
    "@decorator\n",
    "def n_ary(f):\n",
    "    \"\"\"Given binary function f(x, y), return an n_ary function such that\n",
    "    f(x, y, z) = f(x, f(y, z)), etc.  Also allow f(x) = x.\"\"\"\n",
    "    def n_ary_f(x, *args):\n",
    "        return x if not args else f(x, n_ary_f(*args))\n",
    "    return n_ary_f\n",
    "\n",
    "# Example of use:\n",
    "@n_ary\n",
    "def seq(x, y): return ('seq', x, y)\n",
    "print(seq(1), seq(1, 2), seq(1, 2, 3))\n",
    "\n",
    "## Memoization\n",
    "@decorator\n",
    "def memo(f):\n",
    "    \"\"\"Decorator that caches the return value for each call to f(args).\n",
    "    Then when called again with same args, we can just look it up.\"\"\"\n",
    "    cache = {}\n",
    "    def _f(*args):\n",
    "        try:\n",
    "            return cache[args]\n",
    "        except KeyError:\n",
    "            cache[args] = result = f(*args)\n",
    "            return result\n",
    "        except TypeError:\n",
    "            # some element of args can't be adict key\n",
    "            return f(args)\n",
    "    return _f\n",
    "\n",
    "\n",
    "\n"
   ]
  },
  {
   "cell_type": "code",
   "execution_count": null,
   "metadata": {},
   "outputs": [],
   "source": []
  },
  {
   "cell_type": "code",
   "execution_count": null,
   "metadata": {},
   "outputs": [],
   "source": []
  },
  {
   "cell_type": "code",
   "execution_count": null,
   "metadata": {},
   "outputs": [],
   "source": []
  },
  {
   "cell_type": "code",
   "execution_count": null,
   "metadata": {},
   "outputs": [],
   "source": []
  },
  {
   "cell_type": "code",
   "execution_count": null,
   "metadata": {},
   "outputs": [],
   "source": []
  },
  {
   "cell_type": "code",
   "execution_count": null,
   "metadata": {},
   "outputs": [],
   "source": []
  },
  {
   "cell_type": "code",
   "execution_count": 127,
   "metadata": {},
   "outputs": [
    {
     "name": "stdout",
     "output_type": "stream",
     "text": [
      "f2's result = Hello\n",
      "f3's result = HelloHello\n",
      "f1's result = Hello\n"
     ]
    },
    {
     "data": {
      "text/plain": [
       "True"
      ]
     },
     "execution_count": 127,
     "metadata": {},
     "output_type": "execute_result"
    }
   ],
   "source": [
    "# An eventual value that automatically flattens its results when they are also eventual.\n",
    "\n",
    "class Future:\n",
    "    ### Inits a new not-yet-specified future value\n",
    "    def __init__(self):\n",
    "        self.__continuations = []\n",
    "        \n",
    "    ### Registers a continuation to run when the flattened future value is ready\n",
    "    ### Returns the continuation's future result\n",
    "    def continueWith(self, continuation):\n",
    "        # remember to run continuation, if result not provided yet\n",
    "        if self.__continuations != None:\n",
    "            r = Future()\n",
    "            self.__continuations.append((continuation, r))\n",
    "            return r\n",
    "        \n",
    "        # automatic flattening\n",
    "        if isinstance(self.__result, Future):\n",
    "            return self.__result.continueWith(continuation)\n",
    "\n",
    "        # run continuation inline when already finished        \n",
    "        r = Future()\n",
    "        v = continuation(self.__result)\n",
    "        r.trySetResult(v)\n",
    "        return r\n",
    "    \n",
    "    ### Sets this future's value, if it has not yet been set.\n",
    "    ### Causes all registered continuations to be run or handed off.\n",
    "    def trySetResult(self, result):\n",
    "        # already set?\n",
    "        cs = self.__continuations\n",
    "        if cs == None: return False;\n",
    "        \n",
    "        # state transition\n",
    "        self.__continuations = None\n",
    "        self.__result = result\n",
    "        \n",
    "        # perform or hand-off registered continuations\n",
    "        for e in cs:\n",
    "            continuation, future = e\n",
    "            r = self.continueWith(continuation);\n",
    "            future.trySetResult(r)\n",
    "        \n",
    "        return True\n",
    "    \n",
    "    ### Determines if this future has a flattened result yet\n",
    "    def hasResult(self):\n",
    "        return self.__continuations == None and (not isinstance(self.__result, Future) or self.__result.hasResult())\n",
    "    \n",
    "    ### Gets the flattened result of this future, raising an error if it's not ready yet\n",
    "    def forceGetResult(self):\n",
    "        assert self.hasResult() \n",
    "        return self.__result if not isinstance(self.__result, Future) else self.__result.forceGetResult()\n",
    "        \n",
    "    \n",
    "f1 = Future()\n",
    "f2 = Future()\n",
    "f3 = f1.continueWith(lambda v1: f2.continueWith(lambda v2: v1 + v2))\n",
    "\n",
    "def out(x): print(x)\n",
    "f1.continueWith(lambda x: out(\"f1's result = \" + x))\n",
    "f2.continueWith(lambda x: out(\"f2's result = \" + x))\n",
    "f3.continueWith(lambda x: out(\"f3's result = \" + x))\n",
    "\n",
    "f1.trySetResult(f2)\n",
    "f2.trySetResult('Hello')\n",
    "\n",
    "# outputs: \n",
    "# f2's result = Hello\n",
    "# f3's result = HelloHello\n",
    "# f1's result = Hello"
   ]
  },
  {
   "cell_type": "code",
   "execution_count": null,
   "metadata": {},
   "outputs": [],
   "source": []
  },
  {
   "cell_type": "code",
   "execution_count": null,
   "metadata": {},
   "outputs": [],
   "source": []
  },
  {
   "cell_type": "code",
   "execution_count": null,
   "metadata": {},
   "outputs": [],
   "source": []
  },
  {
   "cell_type": "code",
   "execution_count": null,
   "metadata": {},
   "outputs": [],
   "source": []
  },
  {
   "cell_type": "code",
   "execution_count": null,
   "metadata": {},
   "outputs": [],
   "source": []
  },
  {
   "cell_type": "code",
   "execution_count": 129,
   "metadata": {},
   "outputs": [
    {
     "name": "stdout",
     "output_type": "stream",
     "text": [
      "[2, 3, 5, 7, 11, 13, 17, 19, 23, 29, 31, 37]\n"
     ]
    }
   ],
   "source": [
    "\"\"\"\n",
    "A quick script to print out the amount of primes entered at the command line.\n",
    "\"\"\"\n",
    "\n",
    "\n",
    "\n",
    "\"\"\"\n",
    "Got this from StackOverflow (http://stackoverflow.com/questions/1628949/to-find-first-n-prime-numbers-in-python). \n",
    "The regular expression use kinda blew my mind.\n",
    "\"\"\"\n",
    "import re, sys\n",
    "\n",
    "\n",
    "def isPrime(n):\n",
    "    # see http://www.noulakaz.net/weblog/2007/03/18/a-regular-expression-to-check-for-prime-numbers/\n",
    "    return re.match(r'^1?$|^(11+?)\\1+$', '1' * n) == None\n",
    "\n",
    "\n",
    "N = int(12) # number of primes wanted (from command-line) sys.argv[1]\n",
    "M = 100              # upper-bound of search space\n",
    "l = list()           # result list\n",
    "\n",
    "while len(l) < N:\n",
    "    l += filter(isPrime, range(M - 100, M)) # append prime element of [M - 100, M] to l\n",
    "    M += 100                                # increment upper-bound\n",
    "\n",
    "print(l[:N]) # print result list limited to N elements"
   ]
  },
  {
   "cell_type": "code",
   "execution_count": null,
   "metadata": {},
   "outputs": [],
   "source": []
  },
  {
   "cell_type": "code",
   "execution_count": null,
   "metadata": {},
   "outputs": [],
   "source": []
  },
  {
   "cell_type": "code",
   "execution_count": null,
   "metadata": {},
   "outputs": [],
   "source": []
  },
  {
   "cell_type": "code",
   "execution_count": null,
   "metadata": {},
   "outputs": [],
   "source": []
  },
  {
   "cell_type": "code",
   "execution_count": 133,
   "metadata": {},
   "outputs": [
    {
     "name": "stdout",
     "output_type": "stream",
     "text": [
      "How many days?\n",
      "10\n",
      "Day:1: 2.0 grains of rice\n",
      "Day:2: 4.0 grains of rice\n",
      "Day:3: 8.0 grains of rice\n",
      "Day:4: 16.0 grains of rice\n",
      "Day:5: 32.0 grains of rice\n",
      "Day:6: 64.0 grains of rice\n",
      "Day:7: 128.0 grains of rice\n",
      "Day:8: 256.0 grains of rice\n",
      "Day:9: 512.0 grains of rice\n",
      "Day:10: 1024.0 grains of rice\n"
     ]
    }
   ],
   "source": [
    "\"\"\"\n",
    "Calculates amounts of rice in amount\n",
    "\"\"\"\n",
    "import math\n",
    "\n",
    "def count():\n",
    "    var_input = input('How many days?\\n')\n",
    "    x = 2\n",
    "    for i in range (1,int(var_input)+1):\n",
    "        print( ('Day:'+ str(i) +': ' +str(math.pow(x,i)) + ' grains of rice') )\n",
    "count()"
   ]
  },
  {
   "cell_type": "code",
   "execution_count": null,
   "metadata": {},
   "outputs": [],
   "source": []
  },
  {
   "cell_type": "code",
   "execution_count": null,
   "metadata": {},
   "outputs": [],
   "source": []
  },
  {
   "cell_type": "code",
   "execution_count": null,
   "metadata": {},
   "outputs": [],
   "source": []
  },
  {
   "cell_type": "code",
   "execution_count": null,
   "metadata": {},
   "outputs": [],
   "source": []
  },
  {
   "cell_type": "code",
   "execution_count": 135,
   "metadata": {},
   "outputs": [
    {
     "name": "stdout",
     "output_type": "stream",
     "text": [
      "hll wrld!\n"
     ]
    }
   ],
   "source": [
    "def vowel_remover(text):\n",
    "    string = \"\"\n",
    "    for l in text:\n",
    "        if l.lower() != \"a\" and l.lower() != \"e\" and l.lower() != \"i\" and l.lower() != \"o\" and l.lower() != \"u\":\n",
    "            string += l\n",
    "    return string\n",
    "print(vowel_remover(\"hello world!\"))"
   ]
  },
  {
   "cell_type": "code",
   "execution_count": null,
   "metadata": {},
   "outputs": [],
   "source": []
  },
  {
   "cell_type": "code",
   "execution_count": null,
   "metadata": {},
   "outputs": [],
   "source": []
  },
  {
   "cell_type": "code",
   "execution_count": null,
   "metadata": {},
   "outputs": [],
   "source": []
  },
  {
   "cell_type": "code",
   "execution_count": null,
   "metadata": {},
   "outputs": [],
   "source": []
  },
  {
   "cell_type": "code",
   "execution_count": 137,
   "metadata": {},
   "outputs": [
    {
     "name": "stdout",
     "output_type": "stream",
     "text": [
      "No way\n"
     ]
    }
   ],
   "source": [
    "def DFS(edges, s, t, skip = []):\n",
    "   if(s == t):\n",
    "      return [s]\n",
    "   if s not in edges: return []\n",
    "   skip.append(s)\n",
    "   for x in edges[s]:\n",
    "       if x in skip: continue\n",
    "       res = DFS(edges, x, t, skip)\n",
    "       if(res):\n",
    "           way = [s]\n",
    "           way.extend(res)\n",
    "           return way\n",
    "   return []\n",
    "\n",
    "\n",
    "edges = {'a':['b','c'],\n",
    "         'c':['d','e'],\n",
    "         'd':['f'],\n",
    "         'f':['c'],\n",
    "         'e':['f','g']}\n",
    "\n",
    "way = DFS(edges, 'g', 'a')\n",
    "if way:\n",
    "  print(', '.join(map(str, way)) )\n",
    "else:\n",
    "  print('No way' )"
   ]
  },
  {
   "cell_type": "code",
   "execution_count": null,
   "metadata": {},
   "outputs": [],
   "source": []
  },
  {
   "cell_type": "code",
   "execution_count": null,
   "metadata": {},
   "outputs": [],
   "source": []
  },
  {
   "cell_type": "code",
   "execution_count": null,
   "metadata": {},
   "outputs": [],
   "source": []
  },
  {
   "cell_type": "code",
   "execution_count": null,
   "metadata": {},
   "outputs": [],
   "source": []
  },
  {
   "cell_type": "code",
   "execution_count": null,
   "metadata": {},
   "outputs": [],
   "source": []
  },
  {
   "cell_type": "code",
   "execution_count": 138,
   "metadata": {},
   "outputs": [
    {
     "ename": "SyntaxError",
     "evalue": "Missing parentheses in call to 'print'. Did you mean print(\"500 characters\")? (<ipython-input-138-b441bdc11334>, line 34)",
     "output_type": "error",
     "traceback": [
      "\u001b[0;36m  File \u001b[0;32m\"<ipython-input-138-b441bdc11334>\"\u001b[0;36m, line \u001b[0;32m34\u001b[0m\n\u001b[0;31m    print \"500 characters\"\u001b[0m\n\u001b[0m                         ^\u001b[0m\n\u001b[0;31mSyntaxError\u001b[0m\u001b[0;31m:\u001b[0m Missing parentheses in call to 'print'. Did you mean print(\"500 characters\")?\n"
     ]
    }
   ],
   "source": [
    "import random\n",
    "\n",
    "def getlength(script):\n",
    "\treturn sum((i['length'] for i in script))\n",
    "\n",
    "def truncate(target_length, script):\n",
    "\tif getlength(script) > target_length:\n",
    "\t\tscript = sorted(script, key=lambda k: (k['priority'], -k['length']))[:-1]\n",
    "\t\treturn truncate(target_length, script)\n",
    "\treturn sorted(script, key=lambda k: k['index'])\n",
    "\n",
    "def as_text(script):\n",
    "\treturn \"\\n\".join([i['text'] for i in script])\n",
    "\n",
    "\n",
    "priorities_and_sentences = [\n",
    "(1, \"...now... sitting comfortably in the chair\"),\n",
    "(2, \"...with your feet still flat on the ground\"),\n",
    "(3, \"...back straight and head up right\"),\n",
    "(2, \"...make these adjustments now if you need to\"),\n",
    "(3, \"... pause..............................\"),\n",
    "(1, \"...your eyes ...still ...comfortably closed\"),\n",
    "(2, \"...nice and relaxed...comfortable and relaxed...\"),\n",
    "(3, \"... pause.......................................\"),\n",
    "(1, \"...now...I want you to notice...how heavy your head is starting to feel...\"),\n",
    "(1, \"how heavy your head feels...\"),\n",
    "(3, \"... pause.......................................\"),\n",
    "(2, \"really noticing the weight... of your head...\"),\n",
    "(3, \"and how much more ...comfortable...it will feel when you let your neck relaxes ...and your head begins to fall forward ...into a much more comfortable\"),\n",
    "]\n",
    "\n",
    "scriptlist = [{'priority': j[0], 'text': j[1], 'length': len(j[1]), 'index': i } for i, j in enumerate(priorities_and_sentences)]\n",
    "\n",
    "print \"500 characters\"\n",
    "print as_text(truncate(500, scriptlist))\n",
    "print \"\\n300 characters\"\n",
    "print as_text(truncate(300, scriptlist))\n",
    "print \"\\n200 characters\"\n",
    "print as_text(truncate(200, scriptlist))\n",
    "\n"
   ]
  },
  {
   "cell_type": "code",
   "execution_count": null,
   "metadata": {},
   "outputs": [],
   "source": []
  },
  {
   "cell_type": "code",
   "execution_count": null,
   "metadata": {},
   "outputs": [],
   "source": []
  },
  {
   "cell_type": "code",
   "execution_count": null,
   "metadata": {},
   "outputs": [],
   "source": []
  },
  {
   "cell_type": "code",
   "execution_count": null,
   "metadata": {},
   "outputs": [],
   "source": []
  },
  {
   "cell_type": "code",
   "execution_count": 146,
   "metadata": {},
   "outputs": [
    {
     "ename": "ModuleNotFoundError",
     "evalue": "No module named 'md5'",
     "output_type": "error",
     "traceback": [
      "\u001b[0;31m---------------------------------------------------------------------------\u001b[0m",
      "\u001b[0;31mModuleNotFoundError\u001b[0m                       Traceback (most recent call last)",
      "\u001b[0;32m<ipython-input-146-02c86606126f>\u001b[0m in \u001b[0;36m<module>\u001b[0;34m\u001b[0m\n\u001b[0;32m----> 1\u001b[0;31m \u001b[0;32mimport\u001b[0m \u001b[0mmd5\u001b[0m\u001b[0;34m\u001b[0m\u001b[0;34m\u001b[0m\u001b[0m\n\u001b[0m\u001b[1;32m      2\u001b[0m \u001b[0;32mimport\u001b[0m \u001b[0mrandom\u001b[0m\u001b[0;34m\u001b[0m\u001b[0;34m\u001b[0m\u001b[0m\n\u001b[1;32m      3\u001b[0m \u001b[0;34m\u001b[0m\u001b[0m\n\u001b[1;32m      4\u001b[0m \u001b[0msentence\u001b[0m \u001b[0;34m=\u001b[0m \u001b[0;34m\"The quick brown fox jumps over the internetz\"\u001b[0m\u001b[0;34m\u001b[0m\u001b[0;34m\u001b[0m\u001b[0m\n\u001b[1;32m      5\u001b[0m \u001b[0;34m\u001b[0m\u001b[0m\n",
      "\u001b[0;31mModuleNotFoundError\u001b[0m: No module named 'md5'"
     ]
    }
   ],
   "source": [
    "import md5\n",
    "import random\n",
    "\n",
    "sentence = \"The quick brown fox jumps over the internetz\"\n",
    "\n",
    "print(\"start\")\n",
    "def hashMe(plainText):\n",
    "    m = md5.md5()\n",
    "    m.update(plainText)\n",
    "    return m.hexdigest()\n",
    "\n",
    "def encrypt(plainText):\n",
    "    derp = \"::\"\n",
    "    for i in plainText:\n",
    "        derp += hashMe(hashMe(str(random.randint(1, 100))+i))\n",
    "        derp += \"::\"\n",
    "    return derp\n",
    "\n",
    "def decrypt(chiper):\n",
    "    plain = \"\"\n",
    "    print(\"Checkpoint\")\n",
    "    for imp in chiper:\n",
    "        print(imp)\n",
    "        try:\n",
    "            for b in range(1, 100):\n",
    "                print(\"Checking\", b )\n",
    "                for a in range(1, 200):\n",
    "                    #print \"compare\", hashMe(hashMe(str(b)+chr(a))), \"With\", i\n",
    "                    if hashMe(hashMe(str(b)+chr(a))) == imp:\n",
    "                        print(\"Debug hash check returned true:\", chr(a) )\n",
    "                        plain += chr(a)\n",
    "        except e:\n",
    "            print(e)\n",
    "        return plain\n",
    "\n",
    "        \n",
    "\n",
    "a = encrypt(sentence)\n",
    "print(a)\n",
    "print(\"End\")\n",
    "\n",
    "\n"
   ]
  },
  {
   "cell_type": "code",
   "execution_count": null,
   "metadata": {},
   "outputs": [],
   "source": []
  },
  {
   "cell_type": "code",
   "execution_count": null,
   "metadata": {},
   "outputs": [],
   "source": []
  },
  {
   "cell_type": "code",
   "execution_count": null,
   "metadata": {},
   "outputs": [],
   "source": []
  },
  {
   "cell_type": "code",
   "execution_count": null,
   "metadata": {},
   "outputs": [],
   "source": []
  },
  {
   "cell_type": "code",
   "execution_count": null,
   "metadata": {},
   "outputs": [],
   "source": []
  },
  {
   "cell_type": "code",
   "execution_count": 149,
   "metadata": {},
   "outputs": [
    {
     "name": "stdout",
     "output_type": "stream",
     "text": [
      "False\n",
      "|\n",
      "|\n",
      "|\n",
      "|\n",
      "|\n",
      "|\n",
      "|\n",
      "|\n",
      "|\n",
      "G\n",
      "G\n",
      ".\n",
      ".\n",
      ".\n",
      "Y\n",
      "|\n",
      "|\n",
      "P\n",
      ".\n",
      ".\n",
      "B\n",
      ".\n",
      "Y\n",
      "|\n",
      "|\n",
      "P\n",
      "*\n",
      "*\n",
      "B\n",
      ".\n",
      "Y\n",
      "@\n",
      "|\n",
      "P\n",
      ".\n",
      ".\n",
      "B\n",
      ".\n",
      ".\n",
      "|\n",
      "|\n",
      "O\n",
      ".\n",
      ".\n",
      ".\n",
      "A\n",
      "A\n",
      "|\n",
      "|\n",
      "O\n",
      ".\n",
      ".\n",
      ".\n",
      ".\n",
      ".\n",
      "|\n",
      "|\n",
      "|\n",
      "|\n",
      "|\n",
      "|\n",
      "|\n",
      "|\n",
      "|\n"
     ]
    }
   ],
   "source": [
    "\"\"\"\n",
    "UNIT 4: Search\n",
    "\n",
    "Your task is to maneuver a car in a crowded parking lot. This is a kind of \n",
    "puzzle, which can be represented with a diagram like this: \n",
    "\n",
    "| | | | | | | |  \n",
    "| G G . . . Y |  \n",
    "| P . . B . Y | \n",
    "| P * * B . Y @ \n",
    "| P . . B . . |  \n",
    "| O . . . A A |  \n",
    "| O . S S S . |  \n",
    "| | | | | | | | \n",
    "\n",
    "A '|' represents a wall around the parking lot, a '.' represents an empty square,\n",
    "and a letter or asterisk represents a car.  '@' marks a goal square.\n",
    "Note that there are long (3 spot) and short (2 spot) cars.\n",
    "Your task is to get the car that is represented by '**' out of the parking lot\n",
    "(on to a goal square).  Cars can move only in the direction they are pointing.  \n",
    "In this diagram, the cars GG, AA, SSS, and ** are pointed right-left,\n",
    "so they can move any number of squares right or left, as long as they don't\n",
    "bump into another car or wall.  In this diagram, GG could move 1, 2, or 3 spots\n",
    "to the right; AA could move 1, 2, or 3 spots to the left, and ** cannot move \n",
    "at all. In the up-down direction, BBB can move one up or down, YYY can move \n",
    "one down, and PPP and OO cannot move.\n",
    "\n",
    "You should solve this puzzle (and ones like it) using search.  You will be \n",
    "given an initial state like this diagram and a goal location for the ** car;\n",
    "in this puzzle the goal is the '.' empty spot in the wall on the right side.\n",
    "You should return a path -- an alternation of states and actions -- that leads\n",
    "to a state where the car overlaps the goal.\n",
    "\n",
    "An action is a move by one car in one direction (by any number of spaces).  \n",
    "For example, here is a successor state where the AA car moves 3 to the left:\n",
    "\n",
    "| | | | | | | |  \n",
    "| G G . . . Y |  \n",
    "| P . . B . Y | \n",
    "| P * * B . Y @ \n",
    "| P . . B . . |  \n",
    "| O A A . . . |  \n",
    "| O . . . . . |  \n",
    "| | | | | | | | \n",
    "\n",
    "And then after BBB moves 2 down and YYY moves 3 down, we can solve the puzzle\n",
    "by moving ** 4 spaces to the right:\n",
    "\n",
    "| | | | | | | |\n",
    "| G G . . . . |\n",
    "| P . . . . . |\n",
    "| P . . . . * *\n",
    "| P . . B . Y |\n",
    "| O A A B . Y |\n",
    "| O . . B . Y |\n",
    "| | | | | | | |\n",
    "\n",
    "You will write the function\n",
    "\n",
    "    solve_parking_puzzle(start, N=N)\n",
    "\n",
    "where 'start' is the initial state of the puzzle and 'N' is the length of a side\n",
    "of the square that encloses the pieces (including the walls, so N=8 here).\n",
    "\n",
    "We will represent the grid with integer indexes. Here we see the \n",
    "non-wall index numbers (with the goal at index 31):\n",
    "\n",
    " |  |  |  |  |  |  |  |\n",
    " |  9 10 11 12 13 14  |\n",
    " | 17 18 19 20 21 22  |\n",
    " | 25 26 27 28 29 30 31\n",
    " | 33 34 35 36 37 38  |\n",
    " | 41 42 43 44 45 46  |\n",
    " | 49 50 51 52 53 54  |\n",
    " |  |  |  |  |  |  |  |\n",
    "\n",
    "The wall in the upper left has index 0 and the one in the lower right has 63.\n",
    "We represent a state of the problem with one big tuple of (object, locations)\n",
    "pairs, where each pair is a tuple and the locations are a tuple.  Here is the\n",
    "initial state for the problem above in this format:\n",
    "\"\"\"\n",
    "\n",
    "puzzle1 = (\n",
    " ('@', (31,)),\n",
    " ('*', (26, 27)), \n",
    " ('G', (9, 10)),\n",
    " ('Y', (14, 22, 30)), \n",
    " ('P', (17, 25, 33)), \n",
    " ('O', (41, 49)), \n",
    " ('B', (20, 28, 36)), \n",
    " ('A', (45, 46)), \n",
    " ('|', (0, 1, 2, 3, 4, 5, 6, 7, 8, 15, 16, 23, 24, 32, 39,\n",
    "        40, 47, 48, 55, 56, 57, 58, 59, 60, 61, 62, 63)))\n",
    "\n",
    "# A solution to this puzzle is as follows:\n",
    "\n",
    "#     path = solve_parking_puzzle(puzzle1, N=8)\n",
    "#     path_actions(path) == [('A', -3), ('B', 16), ('Y', 24), ('*', 4)]\n",
    "\n",
    "# That is, move car 'A' 3 spaces left, then 'B' 2 down, then 'Y' 3 down, \n",
    "# and finally '*' moves 4 spaces right to the goal.\n",
    "\n",
    "# Your task is to define solve_parking_puzzle:\n",
    "\n",
    "N = 8\n",
    "\n",
    "def solve_parking_puzzle(start, N=N):\n",
    "    \"\"\"Solve the puzzle described by the starting position (a tuple \n",
    "    of (object, locations) pairs).  Return a path of [state, action, ...]\n",
    "    alternating items; an action is a pair (object, distance_moved),\n",
    "    such as ('B', 16) to move 'B' two squares down on the N=8 grid.\"\"\"\n",
    "    \n",
    "# But it would also be nice to have a simpler format to describe puzzles,\n",
    "# and a way to visualize states.\n",
    "# You will do that by defining the following two functions:\n",
    "\n",
    "def locs(start, n, incr=1):\n",
    "    \"Return a tuple of n locations, starting at start and incrementing by incr.\"\n",
    "\n",
    "\n",
    "def grid(cars, N=N):\n",
    "    \"\"\"Return a tuple of (object, locations) pairs -- the format expected for\n",
    "    this puzzle.  This function includes a wall pair, ('|', (0, ...)) to \n",
    "    indicate there are walls all around the NxN grid, except at the goal \n",
    "    location, which is the middle of the right-hand wall; there is a goal\n",
    "    pair, like ('@', (31,)), to indicate this. The variable 'cars'  is a\n",
    "    tuple of pairs like ('*', (26, 27)). The return result is a big tuple\n",
    "    of the 'cars' pairs along with the walls and goal pairs.\"\"\"\n",
    "\n",
    "\n",
    "def show(state, N=N):\n",
    "    \"Print a representation of a state as an NxN grid.\"\n",
    "    # Initialize and fill in the board.\n",
    "    board = ['.'] * N**2\n",
    "    for (c, squares) in state:\n",
    "        for s in squares:\n",
    "            board[s] = c\n",
    "    # Now print it out\n",
    "    for i,s in enumerate(board):\n",
    "        print(s),\n",
    "        if i % N == N - 1: print\n",
    "\n",
    "# Here we see the grid and locs functions in use:\n",
    "\n",
    "puzzle1 = grid((\n",
    "    ('*', locs(26, 2)),\n",
    "    ('G', locs(9, 2)),\n",
    "    ('Y', locs(14, 3, N)),\n",
    "    ('P', locs(17, 3, N)),\n",
    "    ('O', locs(41, 2, N)),\n",
    "    ('B', locs(20, 3, N)),\n",
    "    ('A', locs(45, 2))))\n",
    "\n",
    "puzzle2 = grid((\n",
    "    ('*', locs(26, 2)),\n",
    "    ('B', locs(20, 3, N)),\n",
    "    ('P', locs(33, 3)),\n",
    "    ('O', locs(41, 2, N)),\n",
    "    ('Y', locs(51, 3))))\n",
    "\n",
    "puzzle3 = grid((\n",
    "    ('*', locs(25, 2)),\n",
    "    ('B', locs(19, 3, N)),\n",
    "    ('P', locs(36, 3)),\n",
    "    ('O', locs(45, 2, N)),\n",
    "    ('Y', locs(49, 3))))\n",
    "\n",
    "\n",
    "# Here are the shortest_path_search and path_actions functions from the unit.\n",
    "# You may use these if you want, but you don't have to.\n",
    "\n",
    "def win_test(state):\n",
    "    for item, locs in state:\n",
    "        if item == '*':\n",
    "            pos = locs\n",
    "        if item == '@':\n",
    "            goal = locs[0]\n",
    "    if goal in pos:\n",
    "        return True\n",
    "    return False\n",
    "\n",
    "\n",
    "def shortest_path_search(start, successors, is_goal):\n",
    "    \"\"\"Find the shortest path from start state to a state\n",
    "    such that is_goal(state) is true.\"\"\"\n",
    "    if is_goal(start):\n",
    "        return [start]\n",
    "    explored = set() # set of states we have visited\n",
    "    frontier = [ [start] ] # ordered list of paths we have blazed\n",
    "    while frontier:\n",
    "        path = frontier.pop(0)\n",
    "        s = path[-1]\n",
    "        for (state, action) in successors(s).items():\n",
    "            if state not in explored:\n",
    "                explored.add(state)\n",
    "                path2 = path + [action, state]\n",
    "                if is_goal(state):\n",
    "                    return path2\n",
    "                else:\n",
    "                    frontier.append(path2)\n",
    "    return []\n",
    "\n",
    "def path_actions(path):\n",
    "    \"Return a list of actions in this path.\"\n",
    "    return path[1::2]\n",
    "\n",
    "puzzle1 = (\n",
    " ('@', (31,)),\n",
    " ('*', (26, 27)), \n",
    " ('G', (9, 10)),\n",
    " ('Y', (14, 22, 30)), \n",
    " ('P', (17, 25, 33)), \n",
    " ('O', (41, 49)), \n",
    " ('B', (20, 28, 36)), \n",
    " ('A', (45, 46)), \n",
    " ('|', (0, 1, 2, 3, 4, 5, 6, 7, 8, 15, 16, 23, 24, 32, 39,\n",
    "        40, 47, 48, 55, 56, 57, 58, 59, 60, 61, 62, 63)))\n",
    "\n",
    "print(win_test(puzzle1) )\n",
    "show(puzzle1, 8)"
   ]
  },
  {
   "cell_type": "code",
   "execution_count": null,
   "metadata": {},
   "outputs": [],
   "source": []
  },
  {
   "cell_type": "code",
   "execution_count": null,
   "metadata": {},
   "outputs": [],
   "source": []
  },
  {
   "cell_type": "code",
   "execution_count": null,
   "metadata": {},
   "outputs": [],
   "source": []
  },
  {
   "cell_type": "code",
   "execution_count": null,
   "metadata": {},
   "outputs": [],
   "source": []
  },
  {
   "cell_type": "code",
   "execution_count": 152,
   "metadata": {},
   "outputs": [
    {
     "name": "stdout",
     "output_type": "stream",
     "text": [
      "Function called with: 1 2 3\n",
      "Function called with: 4 5 6\n",
      "Function called with: 7 8 9\n"
     ]
    }
   ],
   "source": [
    "\"\"\"\n",
    "Showing how to use star arguments. Word word word word.\n",
    "\"\"\"\n",
    "\n",
    "def function(one, two, three):\n",
    "    print('Function called with:', one, two, three )\n",
    "    \n",
    "# This will work just fine\n",
    "args = [1, 2, 3]\n",
    "function(*args)\n",
    "\n",
    "# This will work just fine, as well\n",
    "args = '456'\n",
    "function(*args)\n",
    "\n",
    "# Call a function with any number of arguments given\n",
    "def call(f, args):\n",
    "    # Unpack the list of args and give to the function\n",
    "    # The cool thing is that we don't have to know how many arguments\n",
    "    # the function takes, we just use the * operator and it unpacks them for us.\n",
    "    f(*args)\n",
    "    \n",
    "\n",
    "# Pass in our function and arguments\n",
    "args = [7, 8, 9]\n",
    "call(function, args)"
   ]
  },
  {
   "cell_type": "code",
   "execution_count": null,
   "metadata": {},
   "outputs": [],
   "source": []
  },
  {
   "cell_type": "code",
   "execution_count": null,
   "metadata": {},
   "outputs": [],
   "source": []
  },
  {
   "cell_type": "code",
   "execution_count": null,
   "metadata": {},
   "outputs": [],
   "source": []
  },
  {
   "cell_type": "code",
   "execution_count": 156,
   "metadata": {},
   "outputs": [
    {
     "name": "stdout",
     "output_type": "stream",
     "text": [
      "B004NVUXH2\n",
      "B004NVUXH2\n",
      "B004NVUXH2\n"
     ]
    }
   ],
   "source": [
    "\"\"\"\n",
    "testing exclude regex with amazon\n",
    "\"\"\"\n",
    "\n",
    "import re\n",
    "\n",
    "\n",
    "good_urls = (\n",
    "    'http://www.amazon.com/exec/obidos/ASIN/B004NVUXH2/gasmencommon',\n",
    "    'http://www.amazon.com/exec/obidos/ASIN/B004NVUXH2/gasmencommon-10',\n",
    "    'http://www.amazon.com/exec/obidos/ASIN/B004NVUXH2/gasmencommon-2a',\n",
    ")\n",
    "\n",
    "bad_urls = (\n",
    "    'http://www.amazon.com/exec/obidos/ASIN/B004NVUXH2/gasmencommon-20',\n",
    "    'http://www.amazon.com/exec/obidos/ASIN/B004NVUXH2/gasmencommon-20-sdsdf',\n",
    "    'http://www.amazon.com/exec/obidos/ASIN/B004N-20VUXH2/gasmencommon',\n",
    ")\n",
    "\n",
    "\n",
    "#reg = re.compile(r'^.*(gp/product|dp|ASIN)/(B[A-Za-z0-9]+)((?!\\-2\\d).)*$')\n",
    "#reg = re.compile(r'^.*(gp\\/product|dp|ASIN)/(?P<ext_id>B[A-Za-z0-9]+)((?!\\-2\\d).)*$')\n",
    "reg = re.compile(r'^.*(gp\\/product|dp|ASIN)\\/(?P<ext_id>B[A-Za-z0-9]+)(?!.*\\-(20|21).*$)')\n",
    "\n",
    "def test_urls():\n",
    "    for url in good_urls:\n",
    "        match = reg.search(url)\n",
    "        assert match\n",
    "        print(match.groups()[1] )\n",
    "        \n",
    "    for url in bad_urls:\n",
    "        assert not reg.search(url)\n",
    "\n",
    "\n",
    "if __name__ == '__main__':\n",
    "    test_urls()"
   ]
  },
  {
   "cell_type": "code",
   "execution_count": null,
   "metadata": {},
   "outputs": [],
   "source": []
  },
  {
   "cell_type": "code",
   "execution_count": null,
   "metadata": {},
   "outputs": [],
   "source": []
  },
  {
   "cell_type": "code",
   "execution_count": null,
   "metadata": {},
   "outputs": [],
   "source": []
  },
  {
   "cell_type": "code",
   "execution_count": null,
   "metadata": {},
   "outputs": [],
   "source": []
  },
  {
   "cell_type": "code",
   "execution_count": null,
   "metadata": {},
   "outputs": [],
   "source": []
  },
  {
   "cell_type": "code",
   "execution_count": 161,
   "metadata": {},
   "outputs": [
    {
     "name": "stdout",
     "output_type": "stream",
     "text": [
      "help\n",
      "help\n",
      "Setting up the Mega object\n",
      "Arkadiusz\n",
      "0\n"
     ]
    }
   ],
   "source": [
    "\"\"\"\n",
    "Playing with collections and generators\n",
    "\"\"\"\n",
    "\n",
    "from array import *\n",
    "q = [1,2,3,4,5]\n",
    "t = [s for s in q if s > 3]\n",
    "w = map(lambda q: q,filter(lambda d:d>2, q))\n",
    "#print t, w\n",
    "\n",
    "p = []\n",
    "for i in range(5):\n",
    "    p.append([x for x in range(6)])\n",
    "    \n",
    "#print p\n",
    "\n",
    "def add_letters(l):\n",
    "    for y in l:\n",
    "        yield y\n",
    "\n",
    "hash = {'help' : ['h','e','l','p']}\n",
    "\n",
    "h = add_letters(hash['help'])\n",
    "print(''.join(hash['help']))\n",
    "print(''.join([d for d in h]))\n",
    "\n",
    "\n",
    "\n",
    "class Mega(object):\n",
    "\n",
    "    def __init__(self, name):\n",
    "        print('Setting up the Mega object')\n",
    "        self.name = name\n",
    "    def __str__(self):\n",
    "        return self.name\n",
    "        \n",
    "m = Mega('Arkadiusz')\n",
    "print(str(m))\n",
    "\n",
    "def cheat_args(function):\n",
    "    def wrapper(*args, **kwargs):\n",
    "        if len(args[0]) > 0:\n",
    "            args[0][0] = 'It\\'s sneaky'\n",
    "        return function(*args, **kwargs)\n",
    "    return wrapper\n",
    "    \n",
    "@cheat_args    \n",
    "def writy(to_write):\n",
    "    print(to_write)\n",
    "    for i in to_write:\n",
    "        print(i)\n",
    "        \n",
    "#writy(['One', 'Two', 'Three'])\n",
    "\n",
    "life = [[0 for i in range(4)] for i in range(4)]\n",
    "print(life [1][1])\n",
    "\n",
    "\n",
    "    \n",
    "\n",
    "\n"
   ]
  },
  {
   "cell_type": "code",
   "execution_count": null,
   "metadata": {},
   "outputs": [],
   "source": []
  },
  {
   "cell_type": "code",
   "execution_count": null,
   "metadata": {},
   "outputs": [],
   "source": []
  },
  {
   "cell_type": "code",
   "execution_count": null,
   "metadata": {},
   "outputs": [],
   "source": []
  },
  {
   "cell_type": "code",
   "execution_count": 170,
   "metadata": {},
   "outputs": [
    {
     "name": "stdout",
     "output_type": "stream",
     "text": [
      "<map object at 0x113c48940>\n",
      "<map object at 0x113c48470>\n",
      "<map object at 0x113c48940>\n",
      "<map object at 0x113c48470>\n",
      "<map object at 0x113c48940>\n",
      "<map object at 0x113c48470>\n"
     ]
    }
   ],
   "source": [
    "\"\"\"\n",
    "Compute basic color stuff like gradients and intermediate colors.\n",
    "\"\"\"\n",
    "def arrayMultiply(array, c):\n",
    "    return [element*c for element in array]\n",
    "\n",
    "def arraySum(a, b):\n",
    "    return map(sum, zip(a,b))\n",
    "\n",
    "def intermediate(a, b, ratio):\n",
    "    aComponent = arrayMultiply(a, ratio)\n",
    "    bComponent = arrayMultiply(b, 1-ratio)\n",
    "    return arraySum(aComponent, bComponent)\n",
    "\n",
    "def gradient(a, b, steps):\n",
    "    steps = [n/float(steps) for n in range(steps)]\n",
    "    for step in steps:\n",
    "        print(intermediate(a, b, step))\n",
    "\n",
    "#print arrayMultiply((1,2,3), 0.3)\n",
    "#print arraySum((1,2,3), (0.5, 0.5, 0.5))\n",
    "#print intermediate((1,2,3), (3,2,1), 0.5)\n",
    "#print gradient(None, None, 5)\n",
    "\n",
    "\n",
    "pureBlue = (8, 123, 157)\n",
    "pureYellowGreen = (0,84,166)\n",
    "\n",
    "gradient(pureBlue, pureYellowGreen, 6)\n",
    "\n",
    "\n"
   ]
  },
  {
   "cell_type": "code",
   "execution_count": null,
   "metadata": {},
   "outputs": [],
   "source": []
  },
  {
   "cell_type": "code",
   "execution_count": null,
   "metadata": {},
   "outputs": [],
   "source": []
  },
  {
   "cell_type": "code",
   "execution_count": null,
   "metadata": {},
   "outputs": [],
   "source": []
  },
  {
   "cell_type": "code",
   "execution_count": 166,
   "metadata": {},
   "outputs": [
    {
     "name": "stdout",
     "output_type": "stream",
     "text": [
      "{'1': 1, '5': 2, '10': 2, '50': 2, '1000': 4}\n",
      "5\n"
     ]
    },
    {
     "ename": "TypeError",
     "evalue": "'dict_keys' object is not subscriptable",
     "output_type": "error",
     "traceback": [
      "\u001b[0;31m---------------------------------------------------------------------------\u001b[0m",
      "\u001b[0;31mTypeError\u001b[0m                                 Traceback (most recent call last)",
      "\u001b[0;32m<ipython-input-166-e25e21bcc0d8>\u001b[0m in \u001b[0;36m<module>\u001b[0;34m\u001b[0m\n\u001b[1;32m     13\u001b[0m         \u001b[0mindex\u001b[0m\u001b[0;34m=\u001b[0m\u001b[0mrandint\u001b[0m\u001b[0;34m(\u001b[0m\u001b[0;36m0\u001b[0m\u001b[0;34m,\u001b[0m\u001b[0mlen\u001b[0m\u001b[0;34m(\u001b[0m\u001b[0mvals\u001b[0m\u001b[0;34m)\u001b[0m\u001b[0;34m-\u001b[0m\u001b[0;36m1\u001b[0m\u001b[0;34m)\u001b[0m\u001b[0;34m\u001b[0m\u001b[0;34m\u001b[0m\u001b[0m\n\u001b[1;32m     14\u001b[0m         \u001b[0mkeys\u001b[0m\u001b[0;34m=\u001b[0m\u001b[0mvals\u001b[0m\u001b[0;34m.\u001b[0m\u001b[0mkeys\u001b[0m\u001b[0;34m(\u001b[0m\u001b[0;34m)\u001b[0m\u001b[0;34m\u001b[0m\u001b[0;34m\u001b[0m\u001b[0m\n\u001b[0;32m---> 15\u001b[0;31m         \u001b[0mval\u001b[0m\u001b[0;34m=\u001b[0m\u001b[0mvals\u001b[0m\u001b[0;34m[\u001b[0m\u001b[0mkeys\u001b[0m\u001b[0;34m[\u001b[0m\u001b[0mindex\u001b[0m\u001b[0;34m]\u001b[0m\u001b[0;34m]\u001b[0m\u001b[0;34m\u001b[0m\u001b[0;34m\u001b[0m\u001b[0m\n\u001b[0m\u001b[1;32m     16\u001b[0m \u001b[0;34m\u001b[0m\u001b[0m\n",
      "\u001b[0;31mTypeError\u001b[0m: 'dict_keys' object is not subscriptable"
     ]
    }
   ],
   "source": [
    "# ruman numeral puzzle from nytimes 12-31-12\n",
    "from random import randint\n",
    "\n",
    "vals={\"1\":1,\"5\":2,\"10\":2,\"50\":2,\"1000\":4}\n",
    "\n",
    "sticks=10\n",
    "iterations=1000\n",
    "print(vals)\n",
    "print(len(vals))\n",
    "for iteration in range(iterations):\n",
    "    currentSticks=sticks\n",
    "    while currentSticks>0:\n",
    "        index=randint(0,len(vals)-1)\n",
    "        keys=vals.keys()\n",
    "        val=vals[keys[index]]\n",
    "        "
   ]
  },
  {
   "cell_type": "code",
   "execution_count": null,
   "metadata": {},
   "outputs": [],
   "source": []
  },
  {
   "cell_type": "code",
   "execution_count": null,
   "metadata": {},
   "outputs": [],
   "source": []
  },
  {
   "cell_type": "code",
   "execution_count": 173,
   "metadata": {},
   "outputs": [
    {
     "name": "stdout",
     "output_type": "stream",
     "text": [
      "[9, 10, 5, 121]\n"
     ]
    }
   ],
   "source": [
    "\"\"\"\n",
    "Simple Program Compare 2 csv list\n",
    "\"\"\"\n",
    "List1=[1, 2, 3, 121, 4, 5, 6, 7, 8, 9, 10]\n",
    "List2=[1, 2, 3, 4, 4, 6, 7, 8, 11, 77]\n",
    "List3=list(set(List1)-set(List2))\n",
    "print(List3 )"
   ]
  },
  {
   "cell_type": "code",
   "execution_count": null,
   "metadata": {},
   "outputs": [],
   "source": []
  },
  {
   "cell_type": "code",
   "execution_count": null,
   "metadata": {},
   "outputs": [],
   "source": []
  },
  {
   "cell_type": "code",
   "execution_count": 175,
   "metadata": {},
   "outputs": [
    {
     "ename": "SyntaxError",
     "evalue": "invalid syntax (<ipython-input-175-5a0b3a7cc177>, line 27)",
     "output_type": "error",
     "traceback": [
      "\u001b[0;36m  File \u001b[0;32m\"<ipython-input-175-5a0b3a7cc177>\"\u001b[0;36m, line \u001b[0;32m27\u001b[0m\n\u001b[0;31m    print LatticePath(3,3)\u001b[0m\n\u001b[0m                    ^\u001b[0m\n\u001b[0;31mSyntaxError\u001b[0m\u001b[0;31m:\u001b[0m invalid syntax\n"
     ]
    }
   ],
   "source": [
    "\"\"\"\n",
    "Project Euler #15\n",
    "\n",
    "Recursive counting of Lattice Path of NxM Grid\n",
    "\n",
    "Note: Doesn't work well with high numbers (i.e. 20)\n",
    "\n",
    "LatticePath_v2 uses binomial coefficient of the NxN grid to solve for the number of LatticePath  \n",
    "\"\"\"\n",
    "import math\n",
    "\n",
    "def LatticePath(down, right):\n",
    "    \n",
    "    if(down == 0 or right == 0):\n",
    "        return 1\n",
    "    \n",
    "    else:\n",
    "        return LatticePath(down -1, right) + LatticePath(down, right -1)\n",
    "    \n",
    "    \n",
    "def LatticePath_v2(down, right):\n",
    "\tnumPaths = 0\n",
    "    \n",
    "\treturn math.factorial(down + right) / (math.factorial(down)**2)\n",
    "    \n",
    "\t\n",
    "print LatticePath(3,3)\n",
    "\n",
    "\n",
    "print LatticePath_v2(20,20)"
   ]
  },
  {
   "cell_type": "code",
   "execution_count": null,
   "metadata": {},
   "outputs": [],
   "source": []
  },
  {
   "cell_type": "code",
   "execution_count": 176,
   "metadata": {},
   "outputs": [
    {
     "ename": "SyntaxError",
     "evalue": "Missing parentheses in call to 'print'. Did you mean print('List: %s' % a)? (<ipython-input-176-35ff0cb67999>, line 18)",
     "output_type": "error",
     "traceback": [
      "\u001b[0;36m  File \u001b[0;32m\"<ipython-input-176-35ff0cb67999>\"\u001b[0;36m, line \u001b[0;32m18\u001b[0m\n\u001b[0;31m    print 'List: %s' % a\u001b[0m\n\u001b[0m                   ^\u001b[0m\n\u001b[0;31mSyntaxError\u001b[0m\u001b[0;31m:\u001b[0m Missing parentheses in call to 'print'. Did you mean print('List: %s' % a)?\n"
     ]
    }
   ],
   "source": [
    "class mylist():\n",
    "    def __init__(self,l):\n",
    "        self.l = l\n",
    "    def extend(self,index):\n",
    "        diff = index + 1 - len(self.l)\n",
    "        if diff > 0:\n",
    "            self.l.extend([ None for x in range(diff) ] )\n",
    "    def __getitem__(self,index):\n",
    "        # self.extend(index) ## depending on your taste\n",
    "        return self.l[index]\n",
    "    def __setitem__(self,index,value):\n",
    "        self.extend(index) \n",
    "        self.l[index] = value\n",
    "    def __repr__(self):\n",
    "        return self.l.__repr__()\n",
    "    \n",
    "a = mylist([0,1,2,3])\n",
    "print 'List: %s' % a\n",
    "# print a[5]  ### this will throw an 'list index out of range' unless \n",
    "              ### you comment out the bit in __getitem__\n",
    "a[5] = 5\n",
    "print 'List: %s' % a\n",
    "print a[5]\n",
    "\n",
    "\n"
   ]
  },
  {
   "cell_type": "code",
   "execution_count": null,
   "metadata": {},
   "outputs": [],
   "source": []
  },
  {
   "cell_type": "code",
   "execution_count": 177,
   "metadata": {},
   "outputs": [
    {
     "name": "stdout",
     "output_type": "stream",
     "text": [
      "06\n",
      "01\n"
     ]
    }
   ],
   "source": [
    "from functools import reduce\n",
    "\n",
    "# constants used in the multGF2 function\n",
    "mask1 = mask2 = polyred = None\n",
    "\n",
    "def setGF2(degree, irPoly):\n",
    "    \"\"\"Define parameters of binary finite field GF(2^m)/g(x)\n",
    "       - degree: extension degree of binary field\n",
    "       - irPoly: coefficients of irreducible polynomial g(x)\n",
    "    \"\"\"\n",
    "    def i2P(sInt):\n",
    "        \"\"\"Convert an integer into a polynomial\"\"\"\n",
    "        return [(sInt >> i) & 1\n",
    "                for i in reversed(range(sInt.bit_length()))]    \n",
    "    \n",
    "    global mask1, mask2, polyred\n",
    "    mask1 = mask2 = 1 << degree\n",
    "    mask2 -= 1\n",
    "    polyred = reduce(lambda x, y: (x << 1) + y, i2P(irPoly)[1:])\n",
    "        \n",
    "def multGF2(p1, p2):\n",
    "    \"\"\"Multiply two polynomials in GF(2^m)/g(x)\"\"\"\n",
    "    p = 0\n",
    "    while p2:\n",
    "        if p2 & 1:\n",
    "            p ^= p1\n",
    "        p1 <<= 1\n",
    "        if p1 & mask1:\n",
    "            p1 ^= polyred\n",
    "        p2 >>= 1\n",
    "    return p & mask2\n",
    "\n",
    "if __name__ == \"__main__\":\n",
    "  \n",
    "    # Define binary field GF(2^3)/x^3 + x + 1\n",
    "    setGF2(3, 0b1011)\n",
    "\n",
    "    # Evaluate the product (x^2 + x + 1)(x^2 + 1)\n",
    "    print(\"{:02x}\".format(multGF2(0b111, 0b101)))\n",
    "    \n",
    "    # Define binary field GF(2^8)/x^8 + x^4 + x^3 + x + 1\n",
    "    # (used in the Advanced Encryption Standard-AES)\n",
    "    setGF2(8, 0b100011011)\n",
    "    \n",
    "    # Evaluate the product (x^7)(x^7 + x + 1)\n",
    "    print(\"{:02x}\".format(multGF2(0b10000000, 0b10000011)))"
   ]
  },
  {
   "cell_type": "code",
   "execution_count": null,
   "metadata": {},
   "outputs": [],
   "source": []
  },
  {
   "cell_type": "code",
   "execution_count": null,
   "metadata": {},
   "outputs": [],
   "source": []
  },
  {
   "cell_type": "code",
   "execution_count": null,
   "metadata": {},
   "outputs": [],
   "source": []
  },
  {
   "cell_type": "code",
   "execution_count": 172,
   "metadata": {},
   "outputs": [],
   "source": [
    "# http://pythonfiddle.com/artemis-master-encryption-algorithm/"
   ]
  },
  {
   "cell_type": "code",
   "execution_count": null,
   "metadata": {},
   "outputs": [],
   "source": []
  }
 ],
 "metadata": {
  "kernelspec": {
   "display_name": "Python 3",
   "language": "python",
   "name": "python3"
  },
  "language_info": {
   "codemirror_mode": {
    "name": "ipython",
    "version": 3
   },
   "file_extension": ".py",
   "mimetype": "text/x-python",
   "name": "python",
   "nbconvert_exporter": "python",
   "pygments_lexer": "ipython3",
   "version": "3.7.3"
  }
 },
 "nbformat": 4,
 "nbformat_minor": 2
}
