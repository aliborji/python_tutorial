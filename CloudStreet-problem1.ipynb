{
 "cells": [
  {
   "cell_type": "code",
   "execution_count": 635,
   "metadata": {},
   "outputs": [],
   "source": [
    "def getCofactor(mat, temp, p, q, n): \n",
    "    i = j = 0\n",
    "    for row in range(n):  \n",
    "        for col in range(n): \n",
    "            if (row != p and col != q) : \n",
    "                temp[i][j] = mat[row][col] \n",
    "                j += 1\n",
    "  \n",
    "                if (j == n - 1): \n",
    "                    j = 0\n",
    "                    i += 1\n",
    "  \n",
    "def determinantOfMatrix(mat, n): \n",
    "    D = 0 \n",
    "    if (n == 1): \n",
    "        return mat[0][0] \n",
    "          \n",
    "    temp = [[0 for x in range(N)]  \n",
    "               for y in range(N)]  \n",
    "  \n",
    "    sign = 1 \n",
    "    for f in range(n): \n",
    "        getCofactor(mat, temp, 0, f, n) \n",
    "        D += (sign * mat[0][f] *\n",
    "              determinantOfMatrix(temp, n - 1)) \n",
    "  \n",
    "        sign = -sign \n",
    "\n",
    "    return D "
   ]
  },
  {
   "cell_type": "code",
   "execution_count": 631,
   "metadata": {},
   "outputs": [],
   "source": [
    "class Matrix:\n",
    "    def __init__(self, n_rows=1, n_cols=1, init_val=0):\n",
    "        self.n_rows = n_rows\n",
    "        self.n_cols = n_cols\n",
    "        self.storage = [init_val for i in range(n_rows*n_cols)]\n",
    "        \n",
    "    def elm(self,i,j):\n",
    "        return self.storage[i*(self.n_rows-1)+j]\n",
    "    \n",
    "    def add(self, a):\n",
    "        '''\n",
    "        adds two matrices and saves it in the left one\n",
    "        '''\n",
    "        if (self.n_cols != a.n_cols) or (self.n_rows != a.n_rows):\n",
    "            print('Error: matrices should have the same size!')\n",
    "            return\n",
    "        \n",
    "        for i in range(len(self.storage)):\n",
    "           self.storage[i] += a.storage[i] \n",
    "\n",
    "    def __add__(self, a): \n",
    "        '''\n",
    "        use this as x = y + z\n",
    "        '''        \n",
    "        self.add(a) \n",
    "        return self\n",
    "        \n",
    "    def mult(self, a):\n",
    "        '''\n",
    "        multiplies two matrices and saves it in the left one\n",
    "        '''        \n",
    "        if self.n_cols != a.n_rows:\n",
    "            print('Error: cols of the first matrix should match rows of the second one!')\n",
    "            return\n",
    "            \n",
    "        self.n_cols = a.n_cols\n",
    "        result = [] \n",
    "        for i in range(self.n_rows):\n",
    "           for j in range(a.n_cols):\n",
    "               val = 0 \n",
    "               for k in range(a.n_rows):\n",
    "                    val += self.elm(i,k) * a.elm(k,j)    \n",
    "               result.append(val)\n",
    "        self.storage = result\n",
    "        \n",
    "    def __mul__(self, a): \n",
    "        '''\n",
    "        use this as x = y * z\n",
    "        '''        \n",
    "        self.mult(a) \n",
    "        return self\n",
    "        \n",
    "                \n",
    "    def dot(self, a):\n",
    "        '''\n",
    "        dot product between two matrices or 1D vectors!\n",
    "        '''\n",
    "        if (self.n_cols != a.n_cols) or (self.n_rows != a.n_rows):\n",
    "            print('Error: matrices should have the same size!')\n",
    "            return\n",
    "        \n",
    "        result = 0\n",
    "        for i in range(len(self.storage)):\n",
    "           result += self.storage[i] * a.storage[i] \n",
    "        return result\n",
    "    \n",
    "    def is_skewed(self):\n",
    "        '''\n",
    "        checks whether a matrix is skew symmetric\n",
    "        '''\n",
    "        if self.n_cols != self.n_rows:\n",
    "            print('Error: matrix must be square!')\n",
    "            return\n",
    "        \n",
    "        result = 0\n",
    "        for i in range(self.n_rows):\n",
    "            for j in range(self.n_cols):\n",
    "                result += self.elm(i, j)\n",
    "        return result==0\n",
    "\n",
    "    def is_invertible(self):\n",
    "        '''\n",
    "        checks whether a matrix is invertible; it is invertible if determinant is nonzero\n",
    "        '''\n",
    "        if self.n_cols != self.n_rows:\n",
    "            print('Error: matrix must be square!')\n",
    "            return\n",
    "        \n",
    "        storage_2D = [[self.storage[j*self.n_cols+i] for i in range(self.n_cols)] for j in range(self.n_rows)]\n",
    "        return determinantOfMatrix(storage_2D, self.n_cols) != 0\n",
    "\n",
    "    def __str__(self):\n",
    "        s = '['\n",
    "        for i in range(self.n_rows):\n",
    "            s += '['\n",
    "            for j in range(self.n_cols):\n",
    "                s += f' {self.storage[i*j]} '\n",
    "            s += '],\\n'\n",
    "        s = s[:-2] + ']'\n",
    "        return s"
   ]
  },
  {
   "cell_type": "markdown",
   "metadata": {},
   "source": [
    "## Testing addition"
   ]
  },
  {
   "cell_type": "code",
   "execution_count": 665,
   "metadata": {},
   "outputs": [],
   "source": [
    "m = Matrix(n_rows=3, n_cols=2, init_val=2)\n",
    "n = Matrix(n_rows=3, n_cols=2, init_val=1)"
   ]
  },
  {
   "cell_type": "code",
   "execution_count": 666,
   "metadata": {},
   "outputs": [
    {
     "name": "stdout",
     "output_type": "stream",
     "text": [
      "[[ 2  2 ],\n",
      "[ 2  2 ],\n",
      "[ 2  2 ]]\n",
      "[[ 1  1 ],\n",
      "[ 1  1 ],\n",
      "[ 1  1 ]]\n"
     ]
    }
   ],
   "source": [
    "print(m)\n",
    "print(n)"
   ]
  },
  {
   "cell_type": "code",
   "execution_count": 667,
   "metadata": {},
   "outputs": [
    {
     "name": "stdout",
     "output_type": "stream",
     "text": [
      "[[ 3  3 ],\n",
      "[ 3  3 ],\n",
      "[ 3  3 ]]\n"
     ]
    }
   ],
   "source": [
    "m = m+n\n",
    "print(m)"
   ]
  },
  {
   "cell_type": "code",
   "execution_count": 668,
   "metadata": {},
   "outputs": [],
   "source": [
    "m.add(n)"
   ]
  },
  {
   "cell_type": "code",
   "execution_count": 669,
   "metadata": {},
   "outputs": [
    {
     "name": "stdout",
     "output_type": "stream",
     "text": [
      "[[ 4  4 ],\n",
      "[ 4  4 ],\n",
      "[ 4  4 ]]\n"
     ]
    }
   ],
   "source": [
    "print(m)"
   ]
  },
  {
   "cell_type": "markdown",
   "metadata": {},
   "source": [
    "## Testing multiplication"
   ]
  },
  {
   "cell_type": "code",
   "execution_count": 648,
   "metadata": {},
   "outputs": [],
   "source": [
    "m = Matrix(n_rows=3, n_cols=2, init_val=2)\n",
    "n = Matrix(n_rows=2, n_cols=2, init_val=1)"
   ]
  },
  {
   "cell_type": "code",
   "execution_count": 649,
   "metadata": {},
   "outputs": [
    {
     "name": "stdout",
     "output_type": "stream",
     "text": [
      "[[ 4  4 ],\n",
      "[ 4  4 ],\n",
      "[ 4  4 ]]\n"
     ]
    }
   ],
   "source": [
    "m = m*n\n",
    "print(m)"
   ]
  },
  {
   "cell_type": "code",
   "execution_count": 650,
   "metadata": {},
   "outputs": [
    {
     "name": "stdout",
     "output_type": "stream",
     "text": [
      "[[ 8  8 ],\n",
      "[ 8  8 ],\n",
      "[ 8  8 ]]\n"
     ]
    }
   ],
   "source": [
    "m.mult(n)\n",
    "print(m)"
   ]
  },
  {
   "cell_type": "code",
   "execution_count": 651,
   "metadata": {},
   "outputs": [
    {
     "name": "stdout",
     "output_type": "stream",
     "text": [
      "Help on method __mul__ in module __main__:\n",
      "\n",
      "__mul__(a) method of __main__.Matrix instance\n",
      "    use this as x = y * z\n",
      "\n"
     ]
    }
   ],
   "source": [
    "help(m.__mul__)"
   ]
  },
  {
   "cell_type": "markdown",
   "metadata": {},
   "source": [
    "## Testing dot product"
   ]
  },
  {
   "cell_type": "code",
   "execution_count": 654,
   "metadata": {},
   "outputs": [],
   "source": [
    "m = Matrix(n_rows=3, n_cols=3, init_val=-1)\n",
    "n = Matrix(n_rows=3, n_cols=3, init_val=1)"
   ]
  },
  {
   "cell_type": "code",
   "execution_count": 655,
   "metadata": {},
   "outputs": [],
   "source": [
    "xx = n.dot(m)"
   ]
  },
  {
   "cell_type": "code",
   "execution_count": 656,
   "metadata": {},
   "outputs": [
    {
     "name": "stdout",
     "output_type": "stream",
     "text": [
      "-9\n"
     ]
    }
   ],
   "source": [
    "print(xx)"
   ]
  },
  {
   "cell_type": "markdown",
   "metadata": {},
   "source": [
    "## Testing skew symmetry"
   ]
  },
  {
   "cell_type": "code",
   "execution_count": 657,
   "metadata": {},
   "outputs": [
    {
     "name": "stdout",
     "output_type": "stream",
     "text": [
      "False\n"
     ]
    }
   ],
   "source": [
    "print(m.is_skewed())"
   ]
  },
  {
   "cell_type": "code",
   "execution_count": 658,
   "metadata": {},
   "outputs": [
    {
     "name": "stdout",
     "output_type": "stream",
     "text": [
      "[[ -1  -1  -1 ],\n",
      "[ -1  -1  -1 ],\n",
      "[ -1  -1  -1 ]]\n"
     ]
    }
   ],
   "source": [
    "print(m)"
   ]
  },
  {
   "cell_type": "markdown",
   "metadata": {},
   "source": [
    "## Testing invertibility"
   ]
  },
  {
   "cell_type": "code",
   "execution_count": 662,
   "metadata": {},
   "outputs": [],
   "source": [
    "m = Matrix(n_rows=3, n_cols=3, init_val=20)"
   ]
  },
  {
   "cell_type": "code",
   "execution_count": 663,
   "metadata": {},
   "outputs": [
    {
     "name": "stdout",
     "output_type": "stream",
     "text": [
      "[20, 20, 20, 20, 20, 20, 20, 20, 20]\n"
     ]
    }
   ],
   "source": [
    "print(m.storage)"
   ]
  },
  {
   "cell_type": "code",
   "execution_count": 664,
   "metadata": {},
   "outputs": [
    {
     "data": {
      "text/plain": [
       "False"
      ]
     },
     "execution_count": 664,
     "metadata": {},
     "output_type": "execute_result"
    }
   ],
   "source": [
    "m.is_invertible()"
   ]
  }
 ],
 "metadata": {
  "kernelspec": {
   "display_name": "Python 3",
   "language": "python",
   "name": "python3"
  },
  "language_info": {
   "codemirror_mode": {
    "name": "ipython",
    "version": 3
   },
   "file_extension": ".py",
   "mimetype": "text/x-python",
   "name": "python",
   "nbconvert_exporter": "python",
   "pygments_lexer": "ipython3",
   "version": "3.7.6"
  }
 },
 "nbformat": 4,
 "nbformat_minor": 4
}
