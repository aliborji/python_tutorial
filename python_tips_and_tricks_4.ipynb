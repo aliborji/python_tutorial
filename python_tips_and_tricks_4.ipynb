{
  "nbformat": 4,
  "nbformat_minor": 0,
  "metadata": {
    "colab": {
      "name": "practice.ipynb",
      "provenance": []
    },
    "kernelspec": {
      "name": "python3",
      "display_name": "Python 3"
    }
  },
  "cells": [
    {
      "cell_type": "code",
      "metadata": {
        "id": "hMjnocXNMNzI",
        "colab_type": "code",
        "colab": {}
      },
      "source": [
        "def ff(name, last, age=None):\n",
        "    dd = {'name':name, 'last':last}\n",
        "    if age:\n",
        "        dd['age'] = age\n",
        "    return dd"
      ],
      "execution_count": 0,
      "outputs": []
    },
    {
      "cell_type": "code",
      "metadata": {
        "id": "6lWCiN1QMejN",
        "colab_type": "code",
        "outputId": "04dd75c5-4d18-4fbe-a83d-7576f0a84132",
        "colab": {
          "base_uri": "https://localhost:8080/",
          "height": 34
        }
      },
      "source": [
        "ff('ali', 'borji')"
      ],
      "execution_count": 2,
      "outputs": [
        {
          "output_type": "execute_result",
          "data": {
            "text/plain": [
              "{'last': 'borji', 'name': 'ali'}"
            ]
          },
          "metadata": {
            "tags": []
          },
          "execution_count": 2
        }
      ]
    },
    {
      "cell_type": "code",
      "metadata": {
        "id": "zXsz80HjMgzw",
        "colab_type": "code",
        "outputId": "0dc21bd7-396a-406f-bc60-05c7b93a932f",
        "colab": {
          "base_uri": "https://localhost:8080/",
          "height": 34
        }
      },
      "source": [
        "ff('ali', 'borji', 40)"
      ],
      "execution_count": 3,
      "outputs": [
        {
          "output_type": "execute_result",
          "data": {
            "text/plain": [
              "{'age': 40, 'last': 'borji', 'name': 'ali'}"
            ]
          },
          "metadata": {
            "tags": []
          },
          "execution_count": 3
        }
      ]
    },
    {
      "cell_type": "code",
      "metadata": {
        "id": "B-0rMBDXMiyY",
        "colab_type": "code",
        "colab": {}
      },
      "source": [
        ""
      ],
      "execution_count": 0,
      "outputs": []
    },
    {
      "cell_type": "code",
      "metadata": {
        "id": "zzOcDJX6MnEz",
        "colab_type": "code",
        "outputId": "980121a0-57e2-44ae-a637-8166778aed20",
        "colab": {
          "base_uri": "https://localhost:8080/",
          "height": 68
        }
      },
      "source": [
        "dic = {'age': 40, 'last': 'borji', 'name': 'ali'}\n",
        "for i, j in dic.items():\n",
        "    print(i, j)"
      ],
      "execution_count": 4,
      "outputs": [
        {
          "output_type": "stream",
          "text": [
            "age 40\n",
            "last borji\n",
            "name ali\n"
          ],
          "name": "stdout"
        }
      ]
    },
    {
      "cell_type": "code",
      "metadata": {
        "id": "NTD3BDTsMsir",
        "colab_type": "code",
        "outputId": "e242083d-bb39-45c6-91c6-1efaf9ecd506",
        "colab": {
          "base_uri": "https://localhost:8080/",
          "height": 34
        }
      },
      "source": [
        "ss= \"age 40 last borji name ali\"\n",
        "ww= ss.split(\" \")\n",
        "ww"
      ],
      "execution_count": 5,
      "outputs": [
        {
          "output_type": "execute_result",
          "data": {
            "text/plain": [
              "['age', '40', 'last', 'borji', 'name', 'ali']"
            ]
          },
          "metadata": {
            "tags": []
          },
          "execution_count": 5
        }
      ]
    },
    {
      "cell_type": "code",
      "metadata": {
        "id": "O0zNnqbfM39d",
        "colab_type": "code",
        "outputId": "ce3cf0e6-5de1-4acb-a54b-86a67646a9ea",
        "colab": {
          "base_uri": "https://localhost:8080/",
          "height": 34
        }
      },
      "source": [
        "\"+\".join(ww)"
      ],
      "execution_count": 6,
      "outputs": [
        {
          "output_type": "execute_result",
          "data": {
            "text/plain": [
              "'age+40+last+borji+name+ali'"
            ]
          },
          "metadata": {
            "tags": []
          },
          "execution_count": 6
        }
      ]
    },
    {
      "cell_type": "code",
      "metadata": {
        "id": "UdxZdevNM69G",
        "colab_type": "code",
        "colab": {}
      },
      "source": [
        "def print_models(unprinted, printed):\n",
        "  while unprinted:\n",
        "    m = unprinted.pop(0)\n",
        "    print(m + ' ' + 'is done!')\n",
        "    printed.append(m)\n",
        "   "
      ],
      "execution_count": 0,
      "outputs": []
    },
    {
      "cell_type": "code",
      "metadata": {
        "id": "youPGLCnN91R",
        "colab_type": "code",
        "colab": {}
      },
      "source": [
        "orig = ['a', 'b', 'c']\n",
        "new = []"
      ],
      "execution_count": 0,
      "outputs": []
    },
    {
      "cell_type": "code",
      "metadata": {
        "id": "N-sOFWB4ODbD",
        "colab_type": "code",
        "outputId": "62cfac6a-2b92-436a-dc98-927484efc8e3",
        "colab": {
          "base_uri": "https://localhost:8080/",
          "height": 102
        }
      },
      "source": [
        "print_models(orig.copy(), new)\n",
        "# print_models(orig, new)\n",
        "print(orig)\n",
        "print(new)"
      ],
      "execution_count": 14,
      "outputs": [
        {
          "output_type": "stream",
          "text": [
            "a is done!\n",
            "b is done!\n",
            "c is done!\n",
            "['a', 'b', 'c']\n",
            "['a', 'b', 'c']\n"
          ],
          "name": "stdout"
        }
      ]
    },
    {
      "cell_type": "code",
      "metadata": {
        "id": "oW_3g4oZOIf6",
        "colab_type": "code",
        "outputId": "d4325f11-0c56-42dd-f3bc-1158fcd00456",
        "colab": {
          "base_uri": "https://localhost:8080/",
          "height": 34
        }
      },
      "source": [
        "a= 10\n",
        "print(F\"{10.1} is good {a}\")"
      ],
      "execution_count": 20,
      "outputs": [
        {
          "output_type": "stream",
          "text": [
            "10.1 is good 10\n"
          ],
          "name": "stdout"
        }
      ]
    },
    {
      "cell_type": "code",
      "metadata": {
        "id": "8f8Im59wO4GI",
        "colab_type": "code",
        "colab": {}
      },
      "source": [
        "def make_user(first, last, **more):\n",
        "    info = {'name':first, 'last':last}\n",
        "    for key, val in more.items():\n",
        "      info[key] = val\n",
        "    return info\n",
        "\n",
        "# def make_user2(first, last, *more):\n",
        "#     info = {'name':first, 'last':last}\n",
        "#     for t in more:\n",
        "#       info[key] = val\n",
        "#     return info    "
      ],
      "execution_count": 0,
      "outputs": []
    },
    {
      "cell_type": "code",
      "metadata": {
        "id": "It8eqHu0QBvD",
        "colab_type": "code",
        "outputId": "dfd852a6-8e6e-4270-f465-dce38facca6e",
        "colab": {
          "base_uri": "https://localhost:8080/",
          "height": 34
        }
      },
      "source": [
        "print(make_user('ali', 'bor'))\n"
      ],
      "execution_count": 22,
      "outputs": [
        {
          "output_type": "stream",
          "text": [
            "{'name': 'ali', 'last': 'bor'}\n"
          ],
          "name": "stdout"
        }
      ]
    },
    {
      "cell_type": "code",
      "metadata": {
        "id": "y1_o1geZQHt6",
        "colab_type": "code",
        "outputId": "00ee67f6-3bfe-4f95-c3be-14a274ba5b4a",
        "colab": {
          "base_uri": "https://localhost:8080/",
          "height": 34
        }
      },
      "source": [
        "print(make_user('ali', 'bor', ield = 'dd', ss = 'jj'))"
      ],
      "execution_count": 29,
      "outputs": [
        {
          "output_type": "stream",
          "text": [
            "{'name': 'ali', 'last': 'bor', 'ield': 'dd', 'ss': 'jj'}\n"
          ],
          "name": "stdout"
        }
      ]
    },
    {
      "cell_type": "code",
      "metadata": {
        "id": "TwCCeGwCMCE9",
        "colab_type": "code",
        "colab": {
          "base_uri": "https://localhost:8080/",
          "height": 34
        },
        "outputId": "aa2d3788-2e59-4878-f867-08af1ea1be82"
      },
      "source": [
        "print(make_user('ali', 'bor', xx = {'ield':'dd', 'ss':'jj'}))"
      ],
      "execution_count": 30,
      "outputs": [
        {
          "output_type": "stream",
          "text": [
            "{'name': 'ali', 'last': 'bor', 'xx': {'ield': 'dd', 'ss': 'jj'}}\n"
          ],
          "name": "stdout"
        }
      ]
    },
    {
      "cell_type": "code",
      "metadata": {
        "id": "QdppmL-WQMWy",
        "colab_type": "code",
        "outputId": "d31f3730-94da-4778-86ef-3da024f7f7c2",
        "colab": {
          "base_uri": "https://localhost:8080/",
          "height": 34
        }
      },
      "source": [
        "ll = [10,2,2,4,5,6]\n",
        "ll.append(7)\n",
        "print(ll)"
      ],
      "execution_count": 179,
      "outputs": [
        {
          "output_type": "stream",
          "text": [
            "[10, 2, 2, 4, 5, 6, 7]\n"
          ],
          "name": "stdout"
        }
      ]
    },
    {
      "cell_type": "code",
      "metadata": {
        "id": "dhCyRfk4Ryin",
        "colab_type": "code",
        "outputId": "5c383454-877e-4440-e509-9cb7ae926879",
        "colab": {
          "base_uri": "https://localhost:8080/",
          "height": 34
        }
      },
      "source": [
        "ll.count(2)"
      ],
      "execution_count": 180,
      "outputs": [
        {
          "output_type": "execute_result",
          "data": {
            "text/plain": [
              "2"
            ]
          },
          "metadata": {
            "tags": []
          },
          "execution_count": 180
        }
      ]
    },
    {
      "cell_type": "code",
      "metadata": {
        "id": "c0_g6hLkMvsH",
        "colab_type": "code",
        "colab": {
          "base_uri": "https://localhost:8080/",
          "height": 34
        },
        "outputId": "ae95faad-0337-46aa-9470-692adf7c1e24"
      },
      "source": [
        "sorted(ll)"
      ],
      "execution_count": 181,
      "outputs": [
        {
          "output_type": "execute_result",
          "data": {
            "text/plain": [
              "[2, 2, 4, 5, 6, 7, 10]"
            ]
          },
          "metadata": {
            "tags": []
          },
          "execution_count": 181
        }
      ]
    },
    {
      "cell_type": "code",
      "metadata": {
        "id": "5h9VhOPtMkid",
        "colab_type": "code",
        "colab": {
          "base_uri": "https://localhost:8080/",
          "height": 34
        },
        "outputId": "04da403e-bdee-4fab-c2c6-a3ad52ded2fa"
      },
      "source": [
        "ll.pop(-1)"
      ],
      "execution_count": 37,
      "outputs": [
        {
          "output_type": "execute_result",
          "data": {
            "text/plain": [
              "7"
            ]
          },
          "metadata": {
            "tags": []
          },
          "execution_count": 37
        }
      ]
    },
    {
      "cell_type": "code",
      "metadata": {
        "id": "w-mG3aKqR7O0",
        "colab_type": "code",
        "colab": {}
      },
      "source": [
        "# in place sorting\n",
        "ll.sort(reverse=True)\n"
      ],
      "execution_count": 0,
      "outputs": []
    },
    {
      "cell_type": "code",
      "metadata": {
        "id": "XiOqTN-ZSBE0",
        "colab_type": "code",
        "outputId": "ecf1c034-5512-4e5e-e058-206ba4b15591",
        "colab": {
          "base_uri": "https://localhost:8080/",
          "height": 34
        }
      },
      "source": [
        "ll"
      ],
      "execution_count": 182,
      "outputs": [
        {
          "output_type": "execute_result",
          "data": {
            "text/plain": [
              "[10, 2, 2, 4, 5, 6, 7]"
            ]
          },
          "metadata": {
            "tags": []
          },
          "execution_count": 182
        }
      ]
    },
    {
      "cell_type": "code",
      "metadata": {
        "id": "fV_R8QdaSDRk",
        "colab_type": "code",
        "outputId": "a243458c-d1e7-4569-dce6-4b3687ec6239",
        "colab": {
          "base_uri": "https://localhost:8080/",
          "height": 34
        }
      },
      "source": [
        "ll[::-1]"
      ],
      "execution_count": 0,
      "outputs": [
        {
          "output_type": "execute_result",
          "data": {
            "text/plain": [
              "[2, 2, 4, 5, 6, 7, 10]"
            ]
          },
          "metadata": {
            "tags": []
          },
          "execution_count": 61
        }
      ]
    },
    {
      "cell_type": "code",
      "metadata": {
        "id": "jQ8evTudSHdp",
        "colab_type": "code",
        "colab": {}
      },
      "source": [
        "ll.extend([40,10,100])"
      ],
      "execution_count": 0,
      "outputs": []
    },
    {
      "cell_type": "code",
      "metadata": {
        "id": "ZKdZcCGtSKrp",
        "colab_type": "code",
        "outputId": "b180ae7c-5d86-4aa7-9c6a-518bf504f990",
        "colab": {
          "base_uri": "https://localhost:8080/",
          "height": 34
        }
      },
      "source": [
        "ll"
      ],
      "execution_count": 55,
      "outputs": [
        {
          "output_type": "execute_result",
          "data": {
            "text/plain": [
              "[10, 2, 2, 4, 5, 6, 7, 40, 10, 100]"
            ]
          },
          "metadata": {
            "tags": []
          },
          "execution_count": 55
        }
      ]
    },
    {
      "cell_type": "code",
      "metadata": {
        "id": "RDJLjryzSLU8",
        "colab_type": "code",
        "colab": {}
      },
      "source": [
        "del ll[1]"
      ],
      "execution_count": 0,
      "outputs": []
    },
    {
      "cell_type": "code",
      "metadata": {
        "id": "o9RNij1TSMtb",
        "colab_type": "code",
        "outputId": "edab517f-293e-4659-e81e-276b6a6b1c57",
        "colab": {
          "base_uri": "https://localhost:8080/",
          "height": 34
        }
      },
      "source": [
        "ll"
      ],
      "execution_count": 57,
      "outputs": [
        {
          "output_type": "execute_result",
          "data": {
            "text/plain": [
              "[10, 2, 4, 5, 6, 7, 40, 10, 100]"
            ]
          },
          "metadata": {
            "tags": []
          },
          "execution_count": 57
        }
      ]
    },
    {
      "cell_type": "code",
      "metadata": {
        "id": "F-Q4_JQ-SNgv",
        "colab_type": "code",
        "colab": {}
      },
      "source": [
        "ll.reverse()"
      ],
      "execution_count": 0,
      "outputs": []
    },
    {
      "cell_type": "code",
      "metadata": {
        "id": "J--RrCO9SPid",
        "colab_type": "code",
        "outputId": "2010b0ee-6a00-420a-cb3c-049d22559815",
        "colab": {
          "base_uri": "https://localhost:8080/",
          "height": 34
        }
      },
      "source": [
        "ll"
      ],
      "execution_count": 59,
      "outputs": [
        {
          "output_type": "execute_result",
          "data": {
            "text/plain": [
              "[100, 10, 40, 7, 6, 5, 4, 2, 10]"
            ]
          },
          "metadata": {
            "tags": []
          },
          "execution_count": 59
        }
      ]
    },
    {
      "cell_type": "code",
      "metadata": {
        "id": "kP2YXB88SP71",
        "colab_type": "code",
        "outputId": "4497a315-f6ea-4629-b9dc-68fc69f9f91c",
        "colab": {
          "base_uri": "https://localhost:8080/",
          "height": 34
        }
      },
      "source": [
        "ll.index(10)"
      ],
      "execution_count": 60,
      "outputs": [
        {
          "output_type": "execute_result",
          "data": {
            "text/plain": [
              "1"
            ]
          },
          "metadata": {
            "tags": []
          },
          "execution_count": 60
        }
      ]
    },
    {
      "cell_type": "code",
      "metadata": {
        "id": "FIeuNUqESUoM",
        "colab_type": "code",
        "colab": {}
      },
      "source": [
        "ll.remove(100)"
      ],
      "execution_count": 0,
      "outputs": []
    },
    {
      "cell_type": "code",
      "metadata": {
        "id": "u_hja0ZgSXgC",
        "colab_type": "code",
        "outputId": "9a0bb495-608d-4dad-b14a-0f98f8a8f269",
        "colab": {
          "base_uri": "https://localhost:8080/",
          "height": 34
        }
      },
      "source": [
        "ll"
      ],
      "execution_count": 62,
      "outputs": [
        {
          "output_type": "execute_result",
          "data": {
            "text/plain": [
              "[10, 40, 7, 6, 5, 4, 2, 10]"
            ]
          },
          "metadata": {
            "tags": []
          },
          "execution_count": 62
        }
      ]
    },
    {
      "cell_type": "code",
      "metadata": {
        "id": "MFZUgBAlSX57",
        "colab_type": "code",
        "outputId": "f964a3a4-80c3-4164-c247-1cd1876f4537",
        "colab": {
          "base_uri": "https://localhost:8080/",
          "height": 34
        }
      },
      "source": [
        "set(ll)"
      ],
      "execution_count": 63,
      "outputs": [
        {
          "output_type": "execute_result",
          "data": {
            "text/plain": [
              "{2, 4, 5, 6, 7, 10, 40}"
            ]
          },
          "metadata": {
            "tags": []
          },
          "execution_count": 63
        }
      ]
    },
    {
      "cell_type": "code",
      "metadata": {
        "id": "vlZcBX6DSYvd",
        "colab_type": "code",
        "colab": {}
      },
      "source": [
        "t = ll.pop()"
      ],
      "execution_count": 0,
      "outputs": []
    },
    {
      "cell_type": "code",
      "metadata": {
        "id": "VnZH081QSi7Q",
        "colab_type": "code",
        "outputId": "8b626ce9-d0bf-4bb5-d9cc-7e3ab6704475",
        "colab": {
          "base_uri": "https://localhost:8080/",
          "height": 34
        }
      },
      "source": [
        "ll"
      ],
      "execution_count": 67,
      "outputs": [
        {
          "output_type": "execute_result",
          "data": {
            "text/plain": [
              "[10, 40, 7, 6, 5, 4]"
            ]
          },
          "metadata": {
            "tags": []
          },
          "execution_count": 67
        }
      ]
    },
    {
      "cell_type": "code",
      "metadata": {
        "id": "kdGlb9GMSjWe",
        "colab_type": "code",
        "outputId": "c286375c-0f63-4d5c-a92f-718b6768ac6f",
        "colab": {
          "base_uri": "https://localhost:8080/",
          "height": 34
        }
      },
      "source": [
        "t"
      ],
      "execution_count": 0,
      "outputs": [
        {
          "output_type": "execute_result",
          "data": {
            "text/plain": [
              "10"
            ]
          },
          "metadata": {
            "tags": []
          },
          "execution_count": 74
        }
      ]
    },
    {
      "cell_type": "code",
      "metadata": {
        "id": "Ip5SHCMOSk2f",
        "colab_type": "code",
        "colab": {}
      },
      "source": [
        "u =sorted(ll)"
      ],
      "execution_count": 0,
      "outputs": []
    },
    {
      "cell_type": "code",
      "metadata": {
        "id": "Hb5p4ApWS0W5",
        "colab_type": "code",
        "outputId": "8a22bf4e-579d-4bbb-c180-3c6ec33b7251",
        "colab": {
          "base_uri": "https://localhost:8080/",
          "height": 34
        }
      },
      "source": [
        "u"
      ],
      "execution_count": 69,
      "outputs": [
        {
          "output_type": "execute_result",
          "data": {
            "text/plain": [
              "[4, 5, 6, 7, 10, 40]"
            ]
          },
          "metadata": {
            "tags": []
          },
          "execution_count": 69
        }
      ]
    },
    {
      "cell_type": "code",
      "metadata": {
        "id": "vldgZJQFS1UG",
        "colab_type": "code",
        "colab": {}
      },
      "source": [
        "ll.sort()"
      ],
      "execution_count": 0,
      "outputs": []
    },
    {
      "cell_type": "code",
      "metadata": {
        "id": "0KqBgnGlS3SW",
        "colab_type": "code",
        "outputId": "828e435a-fa12-47e7-c3c1-f179bd7cc8c5",
        "colab": {
          "base_uri": "https://localhost:8080/",
          "height": 34
        }
      },
      "source": [
        "ll"
      ],
      "execution_count": 0,
      "outputs": [
        {
          "output_type": "execute_result",
          "data": {
            "text/plain": [
              "[2, 2, 4, 5, 6, 10, 40]"
            ]
          },
          "metadata": {
            "tags": []
          },
          "execution_count": 78
        }
      ]
    },
    {
      "cell_type": "code",
      "metadata": {
        "id": "ikT4ZSWXS34_",
        "colab_type": "code",
        "outputId": "d6304ce0-87e3-4a7d-bd8a-a357ae78805b",
        "colab": {
          "base_uri": "https://localhost:8080/",
          "height": 34
        }
      },
      "source": [
        "list(range(1,20,2))[::2]"
      ],
      "execution_count": 0,
      "outputs": [
        {
          "output_type": "execute_result",
          "data": {
            "text/plain": [
              "[1, 5, 9, 13, 17]"
            ]
          },
          "metadata": {
            "tags": []
          },
          "execution_count": 87
        }
      ]
    },
    {
      "cell_type": "code",
      "metadata": {
        "id": "lJhU1w95TG8d",
        "colab_type": "code",
        "outputId": "5c1d7e1d-b1a1-49cb-dc63-55bc28319b00",
        "colab": {
          "base_uri": "https://localhost:8080/",
          "height": 34
        }
      },
      "source": [
        "list(range(1,20,2))"
      ],
      "execution_count": 0,
      "outputs": [
        {
          "output_type": "execute_result",
          "data": {
            "text/plain": [
              "[1, 3, 5, 7, 9, 11, 13, 15, 17, 19]"
            ]
          },
          "metadata": {
            "tags": []
          },
          "execution_count": 88
        }
      ]
    },
    {
      "cell_type": "code",
      "metadata": {
        "id": "yehevrHBTQkl",
        "colab_type": "code",
        "outputId": "c71429bd-7a33-4490-a40e-c6edee44e714",
        "colab": {
          "base_uri": "https://localhost:8080/",
          "height": 34
        }
      },
      "source": [
        "sum(ll)"
      ],
      "execution_count": 0,
      "outputs": [
        {
          "output_type": "execute_result",
          "data": {
            "text/plain": [
              "69"
            ]
          },
          "metadata": {
            "tags": []
          },
          "execution_count": 89
        }
      ]
    },
    {
      "cell_type": "code",
      "metadata": {
        "id": "AeKJ4o3aTwku",
        "colab_type": "code",
        "outputId": "c9bb18d2-b969-46ef-a10e-9ce773df0e52",
        "colab": {
          "base_uri": "https://localhost:8080/",
          "height": 34
        }
      },
      "source": [
        "max(ll)"
      ],
      "execution_count": 0,
      "outputs": [
        {
          "output_type": "execute_result",
          "data": {
            "text/plain": [
              "40"
            ]
          },
          "metadata": {
            "tags": []
          },
          "execution_count": 90
        }
      ]
    },
    {
      "cell_type": "code",
      "metadata": {
        "id": "3TGNkHeKTyvB",
        "colab_type": "code",
        "outputId": "a8f655fc-4486-4581-c571-ed9d70b253bf",
        "colab": {
          "base_uri": "https://localhost:8080/",
          "height": 34
        }
      },
      "source": [
        "sum([i**2 for i in ll])"
      ],
      "execution_count": 0,
      "outputs": [
        {
          "output_type": "execute_result",
          "data": {
            "text/plain": [
              "1785"
            ]
          },
          "metadata": {
            "tags": []
          },
          "execution_count": 92
        }
      ]
    },
    {
      "cell_type": "code",
      "metadata": {
        "id": "9vLK-71FT5nX",
        "colab_type": "code",
        "colab": {}
      },
      "source": [
        "dd = {'a':10}"
      ],
      "execution_count": 0,
      "outputs": []
    },
    {
      "cell_type": "code",
      "metadata": {
        "id": "w3Qd70o5Ulg-",
        "colab_type": "code",
        "colab": {
          "base_uri": "https://localhost:8080/",
          "height": 51
        },
        "outputId": "0a3f48f6-93e9-474c-aec4-13bcfd339529"
      },
      "source": [
        "for i in ['a', 'b']:\n",
        "  w= dd.get(i,'non xistaned')\n",
        "  print(w)\n"
      ],
      "execution_count": 83,
      "outputs": [
        {
          "output_type": "stream",
          "text": [
            "10\n",
            "non xistaned\n"
          ],
          "name": "stdout"
        }
      ]
    },
    {
      "cell_type": "code",
      "metadata": {
        "id": "gqq0GpSlUpXD",
        "colab_type": "code",
        "outputId": "b259c2ae-b81f-48cb-f51c-475ec91484f4",
        "colab": {
          "base_uri": "https://localhost:8080/",
          "height": 34
        }
      },
      "source": [
        "print(w)"
      ],
      "execution_count": 79,
      "outputs": [
        {
          "output_type": "stream",
          "text": [
            "10\n"
          ],
          "name": "stdout"
        }
      ]
    },
    {
      "cell_type": "code",
      "metadata": {
        "id": "zMKS12MwUsAU",
        "colab_type": "code",
        "colab": {}
      },
      "source": [
        "# keys are sorted!!!\n",
        "from collections import OrderedDict"
      ],
      "execution_count": 0,
      "outputs": []
    },
    {
      "cell_type": "code",
      "metadata": {
        "id": "RlaE2ug4Wrrq",
        "colab_type": "code",
        "colab": {}
      },
      "source": [
        "oo = OrderedDict()"
      ],
      "execution_count": 0,
      "outputs": []
    },
    {
      "cell_type": "code",
      "metadata": {
        "id": "KgKji7RHWwgv",
        "colab_type": "code",
        "colab": {}
      },
      "source": [
        "oo['t'] = 10\n",
        "oo['a'] = 0\n",
        "oo['z'] = 100\n",
        "\n"
      ],
      "execution_count": 0,
      "outputs": []
    },
    {
      "cell_type": "code",
      "metadata": {
        "id": "ljKWgthMW2Cx",
        "colab_type": "code",
        "outputId": "092c41d9-17a3-4e03-ed68-6222fd0a5936",
        "colab": {
          "base_uri": "https://localhost:8080/",
          "height": 34
        }
      },
      "source": [
        "oo"
      ],
      "execution_count": 89,
      "outputs": [
        {
          "output_type": "execute_result",
          "data": {
            "text/plain": [
              "OrderedDict([('a', 0), ('z', 100), ('t', 10)])"
            ]
          },
          "metadata": {
            "tags": []
          },
          "execution_count": 89
        }
      ]
    },
    {
      "cell_type": "code",
      "metadata": {
        "id": "9yakhP6uW2aW",
        "colab_type": "code",
        "outputId": "03707ee4-7dab-44c3-e7d4-ddaf778305a9",
        "colab": {
          "base_uri": "https://localhost:8080/",
          "height": 68
        }
      },
      "source": [
        "for i,j in oo.items():\n",
        "  print(i +  ' : ' + str(j))"
      ],
      "execution_count": 93,
      "outputs": [
        {
          "output_type": "stream",
          "text": [
            "t : 10\n",
            "a : 0\n",
            "z : 100\n"
          ],
          "name": "stdout"
        }
      ]
    },
    {
      "cell_type": "code",
      "metadata": {
        "id": "Tf7HrLHzXT5f",
        "colab_type": "code",
        "outputId": "778999a9-9880-46e1-d0b1-4a03251b7610",
        "colab": {
          "base_uri": "https://localhost:8080/",
          "height": 34
        }
      },
      "source": [
        "ls"
      ],
      "execution_count": 94,
      "outputs": [
        {
          "output_type": "stream",
          "text": [
            "\u001b[0m\u001b[01;34msample_data\u001b[0m/\n"
          ],
          "name": "stdout"
        }
      ]
    },
    {
      "cell_type": "code",
      "metadata": {
        "id": "1vYLCuCoeKol",
        "colab_type": "code",
        "colab": {}
      },
      "source": [
        "mkdir tt"
      ],
      "execution_count": 0,
      "outputs": []
    },
    {
      "cell_type": "code",
      "metadata": {
        "id": "nlXhtgTteMu8",
        "colab_type": "code",
        "outputId": "a89bb1ca-621e-4377-c849-34e0da7f7f00",
        "colab": {
          "base_uri": "https://localhost:8080/",
          "height": 34
        }
      },
      "source": [
        "ls"
      ],
      "execution_count": 96,
      "outputs": [
        {
          "output_type": "stream",
          "text": [
            "\u001b[0m\u001b[01;34msample_data\u001b[0m/  \u001b[01;34mtt\u001b[0m/\n"
          ],
          "name": "stdout"
        }
      ]
    },
    {
      "cell_type": "code",
      "metadata": {
        "id": "-Ohuz35KeNm3",
        "colab_type": "code",
        "colab": {}
      },
      "source": [
        "with open('test.txt', 'w') as f:\n",
        "  for t in range(5):\n",
        "    f.write(str(t) + '\\n')"
      ],
      "execution_count": 0,
      "outputs": []
    },
    {
      "cell_type": "code",
      "metadata": {
        "id": "HOJnshzveZxp",
        "colab_type": "code",
        "outputId": "d18ebbca-569e-44ae-88e3-70d22b2db6d2",
        "colab": {
          "base_uri": "https://localhost:8080/",
          "height": 34
        }
      },
      "source": [
        "ls"
      ],
      "execution_count": 98,
      "outputs": [
        {
          "output_type": "stream",
          "text": [
            "\u001b[0m\u001b[01;34msample_data\u001b[0m/  test.txt  \u001b[01;34mtt\u001b[0m/\n"
          ],
          "name": "stdout"
        }
      ]
    },
    {
      "cell_type": "code",
      "metadata": {
        "id": "j4Z0Ag-oeagu",
        "colab_type": "code",
        "outputId": "392eda94-726a-4aae-b09b-8a94455afc08",
        "colab": {
          "base_uri": "https://localhost:8080/",
          "height": 102
        }
      },
      "source": [
        "# !less test.txt\n",
        "cat test.txt"
      ],
      "execution_count": 104,
      "outputs": [
        {
          "output_type": "stream",
          "text": [
            "0\n",
            "1\n",
            "2\n",
            "3\n",
            "4\n"
          ],
          "name": "stdout"
        }
      ]
    },
    {
      "cell_type": "code",
      "metadata": {
        "id": "S6OJr2dXeeRp",
        "colab_type": "code",
        "outputId": "8e5f20a0-f50d-4850-b37f-634d86f882f7",
        "colab": {
          "base_uri": "https://localhost:8080/",
          "height": 102
        }
      },
      "source": [
        "with open('test.txt', 'r') as f:\n",
        "  for line in f:\n",
        "    # print(line)\n",
        "    print(line.rstrip())"
      ],
      "execution_count": 107,
      "outputs": [
        {
          "output_type": "stream",
          "text": [
            "0\n",
            "1\n",
            "2\n",
            "3\n",
            "4\n"
          ],
          "name": "stdout"
        }
      ]
    },
    {
      "cell_type": "code",
      "metadata": {
        "id": "3_uQMKsseq0L",
        "colab_type": "code",
        "outputId": "5b4c9750-74c4-474a-a288-3c0ab86408f4",
        "colab": {
          "base_uri": "https://localhost:8080/",
          "height": 34
        }
      },
      "source": [
        "with open('test.txt', 'r') as f:\n",
        "    print(f.readlines())"
      ],
      "execution_count": 108,
      "outputs": [
        {
          "output_type": "stream",
          "text": [
            "['0\\n', '1\\n', '2\\n', '3\\n', '4\\n']\n"
          ],
          "name": "stdout"
        }
      ]
    },
    {
      "cell_type": "code",
      "metadata": {
        "id": "gWi0gqsXgN8V",
        "colab_type": "code",
        "colab": {}
      },
      "source": [
        "import numpy as np\n"
      ],
      "execution_count": 0,
      "outputs": []
    },
    {
      "cell_type": "code",
      "metadata": {
        "id": "BtE8eLbKjaw1",
        "colab_type": "code",
        "outputId": "81683ee8-a9ae-455e-b2e6-0d6c3df8858d",
        "colab": {
          "base_uri": "https://localhost:8080/",
          "height": 51
        }
      },
      "source": [
        "np.full((2,3),4)"
      ],
      "execution_count": 110,
      "outputs": [
        {
          "output_type": "execute_result",
          "data": {
            "text/plain": [
              "array([[4, 4, 4],\n",
              "       [4, 4, 4]])"
            ]
          },
          "metadata": {
            "tags": []
          },
          "execution_count": 110
        }
      ]
    },
    {
      "cell_type": "code",
      "metadata": {
        "id": "-ycwIb6ZjcpC",
        "colab_type": "code",
        "colab": {
          "base_uri": "https://localhost:8080/",
          "height": 68
        },
        "outputId": "fa3bc94c-fbdc-4123-f8ae-efdd2804d943"
      },
      "source": [
        "a  =np.random.random((3,3))\n",
        "print(a)"
      ],
      "execution_count": 166,
      "outputs": [
        {
          "output_type": "stream",
          "text": [
            "[[0.13638458 0.0278735  0.35580704]\n",
            " [0.21234509 0.5577228  0.49294955]\n",
            " [0.14663724 0.1143837  0.73346863]]\n"
          ],
          "name": "stdout"
        }
      ]
    },
    {
      "cell_type": "code",
      "metadata": {
        "id": "mQ-enPL0jllm",
        "colab_type": "code",
        "outputId": "1ba213c8-55f4-4e9c-d408-6ce28c051ea0",
        "colab": {
          "base_uri": "https://localhost:8080/",
          "height": 68
        }
      },
      "source": [
        "np.ones_like(a)"
      ],
      "execution_count": 115,
      "outputs": [
        {
          "output_type": "execute_result",
          "data": {
            "text/plain": [
              "array([[1., 1., 1.],\n",
              "       [1., 1., 1.],\n",
              "       [1., 1., 1.]])"
            ]
          },
          "metadata": {
            "tags": []
          },
          "execution_count": 115
        }
      ]
    },
    {
      "cell_type": "code",
      "metadata": {
        "id": "qxJ5tT3lj3QF",
        "colab_type": "code",
        "outputId": "08c3ff54-6ade-4350-d768-8e5e47cf9555",
        "colab": {
          "base_uri": "https://localhost:8080/",
          "height": 68
        }
      },
      "source": [
        "np.empty((3,3))"
      ],
      "execution_count": 162,
      "outputs": [
        {
          "output_type": "execute_result",
          "data": {
            "text/plain": [
              "array([[0.2647706 , 0.17195851, 0.06987201],\n",
              "       [0.55394499, 0.5118955 , 0.32389361],\n",
              "       [0.93830023, 0.71947796, 0.83342978]])"
            ]
          },
          "metadata": {
            "tags": []
          },
          "execution_count": 162
        }
      ]
    },
    {
      "cell_type": "code",
      "metadata": {
        "id": "x6IQgfAej7T_",
        "colab_type": "code",
        "outputId": "97b5ba00-43ba-4a6d-9abd-36ec2f8d8409",
        "colab": {
          "base_uri": "https://localhost:8080/",
          "height": 34
        }
      },
      "source": [
        "a.shape"
      ],
      "execution_count": 118,
      "outputs": [
        {
          "output_type": "execute_result",
          "data": {
            "text/plain": [
              "(3, 3)"
            ]
          },
          "metadata": {
            "tags": []
          },
          "execution_count": 118
        }
      ]
    },
    {
      "cell_type": "code",
      "metadata": {
        "id": "Rp5dICk0QcYe",
        "colab_type": "code",
        "colab": {
          "base_uri": "https://localhost:8080/",
          "height": 34
        },
        "outputId": "05502182-47d5-4b75-8399-f7ee583a3b96"
      },
      "source": [
        "a.ndim"
      ],
      "execution_count": 122,
      "outputs": [
        {
          "output_type": "execute_result",
          "data": {
            "text/plain": [
              "2"
            ]
          },
          "metadata": {
            "tags": []
          },
          "execution_count": 122
        }
      ]
    },
    {
      "cell_type": "code",
      "metadata": {
        "id": "8WzhrsLZQgEX",
        "colab_type": "code",
        "colab": {}
      },
      "source": [
        "# a.numel()"
      ],
      "execution_count": 0,
      "outputs": []
    },
    {
      "cell_type": "code",
      "metadata": {
        "id": "mxj7hVj1lKc8",
        "colab_type": "code",
        "outputId": "fa159fc0-5499-4611-c0d3-a2630be85317",
        "colab": {
          "base_uri": "https://localhost:8080/",
          "height": 34
        }
      },
      "source": [
        "np.size(a)"
      ],
      "execution_count": 126,
      "outputs": [
        {
          "output_type": "execute_result",
          "data": {
            "text/plain": [
              "9"
            ]
          },
          "metadata": {
            "tags": []
          },
          "execution_count": 126
        }
      ]
    },
    {
      "cell_type": "code",
      "metadata": {
        "id": "c7gF3jqIlMTA",
        "colab_type": "code",
        "outputId": "92e87fbe-6307-4bdc-91f1-de31345e36ce",
        "colab": {
          "base_uri": "https://localhost:8080/",
          "height": 34
        }
      },
      "source": [
        "len(a)"
      ],
      "execution_count": 127,
      "outputs": [
        {
          "output_type": "execute_result",
          "data": {
            "text/plain": [
              "3"
            ]
          },
          "metadata": {
            "tags": []
          },
          "execution_count": 127
        }
      ]
    },
    {
      "cell_type": "code",
      "metadata": {
        "id": "xXYStIxFlOpT",
        "colab_type": "code",
        "outputId": "512444a2-08f8-441f-a3a6-e421573447cc",
        "colab": {
          "base_uri": "https://localhost:8080/",
          "height": 34
        }
      },
      "source": [
        "a.dtype"
      ],
      "execution_count": 130,
      "outputs": [
        {
          "output_type": "execute_result",
          "data": {
            "text/plain": [
              "dtype('float64')"
            ]
          },
          "metadata": {
            "tags": []
          },
          "execution_count": 130
        }
      ]
    },
    {
      "cell_type": "code",
      "metadata": {
        "id": "lpmmi_hUlQ7Y",
        "colab_type": "code",
        "outputId": "2001a0e3-b146-43fe-9ae8-2bf8779b24c5",
        "colab": {
          "base_uri": "https://localhost:8080/",
          "height": 34
        }
      },
      "source": [
        "type(a)"
      ],
      "execution_count": 131,
      "outputs": [
        {
          "output_type": "execute_result",
          "data": {
            "text/plain": [
              "numpy.ndarray"
            ]
          },
          "metadata": {
            "tags": []
          },
          "execution_count": 131
        }
      ]
    },
    {
      "cell_type": "code",
      "metadata": {
        "id": "RUY0rAJ6lR6w",
        "colab_type": "code",
        "outputId": "076ef38c-ca21-421b-c99d-83e67f9d5f10",
        "colab": {
          "base_uri": "https://localhost:8080/",
          "height": 34
        }
      },
      "source": [
        "a.size"
      ],
      "execution_count": 134,
      "outputs": [
        {
          "output_type": "execute_result",
          "data": {
            "text/plain": [
              "9"
            ]
          },
          "metadata": {
            "tags": []
          },
          "execution_count": 134
        }
      ]
    },
    {
      "cell_type": "code",
      "metadata": {
        "id": "NBvHU1MHlZaR",
        "colab_type": "code",
        "outputId": "53d55bad-8b99-4373-e7cf-796312c2f96b",
        "colab": {
          "base_uri": "https://localhost:8080/",
          "height": 68
        }
      },
      "source": [
        "a.tolist()"
      ],
      "execution_count": 135,
      "outputs": [
        {
          "output_type": "execute_result",
          "data": {
            "text/plain": [
              "[[0.2647706029520164, 0.1719585143011163, 0.06987200524699222],\n",
              " [0.5539449866635895, 0.5118954986530054, 0.32389360780299004],\n",
              " [0.9383002307198233, 0.7194779636545359, 0.8334297831369224]]"
            ]
          },
          "metadata": {
            "tags": []
          },
          "execution_count": 135
        }
      ]
    },
    {
      "cell_type": "code",
      "metadata": {
        "id": "6L-F4VC_lgO0",
        "colab_type": "code",
        "outputId": "f9b21425-0802-4a75-cf85-af3a490de8ca",
        "colab": {
          "base_uri": "https://localhost:8080/",
          "height": 34
        }
      },
      "source": [
        "print(np.info(len))"
      ],
      "execution_count": 141,
      "outputs": [
        {
          "output_type": "stream",
          "text": [
            "None\n"
          ],
          "name": "stdout"
        }
      ]
    },
    {
      "cell_type": "code",
      "metadata": {
        "id": "zD8xVb9hln8E",
        "colab_type": "code",
        "outputId": "84ba9a50-e4bf-4167-9895-2f33e156208c",
        "colab": {
          "base_uri": "https://localhost:8080/",
          "height": 34
        }
      },
      "source": [
        "np.array([1,2,3]) * np.array([4,5,6])"
      ],
      "execution_count": 0,
      "outputs": [
        {
          "output_type": "execute_result",
          "data": {
            "text/plain": [
              "array([ 4, 10, 18])"
            ]
          },
          "metadata": {
            "tags": []
          },
          "execution_count": 160
        }
      ]
    },
    {
      "cell_type": "code",
      "metadata": {
        "id": "PKOl2FMnmBDB",
        "colab_type": "code",
        "outputId": "8a50ad45-9ca0-4caf-b5ea-314d5ba5dd5e",
        "colab": {
          "base_uri": "https://localhost:8080/",
          "height": 34
        }
      },
      "source": [
        "np.array([1,2,3]).dot(np.array([4,5,6]))"
      ],
      "execution_count": 142,
      "outputs": [
        {
          "output_type": "execute_result",
          "data": {
            "text/plain": [
              "32"
            ]
          },
          "metadata": {
            "tags": []
          },
          "execution_count": 142
        }
      ]
    },
    {
      "cell_type": "code",
      "metadata": {
        "id": "l74A-jVpmD9h",
        "colab_type": "code",
        "colab": {}
      },
      "source": [
        "a.shape\n",
        "a = a.reshape(-1,9)"
      ],
      "execution_count": 0,
      "outputs": []
    },
    {
      "cell_type": "code",
      "metadata": {
        "id": "bfdSv1a3m6WV",
        "colab_type": "code",
        "outputId": "ab470a7d-20fd-4657-d099-be82f17dd549",
        "colab": {
          "base_uri": "https://localhost:8080/",
          "height": 34
        }
      },
      "source": [
        "a.shape"
      ],
      "execution_count": 165,
      "outputs": [
        {
          "output_type": "execute_result",
          "data": {
            "text/plain": [
              "(1, 9)"
            ]
          },
          "metadata": {
            "tags": []
          },
          "execution_count": 165
        }
      ]
    },
    {
      "cell_type": "code",
      "metadata": {
        "id": "wcu0WEZynzYV",
        "colab_type": "code",
        "colab": {}
      },
      "source": [
        "a.sort(axis=1)"
      ],
      "execution_count": 0,
      "outputs": []
    },
    {
      "cell_type": "code",
      "metadata": {
        "id": "RrvR9oO9nRoA",
        "colab_type": "code",
        "outputId": "7a2e1ce6-2fd9-493c-9856-062638a1945a",
        "colab": {
          "base_uri": "https://localhost:8080/",
          "height": 51
        }
      },
      "source": [
        "a\n",
        "# help(a.view)"
      ],
      "execution_count": 164,
      "outputs": [
        {
          "output_type": "execute_result",
          "data": {
            "text/plain": [
              "array([[0.06987201, 0.17195851, 0.2647706 , 0.32389361, 0.5118955 ,\n",
              "        0.55394499, 0.71947796, 0.83342978, 0.93830023]])"
            ]
          },
          "metadata": {
            "tags": []
          },
          "execution_count": 164
        }
      ]
    },
    {
      "cell_type": "code",
      "metadata": {
        "id": "_5d4FjaenTg-",
        "colab_type": "code",
        "outputId": "7074ef66-c7cb-4ddc-e6e4-daeec0caa06a",
        "colab": {
          "base_uri": "https://localhost:8080/",
          "height": 68
        }
      },
      "source": [
        "a.T"
      ],
      "execution_count": 0,
      "outputs": [
        {
          "output_type": "execute_result",
          "data": {
            "text/plain": [
              "array([[0.1955378 , 0.5452641 , 0.65568935],\n",
              "       [0.23110752, 0.55687009, 0.86269038],\n",
              "       [0.27229903, 0.70755142, 0.96119854]])"
            ]
          },
          "metadata": {
            "tags": []
          },
          "execution_count": 180
        }
      ]
    },
    {
      "cell_type": "code",
      "metadata": {
        "id": "czsX6LlZnxqC",
        "colab_type": "code",
        "outputId": "a6b43131-7c6e-4dfc-aa84-62c9396246d7",
        "colab": {
          "base_uri": "https://localhost:8080/",
          "height": 68
        }
      },
      "source": [
        "a.transpose()"
      ],
      "execution_count": 0,
      "outputs": [
        {
          "output_type": "execute_result",
          "data": {
            "text/plain": [
              "array([[0.1955378 , 0.5452641 , 0.65568935],\n",
              "       [0.23110752, 0.55687009, 0.86269038],\n",
              "       [0.27229903, 0.70755142, 0.96119854]])"
            ]
          },
          "metadata": {
            "tags": []
          },
          "execution_count": 181
        }
      ]
    },
    {
      "cell_type": "code",
      "metadata": {
        "id": "pNq4fgpHpZTS",
        "colab_type": "code",
        "colab": {}
      },
      "source": [
        "import operator"
      ],
      "execution_count": 0,
      "outputs": []
    },
    {
      "cell_type": "code",
      "metadata": {
        "id": "-sTQL2FquSK1",
        "colab_type": "code",
        "colab": {}
      },
      "source": [
        "s1 = \"geeksfor\"\n",
        "s2 = \"geeks\""
      ],
      "execution_count": 0,
      "outputs": []
    },
    {
      "cell_type": "code",
      "metadata": {
        "id": "3Kf05eR1uVHa",
        "colab_type": "code",
        "outputId": "59900f7e-0c83-4401-a0b2-49469db326d6",
        "colab": {
          "base_uri": "https://localhost:8080/",
          "height": 34
        }
      },
      "source": [
        "print (operator.concat(s1,s2)) "
      ],
      "execution_count": 173,
      "outputs": [
        {
          "output_type": "stream",
          "text": [
            "geeksforgeeks\n"
          ],
          "name": "stdout"
        }
      ]
    },
    {
      "cell_type": "code",
      "metadata": {
        "id": "-vVyBvDNSWwb",
        "colab_type": "code",
        "colab": {
          "base_uri": "https://localhost:8080/",
          "height": 34
        },
        "outputId": "c285b86d-45b3-4f90-c4f0-7362c35794f8"
      },
      "source": [
        "' '.join([s1,s2])"
      ],
      "execution_count": 175,
      "outputs": [
        {
          "output_type": "execute_result",
          "data": {
            "text/plain": [
              "'geeksfor geeks'"
            ]
          },
          "metadata": {
            "tags": []
          },
          "execution_count": 175
        }
      ]
    },
    {
      "cell_type": "code",
      "metadata": {
        "id": "xHIiyXW8uWa2",
        "colab_type": "code",
        "outputId": "0a057045-418a-4ab5-d960-395bebabda9b",
        "colab": {
          "base_uri": "https://localhost:8080/",
          "height": 34
        }
      },
      "source": [
        "if (operator.contains(s1,s2)): \n",
        "  print(\"geeksfor contains geeks\") \n",
        "else: \n",
        "  print(\"geeksfor does not contain geeks\") \n"
      ],
      "execution_count": 176,
      "outputs": [
        {
          "output_type": "stream",
          "text": [
            "geeksfor contains geeks\n"
          ],
          "name": "stdout"
        }
      ]
    },
    {
      "cell_type": "code",
      "metadata": {
        "id": "fJ-SnUHOuY3H",
        "colab_type": "code",
        "outputId": "f3da6851-df25-4aae-b9db-25d8ea0823a2",
        "colab": {
          "base_uri": "https://localhost:8080/",
          "height": 34
        }
      },
      "source": [
        "ss = 'aliborji'\n",
        "ss[0]\n",
        "ss[~0]"
      ],
      "execution_count": 177,
      "outputs": [
        {
          "output_type": "execute_result",
          "data": {
            "text/plain": [
              "'i'"
            ]
          },
          "metadata": {
            "tags": []
          },
          "execution_count": 177
        }
      ]
    },
    {
      "cell_type": "code",
      "metadata": {
        "id": "6y-t_bJ9_V3e",
        "colab_type": "code",
        "outputId": "5944fca8-1b41-447e-f850-4adbfbaec958",
        "colab": {
          "base_uri": "https://localhost:8080/",
          "height": 34
        }
      },
      "source": [
        "ss[-1]"
      ],
      "execution_count": 0,
      "outputs": [
        {
          "output_type": "execute_result",
          "data": {
            "text/plain": [
              "'i'"
            ]
          },
          "metadata": {
            "tags": []
          },
          "execution_count": 193
        }
      ]
    },
    {
      "cell_type": "code",
      "metadata": {
        "id": "l-vTQM9l_X47",
        "colab_type": "code",
        "outputId": "10d75dd9-3c70-4de7-c00f-1dd80b2cae3f",
        "colab": {
          "base_uri": "https://localhost:8080/",
          "height": 34
        }
      },
      "source": [
        "# sorting a dictionary\n",
        "prices = {'Apple': 1.99, 'Banana': 0.99, 'Orange': 1.49, 'Cantaloupe': 3.99, 'Grapes': 0.39}\n",
        "print(sorted(prices.items(), key = lambda x : x[1]))"
      ],
      "execution_count": 186,
      "outputs": [
        {
          "output_type": "stream",
          "text": [
            "[('Grapes', 0.39), ('Banana', 0.99), ('Orange', 1.49), ('Apple', 1.99), ('Cantaloupe', 3.99)]\n"
          ],
          "name": "stdout"
        }
      ]
    },
    {
      "cell_type": "code",
      "metadata": {
        "id": "49bK0XkeY_jP",
        "colab_type": "code",
        "colab": {
          "base_uri": "https://localhost:8080/",
          "height": 102
        },
        "outputId": "0c26fa20-fc56-42de-8d82-12693c5f5548"
      },
      "source": [
        "prices"
      ],
      "execution_count": 187,
      "outputs": [
        {
          "output_type": "execute_result",
          "data": {
            "text/plain": [
              "{'Apple': 1.99,\n",
              " 'Banana': 0.99,\n",
              " 'Cantaloupe': 3.99,\n",
              " 'Grapes': 0.39,\n",
              " 'Orange': 1.49}"
            ]
          },
          "metadata": {
            "tags": []
          },
          "execution_count": 187
        }
      ]
    },
    {
      "cell_type": "code",
      "metadata": {
        "id": "UfOJeHstZGDp",
        "colab_type": "code",
        "colab": {}
      },
      "source": [
        "prices = OrderedDict(sorted(prices.items(), key = lambda x : x[1]))"
      ],
      "execution_count": 0,
      "outputs": []
    },
    {
      "cell_type": "code",
      "metadata": {
        "id": "OMNcKnCAZGmI",
        "colab_type": "code",
        "colab": {
          "base_uri": "https://localhost:8080/",
          "height": 102
        },
        "outputId": "84bae31c-aff4-4995-c25b-a88842c9ba0c"
      },
      "source": [
        "dict(prices)"
      ],
      "execution_count": 194,
      "outputs": [
        {
          "output_type": "execute_result",
          "data": {
            "text/plain": [
              "{'Apple': 1.99,\n",
              " 'Banana': 0.99,\n",
              " 'Cantaloupe': 3.99,\n",
              " 'Grapes': 0.39,\n",
              " 'Orange': 1.49}"
            ]
          },
          "metadata": {
            "tags": []
          },
          "execution_count": 194
        }
      ]
    },
    {
      "cell_type": "code",
      "metadata": {
        "id": "DjWAoZvgBn9M",
        "colab_type": "code",
        "outputId": "0c49bd2b-2ff0-4206-d402-b546997c08ed",
        "colab": {
          "base_uri": "https://localhost:8080/",
          "height": 51
        }
      },
      "source": [
        "\n",
        "# Initializing list of dictionaries \n",
        "lis = [{ \"name\" : \"Nandini\", \"age\" : 20},  { \"name\" : \"Manjeet\", \"age\" : 20 },  { \"name\" : \"Nikhil\" , \"age\" : 19 }] \n",
        "\n",
        "# using sorted and lambda to print list sorted by age \n",
        "# print \"The list printed sorting by age: \"\n",
        "print(sorted(lis, key = lambda x: x['age']) )\n",
        "\n",
        "print (\"\\r\") "
      ],
      "execution_count": 195,
      "outputs": [
        {
          "output_type": "stream",
          "text": [
            "[{'name': 'Nikhil', 'age': 19}, {'name': 'Nandini', 'age': 20}, {'name': 'Manjeet', 'age': 20}]\n",
            "\r\n"
          ],
          "name": "stdout"
        }
      ]
    },
    {
      "cell_type": "code",
      "metadata": {
        "id": "qsXu7rECBztm",
        "colab_type": "code",
        "outputId": "c2af8549-03b7-4115-eabb-51e5dee80917",
        "colab": {
          "base_uri": "https://localhost:8080/",
          "height": 34
        }
      },
      "source": [
        "# most frequent item()\n",
        "test = [1, 2, 3, 4, 2, 2, 3, 1, 4, 4, 4,2,2,2,4,4,4] \n",
        "print(max(test, key = test.count)) \n"
      ],
      "execution_count": 205,
      "outputs": [
        {
          "output_type": "stream",
          "text": [
            "4\n"
          ],
          "name": "stdout"
        }
      ]
    },
    {
      "cell_type": "code",
      "metadata": {
        "id": "b-U0Z5WMbaLS",
        "colab_type": "code",
        "colab": {
          "base_uri": "https://localhost:8080/",
          "height": 34
        },
        "outputId": "a85c145b-bb8f-4f6e-9791-223a6d6c767f"
      },
      "source": [
        "set(test)\n",
        "print(test.count)"
      ],
      "execution_count": 201,
      "outputs": [
        {
          "output_type": "stream",
          "text": [
            "<built-in method count of list object at 0x7f04fbeaa7c8>\n"
          ],
          "name": "stdout"
        }
      ]
    },
    {
      "cell_type": "code",
      "metadata": {
        "id": "t_r8vY47Fe33",
        "colab_type": "code",
        "outputId": "37c8f318-6d76-47f5-d46c-5eb84cd0c605",
        "colab": {
          "base_uri": "https://localhost:8080/",
          "height": 34
        }
      },
      "source": [
        "(test.count)"
      ],
      "execution_count": 0,
      "outputs": [
        {
          "output_type": "execute_result",
          "data": {
            "text/plain": [
              "<function list.count>"
            ]
          },
          "metadata": {
            "tags": []
          },
          "execution_count": 204
        }
      ]
    },
    {
      "cell_type": "code",
      "metadata": {
        "id": "TvJ0H69gFhEK",
        "colab_type": "code",
        "outputId": "4577e3c7-81f9-4288-9184-77047d086614",
        "colab": {
          "base_uri": "https://localhost:8080/",
          "height": 34
        }
      },
      "source": [
        "print(max((test), key = test.count)) \n"
      ],
      "execution_count": 0,
      "outputs": [
        {
          "output_type": "stream",
          "text": [
            "2\n"
          ],
          "name": "stdout"
        }
      ]
    },
    {
      "cell_type": "code",
      "metadata": {
        "id": "BeWH0oujFzcC",
        "colab_type": "code",
        "outputId": "856da7c3-3f0c-4004-eb1e-8e8c17d71e5d",
        "colab": {
          "base_uri": "https://localhost:8080/",
          "height": 34
        }
      },
      "source": [
        "set(test)"
      ],
      "execution_count": 0,
      "outputs": [
        {
          "output_type": "execute_result",
          "data": {
            "text/plain": [
              "{1, 2, 3, 4}"
            ]
          },
          "metadata": {
            "tags": []
          },
          "execution_count": 208
        }
      ]
    },
    {
      "cell_type": "code",
      "metadata": {
        "id": "z1Jz3IkZF7xE",
        "colab_type": "code",
        "outputId": "61fa9f19-248f-465f-ff4b-38f154713a2d",
        "colab": {
          "base_uri": "https://localhost:8080/",
          "height": 34
        }
      },
      "source": [
        "from collections import Counter \n",
        "\n",
        "Counter('geek')"
      ],
      "execution_count": 206,
      "outputs": [
        {
          "output_type": "execute_result",
          "data": {
            "text/plain": [
              "Counter({'e': 2, 'g': 1, 'k': 1})"
            ]
          },
          "metadata": {
            "tags": []
          },
          "execution_count": 206
        }
      ]
    },
    {
      "cell_type": "code",
      "metadata": {
        "id": "H2eHPJlmGMrg",
        "colab_type": "code",
        "outputId": "df58ee7f-0897-45ec-ae88-4aa6571c1f1e",
        "colab": {
          "base_uri": "https://localhost:8080/",
          "height": 34
        }
      },
      "source": [
        "list(enumerate('abc',5)) \n"
      ],
      "execution_count": 210,
      "outputs": [
        {
          "output_type": "execute_result",
          "data": {
            "text/plain": [
              "[(5, 'a'), (6, 'b'), (7, 'c')]"
            ]
          },
          "metadata": {
            "tags": []
          },
          "execution_count": 210
        }
      ]
    },
    {
      "cell_type": "code",
      "metadata": {
        "id": "n-A815fOGXPF",
        "colab_type": "code",
        "outputId": "fef4aba0-8442-47ec-9b1c-e33955d47ec0",
        "colab": {
          "base_uri": "https://localhost:8080/",
          "height": 187
        }
      },
      "source": [
        "def fib(num):\n",
        "    a,b = 0,1\n",
        "    for i in range(0, num):\n",
        "        # print \"{}: {}\".format(i+1, a)  # This will cause a problem in the following loop\n",
        "        # yield \"{}: {}\".format(i+1, a)  # This will cause a problem in the following loop\n",
        "        yield f\"{i+1}: {a}\"  # This will cause a problem in the following loop\n",
        "        a, b = b, a + b\n",
        "\n",
        "for item in fib(10):\n",
        "    print(item)\n"
      ],
      "execution_count": 212,
      "outputs": [
        {
          "output_type": "stream",
          "text": [
            "1: 0\n",
            "2: 1\n",
            "3: 1\n",
            "4: 2\n",
            "5: 3\n",
            "6: 5\n",
            "7: 8\n",
            "8: 13\n",
            "9: 21\n",
            "10: 34\n"
          ],
          "name": "stdout"
        }
      ]
    },
    {
      "cell_type": "code",
      "metadata": {
        "id": "tRsc1QKTHCul",
        "colab_type": "code",
        "outputId": "fda49e53-ace2-42f0-a981-1c65873c9a8e",
        "colab": {
          "base_uri": "https://localhost:8080/",
          "height": 34
        }
      },
      "source": [
        "sorted(\"check\")\n",
        "''.join(sorted(\"check\"))"
      ],
      "execution_count": 214,
      "outputs": [
        {
          "output_type": "execute_result",
          "data": {
            "text/plain": [
              "'ccehk'"
            ]
          },
          "metadata": {
            "tags": []
          },
          "execution_count": 214
        }
      ]
    },
    {
      "cell_type": "code",
      "metadata": {
        "id": "rH5wVraMHsv-",
        "colab_type": "code",
        "outputId": "974fc8f6-e2d5-4d06-ffa5-5dfbbc75a914",
        "colab": {
          "base_uri": "https://localhost:8080/",
          "height": 187
        }
      },
      "source": [
        "class Compute:\n",
        "    def __init__(self):\n",
        "        self.last = 3\n",
        "        # return self.last\n",
        "\n",
        "\n",
        "    def __iter__(self):\n",
        "        self.last = 10\n",
        "        return self.last\n",
        "\n",
        "    def next(self):\n",
        "        rv = self.last\n",
        "        self.last += 1\n",
        "        if self.last > 100:\n",
        "            raise StopIteration()\n",
        "\n",
        "        # sleep(.5)\n",
        "        return rv\n",
        "\n",
        "# print(compute())\n",
        "\n",
        "ss = Compute()\n",
        "for val in range(10):\n",
        "    print(ss.next())\n",
        "# ss.next()\n",
        "# ss.next()\n"
      ],
      "execution_count": 238,
      "outputs": [
        {
          "output_type": "stream",
          "text": [
            "3\n",
            "4\n",
            "5\n",
            "6\n",
            "7\n",
            "8\n",
            "9\n",
            "10\n",
            "11\n",
            "12\n"
          ],
          "name": "stdout"
        }
      ]
    },
    {
      "cell_type": "code",
      "metadata": {
        "id": "1J27Xbbcc-wz",
        "colab_type": "code",
        "colab": {
          "base_uri": "https://localhost:8080/",
          "height": 34
        },
        "outputId": "fbbade4e-0e8a-4615-b7f1-065c0a1fb9e9"
      },
      "source": [
        "ss"
      ],
      "execution_count": 217,
      "outputs": [
        {
          "output_type": "execute_result",
          "data": {
            "text/plain": [
              "<__main__.Compute at 0x7f04fb6c7978>"
            ]
          },
          "metadata": {
            "tags": []
          },
          "execution_count": 217
        }
      ]
    },
    {
      "cell_type": "code",
      "metadata": {
        "id": "KDwP9HyDIJcM",
        "colab_type": "code",
        "outputId": "e44635c5-aba5-416d-9a78-f7d24f9b3d18",
        "colab": {
          "base_uri": "https://localhost:8080/",
          "height": 187
        }
      },
      "source": [
        "import time\n",
        "def compute():\n",
        "    for i in range(10):\n",
        "        time.sleep(.5)\n",
        "        yield i\n",
        "\n",
        "for val in compute():\n",
        "    print(val)\n"
      ],
      "execution_count": 245,
      "outputs": [
        {
          "output_type": "stream",
          "text": [
            "0\n",
            "1\n",
            "2\n",
            "3\n",
            "4\n",
            "5\n",
            "6\n",
            "7\n",
            "8\n",
            "9\n"
          ],
          "name": "stdout"
        }
      ]
    },
    {
      "cell_type": "code",
      "metadata": {
        "id": "2SxlXRDEIkw1",
        "colab_type": "code",
        "outputId": "5e0d7aa9-3bbc-43e5-f1e1-0df9f2b060bf",
        "colab": {
          "base_uri": "https://localhost:8080/",
          "height": 34
        }
      },
      "source": [
        " de = 'decs'\n",
        " de.split()"
      ],
      "execution_count": 0,
      "outputs": [
        {
          "output_type": "execute_result",
          "data": {
            "text/plain": [
              "['decs']"
            ]
          },
          "metadata": {
            "tags": []
          },
          "execution_count": 3
        }
      ]
    },
    {
      "cell_type": "code",
      "metadata": {
        "id": "kGbcVb3W0cXC",
        "colab_type": "code",
        "colab": {}
      },
      "source": [
        ""
      ],
      "execution_count": 0,
      "outputs": []
    }
  ]
}