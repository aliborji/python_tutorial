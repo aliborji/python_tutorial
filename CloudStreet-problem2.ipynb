{
 "cells": [
  {
   "cell_type": "code",
   "execution_count": 321,
   "metadata": {},
   "outputs": [],
   "source": [
    "def count_hits(pattern, guess):\n",
    "    patt_dict = {}\n",
    "    guess_dict = {}\n",
    "    for i in range(len(pattern)):\n",
    "        x = patt_dict.get(pattern[i], [])\n",
    "        x.append(i)\n",
    "        patt_dict[pattern[i]] = x\n",
    "\n",
    "    for i in range(len(guess)):    \n",
    "        x = guess_dict.get(guess[i], [])\n",
    "        x.append(i)\n",
    "        guess_dict[guess[i]] = x\n",
    "\n",
    "\n",
    "    pseudo_hit = hit = 0\n",
    "\n",
    "    for key,val in patt_dict.items():\n",
    "        if guess_dict.get(key,[]):\n",
    "            match = set(guess_dict[key]).intersection(val)\n",
    "            hit += len(match)\n",
    "            pseudo_hit += min(len(guess_dict[key]),len(val)) - len(match)\n",
    "            \n",
    "    return hit, pseudo_hit"
   ]
  },
  {
   "cell_type": "markdown",
   "metadata": {},
   "source": [
    "### Testing"
   ]
  },
  {
   "cell_type": "code",
   "execution_count": 107,
   "metadata": {},
   "outputs": [
    {
     "name": "stdout",
     "output_type": "stream",
     "text": [
      "hit: 0\n",
      "pseudo_hit: 2\n"
     ]
    }
   ],
   "source": [
    "pattern = 'CCCD'\n",
    "guess   = 'DDDC'\n",
    "hit, pseudo_hit = count_hits(pattern, guess)\n",
    "print(f'hit: {hit}')\n",
    "print(f'pseudo_hit: {pseudo_hit}')\n",
    "\n"
   ]
  },
  {
   "cell_type": "markdown",
   "metadata": {},
   "source": [
    "## Solution I: Eliminating the patterns that do not match with the guess from the list of all possible patterns"
   ]
  },
  {
   "cell_type": "code",
   "execution_count": 372,
   "metadata": {},
   "outputs": [],
   "source": [
    "def find_pattern(patterns_list):\n",
    "    first_guess = patterns_list[0]\n",
    "    ha, pa = count_hits(pattern, first_guess)\n",
    "    if ha==4: return first_guess, 1\n",
    "    patterns_list.remove(first_guess)\n",
    "    count = 1\n",
    "    while len(patterns_list)!=1:\n",
    "        # remove non match patterns\n",
    "        for m in patterns_list:\n",
    "            hm, pm = count_hits(m, first_guess)\n",
    "            if not (hm==ha and pm==pa):\n",
    "                patterns_list.remove(m)\n",
    "\n",
    "        idx = random.randint(0,len(patterns_list)-1)                \n",
    "        first_guess = patterns_list[idx]    \n",
    "        ha, pa = count_hits(pattern, first_guess)\n",
    "        count += 1\n",
    "\n",
    "    return first_guess, count    "
   ]
  },
  {
   "cell_type": "code",
   "execution_count": 381,
   "metadata": {},
   "outputs": [
    {
     "name": "stdout",
     "output_type": "stream",
     "text": [
      "average number of queries = 9.873333333333333\n"
     ]
    }
   ],
   "source": [
    "import random\n",
    "res = []\n",
    "for k in range(300):\n",
    "    patterns_list = [''.join(_) for _ in product('ABCD', repeat=4)]\n",
    "\n",
    "    patterns_list.remove('AABB')\n",
    "    patterns_list.remove('BBCC')\n",
    "    patterns_list.remove('CCDD')\n",
    "    patterns_list.remove('DDAA')\n",
    "    patterns_list.insert(0,'DDAA')\n",
    "    patterns_list.insert(0,'CCDD')\n",
    "    patterns_list.insert(0,'BBCC')\n",
    "    patterns_list.insert(0,'AABB')\n",
    "\n",
    "    idx = random.randint(0,len(patterns_list)-1)                \n",
    "    pattern = patterns_list[idx]\n",
    "    ans, count = find_pattern(patterns_list)\n",
    "    \n",
    "    res.append(count)\n",
    "\n",
    "print(f'average number of queries = {sum(res)/len(res)}')"
   ]
  },
  {
   "cell_type": "markdown",
   "metadata": {},
   "source": [
    "On average solution I takes about 9.5 to 10 guesses, not very good!!"
   ]
  },
  {
   "cell_type": "markdown",
   "metadata": {},
   "source": [
    "## Solution II: As in I but with the following heuristic:\n",
    "## The score of a guess is the minimum number of patterns it can eliminate from the set of all possible scores."
   ]
  },
  {
   "cell_type": "code",
   "execution_count": 373,
   "metadata": {},
   "outputs": [],
   "source": [
    "# def tmp_f(pattern, guess):\n",
    "#     x,y = count_hits(pattern, guess)\n",
    "#     return x+y\n",
    "\n",
    "def find_pattern_optimized(patterns_list):\n",
    "    all_codes = patterns_list \n",
    "    patterns_list = all_codes\n",
    "    key = lambda g: max(Counter(count_hits(g, _) for _ in patterns_list).values())\n",
    "#   key = lambda g: max(Counter(tmp_f(g, _) for _ in patterns_list).values())\n",
    "\n",
    "    guess = 'AABB'\n",
    "    count = 0\n",
    "    while True:\n",
    "        count += 1\n",
    "        ha, pa = count_hits(pattern, guess)\n",
    "        if guess == pattern:\n",
    "            return count\n",
    "\n",
    "        for m in patterns_list:\n",
    "            hm, pm = count_hits(m, guess)\n",
    "            if not (hm==ha and pm==pa):\n",
    "                patterns_list.remove(m)\n",
    "\n",
    "        if len(patterns_list) == 1:\n",
    "            guess = patterns_list[0]\n",
    "        else:\n",
    "            guess = min(all_codes, key=key) \n",
    "            # this heuristic selects the guess with the minimum of number of max matches in the list of all possible patterns \n",
    "\n",
    "    return count"
   ]
  },
  {
   "cell_type": "code",
   "execution_count": 382,
   "metadata": {},
   "outputs": [
    {
     "name": "stdout",
     "output_type": "stream",
     "text": [
      "average number of queries = 8.1\n"
     ]
    }
   ],
   "source": [
    "from random import randint\n",
    "from collections import Counter\n",
    "res = []\n",
    "for k in range(100):\n",
    "    patterns_list = [''.join(_) for _ in product('ABCD', repeat=4)]\n",
    "\n",
    "    idx = randint(0,len(patterns_list)-1)                \n",
    "    pattern = patterns_list[idx]\n",
    "    count = find_pattern_optimized(patterns_list)\n",
    "    \n",
    "    res.append(count)\n",
    "\n",
    "print(f'average number of queries = {sum(res)/len(res)}')"
   ]
  },
  {
   "cell_type": "markdown",
   "metadata": {},
   "source": [
    "On average solution II takes about 7 to 8 guesses, better but perhaps not the best that can be achieved!!!\n",
    "Also, this one is slower than the first one."
   ]
  },
  {
   "cell_type": "code",
   "execution_count": null,
   "metadata": {},
   "outputs": [],
   "source": []
  }
 ],
 "metadata": {
  "kernelspec": {
   "display_name": "Python 3",
   "language": "python",
   "name": "python3"
  },
  "language_info": {
   "codemirror_mode": {
    "name": "ipython",
    "version": 3
   },
   "file_extension": ".py",
   "mimetype": "text/x-python",
   "name": "python",
   "nbconvert_exporter": "python",
   "pygments_lexer": "ipython3",
   "version": "3.7.6"
  }
 },
 "nbformat": 4,
 "nbformat_minor": 4
}
